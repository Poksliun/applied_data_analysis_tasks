{
 "cells": [
  {
   "cell_type": "code",
   "execution_count": 295,
   "outputs": [],
   "source": [
    "import pandas as pd # Импорт библиотеки pandas"
   ],
   "metadata": {
    "collapsed": false
   }
  },
  {
   "cell_type": "code",
   "execution_count": 296,
   "outputs": [],
   "source": [
    "df = pd.read_csv('csv_dir/dataset_Facebook.csv', sep=';') # Считывание файла dataset_Facebook.csv"
   ],
   "metadata": {
    "collapsed": false
   }
  },
  {
   "cell_type": "code",
   "execution_count": 297,
   "outputs": [
    {
     "data": {
      "text/plain": "   Page total likes    Type  Category  Post Month  Post Weekday  Post Hour  \\\n0            139441   Photo         2          12           4.0          3   \n1            139441  Status         2          12           3.0         10   \n2            139441   Photo         3          12           3.0          3   \n3            139441   Photo         2          12           2.0         10   \n4            139441   Photo         2          12           2.0          3   \n\n   Paid  Lifetime Post Total Reach  Lifetime Post Total Impressions  \\\n0   0.0                     2752.0                           5091.0   \n1   0.0                    10460.0                          19057.0   \n2   0.0                     2413.0                           4373.0   \n3   1.0                    50128.0                          87991.0   \n4   0.0                     7244.0                          13594.0   \n\n   Lifetime Engaged Users  Lifetime Post Consumers  \\\n0                   178.0                    109.0   \n1                  1457.0                   1361.0   \n2                   177.0                    113.0   \n3                  2211.0                    790.0   \n4                   671.0                    410.0   \n\n   Lifetime Post Consumptions  \\\n0                       159.0   \n1                      1674.0   \n2                       154.0   \n3                      1119.0   \n4                       580.0   \n\n   Lifetime Post Impressions by people who have liked your Page  \\\n0                                             3078.0              \n1                                            11710.0              \n2                                             2812.0              \n3                                            61027.0              \n4                                             6228.0              \n\n   Lifetime Post reach by people who like your Page  \\\n0                                            1640.0   \n1                                            6112.0   \n2                                            1503.0   \n3                                           32048.0   \n4                                            3200.0   \n\n   Lifetime People who have liked your Page and engaged with your post  \\\n0                                              119.0                     \n1                                             1108.0                     \n2                                              132.0                     \n3                                             1386.0                     \n4                                              396.0                     \n\n   comment    like  share  Total Interactions  \n0      4.0    79.0   17.0                 100  \n1      5.0   130.0   29.0                 164  \n2      0.0    66.0   14.0                  80  \n3     58.0  1572.0  147.0                1777  \n4     19.0   325.0   49.0                 393  ",
      "text/html": "<div>\n<style scoped>\n    .dataframe tbody tr th:only-of-type {\n        vertical-align: middle;\n    }\n\n    .dataframe tbody tr th {\n        vertical-align: top;\n    }\n\n    .dataframe thead th {\n        text-align: right;\n    }\n</style>\n<table border=\"1\" class=\"dataframe\">\n  <thead>\n    <tr style=\"text-align: right;\">\n      <th></th>\n      <th>Page total likes</th>\n      <th>Type</th>\n      <th>Category</th>\n      <th>Post Month</th>\n      <th>Post Weekday</th>\n      <th>Post Hour</th>\n      <th>Paid</th>\n      <th>Lifetime Post Total Reach</th>\n      <th>Lifetime Post Total Impressions</th>\n      <th>Lifetime Engaged Users</th>\n      <th>Lifetime Post Consumers</th>\n      <th>Lifetime Post Consumptions</th>\n      <th>Lifetime Post Impressions by people who have liked your Page</th>\n      <th>Lifetime Post reach by people who like your Page</th>\n      <th>Lifetime People who have liked your Page and engaged with your post</th>\n      <th>comment</th>\n      <th>like</th>\n      <th>share</th>\n      <th>Total Interactions</th>\n    </tr>\n  </thead>\n  <tbody>\n    <tr>\n      <th>0</th>\n      <td>139441</td>\n      <td>Photo</td>\n      <td>2</td>\n      <td>12</td>\n      <td>4.0</td>\n      <td>3</td>\n      <td>0.0</td>\n      <td>2752.0</td>\n      <td>5091.0</td>\n      <td>178.0</td>\n      <td>109.0</td>\n      <td>159.0</td>\n      <td>3078.0</td>\n      <td>1640.0</td>\n      <td>119.0</td>\n      <td>4.0</td>\n      <td>79.0</td>\n      <td>17.0</td>\n      <td>100</td>\n    </tr>\n    <tr>\n      <th>1</th>\n      <td>139441</td>\n      <td>Status</td>\n      <td>2</td>\n      <td>12</td>\n      <td>3.0</td>\n      <td>10</td>\n      <td>0.0</td>\n      <td>10460.0</td>\n      <td>19057.0</td>\n      <td>1457.0</td>\n      <td>1361.0</td>\n      <td>1674.0</td>\n      <td>11710.0</td>\n      <td>6112.0</td>\n      <td>1108.0</td>\n      <td>5.0</td>\n      <td>130.0</td>\n      <td>29.0</td>\n      <td>164</td>\n    </tr>\n    <tr>\n      <th>2</th>\n      <td>139441</td>\n      <td>Photo</td>\n      <td>3</td>\n      <td>12</td>\n      <td>3.0</td>\n      <td>3</td>\n      <td>0.0</td>\n      <td>2413.0</td>\n      <td>4373.0</td>\n      <td>177.0</td>\n      <td>113.0</td>\n      <td>154.0</td>\n      <td>2812.0</td>\n      <td>1503.0</td>\n      <td>132.0</td>\n      <td>0.0</td>\n      <td>66.0</td>\n      <td>14.0</td>\n      <td>80</td>\n    </tr>\n    <tr>\n      <th>3</th>\n      <td>139441</td>\n      <td>Photo</td>\n      <td>2</td>\n      <td>12</td>\n      <td>2.0</td>\n      <td>10</td>\n      <td>1.0</td>\n      <td>50128.0</td>\n      <td>87991.0</td>\n      <td>2211.0</td>\n      <td>790.0</td>\n      <td>1119.0</td>\n      <td>61027.0</td>\n      <td>32048.0</td>\n      <td>1386.0</td>\n      <td>58.0</td>\n      <td>1572.0</td>\n      <td>147.0</td>\n      <td>1777</td>\n    </tr>\n    <tr>\n      <th>4</th>\n      <td>139441</td>\n      <td>Photo</td>\n      <td>2</td>\n      <td>12</td>\n      <td>2.0</td>\n      <td>3</td>\n      <td>0.0</td>\n      <td>7244.0</td>\n      <td>13594.0</td>\n      <td>671.0</td>\n      <td>410.0</td>\n      <td>580.0</td>\n      <td>6228.0</td>\n      <td>3200.0</td>\n      <td>396.0</td>\n      <td>19.0</td>\n      <td>325.0</td>\n      <td>49.0</td>\n      <td>393</td>\n    </tr>\n  </tbody>\n</table>\n</div>"
     },
     "execution_count": 297,
     "metadata": {},
     "output_type": "execute_result"
    }
   ],
   "source": [
    "df.head()"
   ],
   "metadata": {
    "collapsed": false
   }
  },
  {
   "cell_type": "code",
   "execution_count": 298,
   "outputs": [],
   "source": [
    "df = df.drop(['Type'], axis=1) # Удаляем катигориальные столбцы\n",
    "df = df.dropna() # Удаляем строки со значениями NaN\n",
    "df = df.reset_index(drop=True) # Перераспределяем индексы"
   ],
   "metadata": {
    "collapsed": false
   }
  },
  {
   "cell_type": "code",
   "execution_count": 299,
   "outputs": [
    {
     "name": "stdout",
     "output_type": "stream",
     "text": [
      "Размер DataFrame: (442, 18)\n"
     ]
    }
   ],
   "source": [
    "print(\"Размер DataFrame: {}\".format(df.shape))"
   ],
   "metadata": {
    "collapsed": false
   }
  },
  {
   "cell_type": "code",
   "execution_count": 300,
   "outputs": [],
   "source": [
    "y = df['Paid'] # Инициализируем целевую переменную\n",
    "df = df.drop('Paid', axis=1) # Удаляем столбец с целевой переменной из исходного DataFrame"
   ],
   "metadata": {
    "collapsed": false
   }
  },
  {
   "cell_type": "code",
   "execution_count": 301,
   "outputs": [],
   "source": [
    "from sklearn.metrics import precision_score, recall_score, accuracy_score, f1_score, classification_report # Импортируем метрики и метод формирующий отчет\n",
    "from sklearn.model_selection import train_test_split # импортируем функцию разделения DataFrame на обучающую и тестовую выборки"
   ],
   "metadata": {
    "collapsed": false
   }
  },
  {
   "cell_type": "code",
   "execution_count": 302,
   "outputs": [
    {
     "data": {
      "text/plain": "82"
     },
     "execution_count": 302,
     "metadata": {},
     "output_type": "execute_result"
    }
   ],
   "source": [
    "x_train, x_test, y_train, y_test = train_test_split(df, y, test_size=0.33, random_state=777, stratify=y) # Инициализация обучающих и тестовых выборок\n",
    "list(y_train).count(0)\n",
    "list(y_train).count(1)"
   ],
   "metadata": {
    "collapsed": false
   }
  },
  {
   "cell_type": "code",
   "execution_count": 303,
   "outputs": [
    {
     "name": "stdout",
     "output_type": "stream",
     "text": [
      "Размер обучающей выборки по x: (296, 17);\n",
      "размер тестовой выборки по x: (146, 17);\n",
      "размер обучающей выборки по ответам: (146,);\n",
      "размер тестовой выборки по ответам: (146,).\n",
      "\n"
     ]
    }
   ],
   "source": [
    "print(\n",
    "      \"Размер обучающей выборки по x: {};\\n\"\n",
    "      \"размер тестовой выборки по x: {};\\n\"\n",
    "      \"размер обучающей выборки по ответам: {};\\n\"\n",
    "      \"размер тестовой выборки по ответам: {}.\\n\".format(\n",
    "            x_train.shape, x_test.shape, y_test.shape, y_test.shape\n",
    "      )\n",
    ")"
   ],
   "metadata": {
    "collapsed": false
   }
  },
  {
   "cell_type": "code",
   "execution_count": 304,
   "outputs": [],
   "source": [
    "from sklearn.linear_model import LogisticRegression # Импортируем модель машинного обучения"
   ],
   "metadata": {
    "collapsed": false
   }
  },
  {
   "cell_type": "code",
   "execution_count": 305,
   "outputs": [],
   "source": [
    "model = LogisticRegression(max_iter=10000) # Инициализируем модель\n",
    "model.fit(x_train, y_train) # Обучаем модель\n",
    "predict = model.predict(x_test) # Делаем предсказание"
   ],
   "metadata": {
    "collapsed": false
   }
  },
  {
   "cell_type": "code",
   "execution_count": 306,
   "outputs": [
    {
     "name": "stdout",
     "output_type": "stream",
     "text": [
      "Модель ошибается в 39.0 случаях\n"
     ]
    }
   ],
   "source": [
    "print(\"Модель ошибается в {} случаях\".format(sum(abs(y_test - predict))))"
   ],
   "metadata": {
    "collapsed": false
   }
  },
  {
   "cell_type": "code",
   "execution_count": 307,
   "outputs": [
    {
     "name": "stdout",
     "output_type": "stream",
     "text": [
      "\t\t\t\t\tОтчет по метрикам\n",
      "              precision    recall  f1-score   support\n",
      "\n",
      "         0.0       0.74      0.97      0.84       106\n",
      "         1.0       0.57      0.10      0.17        40\n",
      "\n",
      "    accuracy                           0.73       146\n",
      "   macro avg       0.66      0.54      0.51       146\n",
      "weighted avg       0.69      0.73      0.66       146\n",
      "\n"
     ]
    }
   ],
   "source": [
    "print(\"\\t\"*5 + \"Отчет по метрикам\")\n",
    "print(classification_report(y_test, predict)) # Вывод таблицы с метриками"
   ],
   "metadata": {
    "collapsed": false
   }
  },
  {
   "cell_type": "code",
   "execution_count": 308,
   "outputs": [],
   "source": [
    "test_predict = [y_test, predict]"
   ],
   "metadata": {
    "collapsed": false
   }
  },
  {
   "cell_type": "code",
   "execution_count": 309,
   "outputs": [
    {
     "name": "stdout",
     "output_type": "stream",
     "text": [
      "Значение precession: 0.5714285714285714;\n",
      "значение recall: 0.1;\n",
      "значение accuracy: 0.7328767123287672;\n",
      "значение f1: 0.1702127659574468.\n"
     ]
    }
   ],
   "source": [
    "print(\n",
    "      \"Значение precession: {};\\n\"\n",
    "      \"значение recall: {};\\n\"\n",
    "      \"значение accuracy: {};\\n\"\n",
    "      \"значение f1: {}.\".format(\n",
    "            precision_score(*test_predict),\n",
    "            recall_score(*test_predict),\n",
    "            accuracy_score(*test_predict),\n",
    "            f1_score(*test_predict)\n",
    "      )\n",
    ")\n"
   ],
   "metadata": {
    "collapsed": false
   }
  },
  {
   "cell_type": "markdown",
   "source": [],
   "metadata": {
    "collapsed": false
   }
  },
  {
   "cell_type": "markdown",
   "source": [
    "Из полученных данных в результате выполнения алгоритма видно, что алгоритм точнее прогнозирует нули чем единицы, при этом доля прогнозов единиц очень низкая из чего следует,что алгоритм, обученный на данном датасете не научился правильно определять единицы. Так же это подтверждается значениями F-меры.\n",
    "Т.о. можно сказать, что метод логистической регресси плохо подходит для задачи классификации рассматриваемых данных и не может так как дает недостаточно точные результаты. Во время исследования рассматривались различные выборки как по соотношению обучающая-тестовая, так и по наполнению выборки элементами с помощью различных значений \"random_state\", при этом результаты могли отличаться до 0.1, что все равно не давало необходимой точности."
   ],
   "metadata": {
    "collapsed": false
   }
  }
 ],
 "metadata": {
  "kernelspec": {
   "display_name": "Python 3",
   "language": "python",
   "name": "python3"
  },
  "language_info": {
   "codemirror_mode": {
    "name": "ipython",
    "version": 2
   },
   "file_extension": ".py",
   "mimetype": "text/x-python",
   "name": "python",
   "nbconvert_exporter": "python",
   "pygments_lexer": "ipython2",
   "version": "2.7.6"
  }
 },
 "nbformat": 4,
 "nbformat_minor": 0
}
