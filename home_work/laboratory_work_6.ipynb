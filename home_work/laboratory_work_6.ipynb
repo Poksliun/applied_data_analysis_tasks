{
 "cells": [
  {
   "cell_type": "code",
   "execution_count": 248,
   "metadata": {
    "collapsed": true,
    "pycharm": {
     "name": "#%%\n"
    }
   },
   "outputs": [],
   "source": [
    "import pandas as pd"
   ]
  },
  {
   "cell_type": "code",
   "execution_count": 249,
   "outputs": [],
   "source": [
    "df = pd.read_csv('csv_dir/dataset_Facebook.csv', sep=';')"
   ],
   "metadata": {
    "collapsed": false,
    "pycharm": {
     "name": "#%%\n"
    }
   }
  },
  {
   "cell_type": "code",
   "execution_count": 250,
   "outputs": [
    {
     "data": {
      "text/plain": "   Page total likes    Type  Category  Post Month  Post Weekday  Post Hour  \\\n0            139441   Photo         2          12           4.0          3   \n1            139441  Status         2          12           3.0         10   \n2            139441   Photo         3          12           3.0          3   \n3            139441   Photo         2          12           2.0         10   \n4            139441   Photo         2          12           2.0          3   \n\n   Paid  Lifetime Post Total Reach  Lifetime Post Total Impressions  \\\n0   0.0                     2752.0                           5091.0   \n1   0.0                    10460.0                          19057.0   \n2   0.0                     2413.0                           4373.0   \n3   1.0                    50128.0                          87991.0   \n4   0.0                     7244.0                          13594.0   \n\n   Lifetime Engaged Users  Lifetime Post Consumers  \\\n0                   178.0                    109.0   \n1                  1457.0                   1361.0   \n2                   177.0                    113.0   \n3                  2211.0                    790.0   \n4                   671.0                    410.0   \n\n   Lifetime Post Consumptions  \\\n0                       159.0   \n1                      1674.0   \n2                       154.0   \n3                      1119.0   \n4                       580.0   \n\n   Lifetime Post Impressions by people who have liked your Page  \\\n0                                             3078.0              \n1                                            11710.0              \n2                                             2812.0              \n3                                            61027.0              \n4                                             6228.0              \n\n   Lifetime Post reach by people who like your Page  \\\n0                                            1640.0   \n1                                            6112.0   \n2                                            1503.0   \n3                                           32048.0   \n4                                            3200.0   \n\n   Lifetime People who have liked your Page and engaged with your post  \\\n0                                              119.0                     \n1                                             1108.0                     \n2                                              132.0                     \n3                                             1386.0                     \n4                                              396.0                     \n\n   comment    like  share  Total Interactions  \n0      4.0    79.0   17.0                 100  \n1      5.0   130.0   29.0                 164  \n2      0.0    66.0   14.0                  80  \n3     58.0  1572.0  147.0                1777  \n4     19.0   325.0   49.0                 393  ",
      "text/html": "<div>\n<style scoped>\n    .dataframe tbody tr th:only-of-type {\n        vertical-align: middle;\n    }\n\n    .dataframe tbody tr th {\n        vertical-align: top;\n    }\n\n    .dataframe thead th {\n        text-align: right;\n    }\n</style>\n<table border=\"1\" class=\"dataframe\">\n  <thead>\n    <tr style=\"text-align: right;\">\n      <th></th>\n      <th>Page total likes</th>\n      <th>Type</th>\n      <th>Category</th>\n      <th>Post Month</th>\n      <th>Post Weekday</th>\n      <th>Post Hour</th>\n      <th>Paid</th>\n      <th>Lifetime Post Total Reach</th>\n      <th>Lifetime Post Total Impressions</th>\n      <th>Lifetime Engaged Users</th>\n      <th>Lifetime Post Consumers</th>\n      <th>Lifetime Post Consumptions</th>\n      <th>Lifetime Post Impressions by people who have liked your Page</th>\n      <th>Lifetime Post reach by people who like your Page</th>\n      <th>Lifetime People who have liked your Page and engaged with your post</th>\n      <th>comment</th>\n      <th>like</th>\n      <th>share</th>\n      <th>Total Interactions</th>\n    </tr>\n  </thead>\n  <tbody>\n    <tr>\n      <th>0</th>\n      <td>139441</td>\n      <td>Photo</td>\n      <td>2</td>\n      <td>12</td>\n      <td>4.0</td>\n      <td>3</td>\n      <td>0.0</td>\n      <td>2752.0</td>\n      <td>5091.0</td>\n      <td>178.0</td>\n      <td>109.0</td>\n      <td>159.0</td>\n      <td>3078.0</td>\n      <td>1640.0</td>\n      <td>119.0</td>\n      <td>4.0</td>\n      <td>79.0</td>\n      <td>17.0</td>\n      <td>100</td>\n    </tr>\n    <tr>\n      <th>1</th>\n      <td>139441</td>\n      <td>Status</td>\n      <td>2</td>\n      <td>12</td>\n      <td>3.0</td>\n      <td>10</td>\n      <td>0.0</td>\n      <td>10460.0</td>\n      <td>19057.0</td>\n      <td>1457.0</td>\n      <td>1361.0</td>\n      <td>1674.0</td>\n      <td>11710.0</td>\n      <td>6112.0</td>\n      <td>1108.0</td>\n      <td>5.0</td>\n      <td>130.0</td>\n      <td>29.0</td>\n      <td>164</td>\n    </tr>\n    <tr>\n      <th>2</th>\n      <td>139441</td>\n      <td>Photo</td>\n      <td>3</td>\n      <td>12</td>\n      <td>3.0</td>\n      <td>3</td>\n      <td>0.0</td>\n      <td>2413.0</td>\n      <td>4373.0</td>\n      <td>177.0</td>\n      <td>113.0</td>\n      <td>154.0</td>\n      <td>2812.0</td>\n      <td>1503.0</td>\n      <td>132.0</td>\n      <td>0.0</td>\n      <td>66.0</td>\n      <td>14.0</td>\n      <td>80</td>\n    </tr>\n    <tr>\n      <th>3</th>\n      <td>139441</td>\n      <td>Photo</td>\n      <td>2</td>\n      <td>12</td>\n      <td>2.0</td>\n      <td>10</td>\n      <td>1.0</td>\n      <td>50128.0</td>\n      <td>87991.0</td>\n      <td>2211.0</td>\n      <td>790.0</td>\n      <td>1119.0</td>\n      <td>61027.0</td>\n      <td>32048.0</td>\n      <td>1386.0</td>\n      <td>58.0</td>\n      <td>1572.0</td>\n      <td>147.0</td>\n      <td>1777</td>\n    </tr>\n    <tr>\n      <th>4</th>\n      <td>139441</td>\n      <td>Photo</td>\n      <td>2</td>\n      <td>12</td>\n      <td>2.0</td>\n      <td>3</td>\n      <td>0.0</td>\n      <td>7244.0</td>\n      <td>13594.0</td>\n      <td>671.0</td>\n      <td>410.0</td>\n      <td>580.0</td>\n      <td>6228.0</td>\n      <td>3200.0</td>\n      <td>396.0</td>\n      <td>19.0</td>\n      <td>325.0</td>\n      <td>49.0</td>\n      <td>393</td>\n    </tr>\n  </tbody>\n</table>\n</div>"
     },
     "execution_count": 250,
     "metadata": {},
     "output_type": "execute_result"
    }
   ],
   "source": [
    "df.head()"
   ],
   "metadata": {
    "collapsed": false,
    "pycharm": {
     "name": "#%%\n"
    }
   }
  },
  {
   "cell_type": "code",
   "execution_count": 251,
   "outputs": [],
   "source": [
    "df = df.drop([\"Type\"], axis=1)\n",
    "df = df.dropna()\n",
    "df = df.reset_index(drop=True)"
   ],
   "metadata": {
    "collapsed": false,
    "pycharm": {
     "name": "#%%\n"
    }
   }
  },
  {
   "cell_type": "code",
   "execution_count": 252,
   "outputs": [
    {
     "data": {
      "text/plain": "     Page total likes  Category  Post Month  Post Weekday  Post Hour  \\\n0              139441         2          12           4.0          3   \n1              139441         2          12           3.0         10   \n2              139441         3          12           3.0          3   \n3              139441         2          12           2.0         10   \n4              139441         2          12           2.0          3   \n..                ...       ...         ...           ...        ...   \n437             85093         3           1           7.0         10   \n438             85093         3           1           7.0          2   \n439             81370         2           1           5.0          8   \n440             81370         1           1           5.0          2   \n441             81370         3           1           4.0         11   \n\n     Lifetime Post Total Reach  Lifetime Post Total Impressions  \\\n0                       2752.0                           5091.0   \n1                      10460.0                          19057.0   \n2                       2413.0                           4373.0   \n3                      50128.0                          87991.0   \n4                       7244.0                          13594.0   \n..                         ...                              ...   \n437                     5400.0                           9218.0   \n438                     4684.0                           7536.0   \n439                     3480.0                           6229.0   \n440                     3778.0                           7216.0   \n441                     4156.0                           7564.0   \n\n     Lifetime Engaged Users  Lifetime Post Consumers  \\\n0                     178.0                    109.0   \n1                    1457.0                   1361.0   \n2                     177.0                    113.0   \n3                    2211.0                    790.0   \n4                     671.0                    410.0   \n..                      ...                      ...   \n437                   810.0                    756.0   \n438                   733.0                    708.0   \n439                   537.0                    508.0   \n440                   625.0                    572.0   \n441                   626.0                    574.0   \n\n     Lifetime Post Consumptions  \\\n0                         159.0   \n1                        1674.0   \n2                         154.0   \n3                        1119.0   \n4                         580.0   \n..                          ...   \n437                      1003.0   \n438                       985.0   \n439                       687.0   \n440                       795.0   \n441                       832.0   \n\n     Lifetime Post Impressions by people who have liked your Page  \\\n0                                               3078.0              \n1                                              11710.0              \n2                                               2812.0              \n3                                              61027.0              \n4                                               6228.0              \n..                                                 ...              \n437                                             5654.0              \n438                                             4750.0              \n439                                             3961.0              \n440                                             4742.0              \n441                                             4534.0              \n\n     Lifetime Post reach by people who like your Page  \\\n0                                              1640.0   \n1                                              6112.0   \n2                                              1503.0   \n3                                             32048.0   \n4                                              3200.0   \n..                                                ...   \n437                                            3230.0   \n438                                            2876.0   \n439                                            2104.0   \n440                                            2388.0   \n441                                            2452.0   \n\n     Lifetime People who have liked your Page and engaged with your post  \\\n0                                                119.0                     \n1                                               1108.0                     \n2                                                132.0                     \n3                                               1386.0                     \n4                                                396.0                     \n..                                                 ...                     \n437                                              422.0                     \n438                                              392.0                     \n439                                              301.0                     \n440                                              363.0                     \n441                                              370.0                     \n\n     comment    like  share  Total Interactions  \n0        4.0    79.0   17.0                 100  \n1        5.0   130.0   29.0                 164  \n2        0.0    66.0   14.0                  80  \n3       58.0  1572.0  147.0                1777  \n4       19.0   325.0   49.0                 393  \n..       ...     ...    ...                 ...  \n437     10.0   125.0   41.0                 176  \n438      5.0    53.0   26.0                  84  \n439      0.0    53.0   22.0                  75  \n440      4.0    93.0   18.0                 115  \n441      7.0    91.0   38.0                 136  \n\n[442 rows x 17 columns]",
      "text/html": "<div>\n<style scoped>\n    .dataframe tbody tr th:only-of-type {\n        vertical-align: middle;\n    }\n\n    .dataframe tbody tr th {\n        vertical-align: top;\n    }\n\n    .dataframe thead th {\n        text-align: right;\n    }\n</style>\n<table border=\"1\" class=\"dataframe\">\n  <thead>\n    <tr style=\"text-align: right;\">\n      <th></th>\n      <th>Page total likes</th>\n      <th>Category</th>\n      <th>Post Month</th>\n      <th>Post Weekday</th>\n      <th>Post Hour</th>\n      <th>Lifetime Post Total Reach</th>\n      <th>Lifetime Post Total Impressions</th>\n      <th>Lifetime Engaged Users</th>\n      <th>Lifetime Post Consumers</th>\n      <th>Lifetime Post Consumptions</th>\n      <th>Lifetime Post Impressions by people who have liked your Page</th>\n      <th>Lifetime Post reach by people who like your Page</th>\n      <th>Lifetime People who have liked your Page and engaged with your post</th>\n      <th>comment</th>\n      <th>like</th>\n      <th>share</th>\n      <th>Total Interactions</th>\n    </tr>\n  </thead>\n  <tbody>\n    <tr>\n      <th>0</th>\n      <td>139441</td>\n      <td>2</td>\n      <td>12</td>\n      <td>4.0</td>\n      <td>3</td>\n      <td>2752.0</td>\n      <td>5091.0</td>\n      <td>178.0</td>\n      <td>109.0</td>\n      <td>159.0</td>\n      <td>3078.0</td>\n      <td>1640.0</td>\n      <td>119.0</td>\n      <td>4.0</td>\n      <td>79.0</td>\n      <td>17.0</td>\n      <td>100</td>\n    </tr>\n    <tr>\n      <th>1</th>\n      <td>139441</td>\n      <td>2</td>\n      <td>12</td>\n      <td>3.0</td>\n      <td>10</td>\n      <td>10460.0</td>\n      <td>19057.0</td>\n      <td>1457.0</td>\n      <td>1361.0</td>\n      <td>1674.0</td>\n      <td>11710.0</td>\n      <td>6112.0</td>\n      <td>1108.0</td>\n      <td>5.0</td>\n      <td>130.0</td>\n      <td>29.0</td>\n      <td>164</td>\n    </tr>\n    <tr>\n      <th>2</th>\n      <td>139441</td>\n      <td>3</td>\n      <td>12</td>\n      <td>3.0</td>\n      <td>3</td>\n      <td>2413.0</td>\n      <td>4373.0</td>\n      <td>177.0</td>\n      <td>113.0</td>\n      <td>154.0</td>\n      <td>2812.0</td>\n      <td>1503.0</td>\n      <td>132.0</td>\n      <td>0.0</td>\n      <td>66.0</td>\n      <td>14.0</td>\n      <td>80</td>\n    </tr>\n    <tr>\n      <th>3</th>\n      <td>139441</td>\n      <td>2</td>\n      <td>12</td>\n      <td>2.0</td>\n      <td>10</td>\n      <td>50128.0</td>\n      <td>87991.0</td>\n      <td>2211.0</td>\n      <td>790.0</td>\n      <td>1119.0</td>\n      <td>61027.0</td>\n      <td>32048.0</td>\n      <td>1386.0</td>\n      <td>58.0</td>\n      <td>1572.0</td>\n      <td>147.0</td>\n      <td>1777</td>\n    </tr>\n    <tr>\n      <th>4</th>\n      <td>139441</td>\n      <td>2</td>\n      <td>12</td>\n      <td>2.0</td>\n      <td>3</td>\n      <td>7244.0</td>\n      <td>13594.0</td>\n      <td>671.0</td>\n      <td>410.0</td>\n      <td>580.0</td>\n      <td>6228.0</td>\n      <td>3200.0</td>\n      <td>396.0</td>\n      <td>19.0</td>\n      <td>325.0</td>\n      <td>49.0</td>\n      <td>393</td>\n    </tr>\n    <tr>\n      <th>...</th>\n      <td>...</td>\n      <td>...</td>\n      <td>...</td>\n      <td>...</td>\n      <td>...</td>\n      <td>...</td>\n      <td>...</td>\n      <td>...</td>\n      <td>...</td>\n      <td>...</td>\n      <td>...</td>\n      <td>...</td>\n      <td>...</td>\n      <td>...</td>\n      <td>...</td>\n      <td>...</td>\n      <td>...</td>\n    </tr>\n    <tr>\n      <th>437</th>\n      <td>85093</td>\n      <td>3</td>\n      <td>1</td>\n      <td>7.0</td>\n      <td>10</td>\n      <td>5400.0</td>\n      <td>9218.0</td>\n      <td>810.0</td>\n      <td>756.0</td>\n      <td>1003.0</td>\n      <td>5654.0</td>\n      <td>3230.0</td>\n      <td>422.0</td>\n      <td>10.0</td>\n      <td>125.0</td>\n      <td>41.0</td>\n      <td>176</td>\n    </tr>\n    <tr>\n      <th>438</th>\n      <td>85093</td>\n      <td>3</td>\n      <td>1</td>\n      <td>7.0</td>\n      <td>2</td>\n      <td>4684.0</td>\n      <td>7536.0</td>\n      <td>733.0</td>\n      <td>708.0</td>\n      <td>985.0</td>\n      <td>4750.0</td>\n      <td>2876.0</td>\n      <td>392.0</td>\n      <td>5.0</td>\n      <td>53.0</td>\n      <td>26.0</td>\n      <td>84</td>\n    </tr>\n    <tr>\n      <th>439</th>\n      <td>81370</td>\n      <td>2</td>\n      <td>1</td>\n      <td>5.0</td>\n      <td>8</td>\n      <td>3480.0</td>\n      <td>6229.0</td>\n      <td>537.0</td>\n      <td>508.0</td>\n      <td>687.0</td>\n      <td>3961.0</td>\n      <td>2104.0</td>\n      <td>301.0</td>\n      <td>0.0</td>\n      <td>53.0</td>\n      <td>22.0</td>\n      <td>75</td>\n    </tr>\n    <tr>\n      <th>440</th>\n      <td>81370</td>\n      <td>1</td>\n      <td>1</td>\n      <td>5.0</td>\n      <td>2</td>\n      <td>3778.0</td>\n      <td>7216.0</td>\n      <td>625.0</td>\n      <td>572.0</td>\n      <td>795.0</td>\n      <td>4742.0</td>\n      <td>2388.0</td>\n      <td>363.0</td>\n      <td>4.0</td>\n      <td>93.0</td>\n      <td>18.0</td>\n      <td>115</td>\n    </tr>\n    <tr>\n      <th>441</th>\n      <td>81370</td>\n      <td>3</td>\n      <td>1</td>\n      <td>4.0</td>\n      <td>11</td>\n      <td>4156.0</td>\n      <td>7564.0</td>\n      <td>626.0</td>\n      <td>574.0</td>\n      <td>832.0</td>\n      <td>4534.0</td>\n      <td>2452.0</td>\n      <td>370.0</td>\n      <td>7.0</td>\n      <td>91.0</td>\n      <td>38.0</td>\n      <td>136</td>\n    </tr>\n  </tbody>\n</table>\n<p>442 rows × 17 columns</p>\n</div>"
     },
     "execution_count": 252,
     "metadata": {},
     "output_type": "execute_result"
    }
   ],
   "source": [
    "df.drop([\"Paid\"], axis=1)"
   ],
   "metadata": {
    "collapsed": false,
    "pycharm": {
     "name": "#%%\n"
    }
   }
  },
  {
   "cell_type": "code",
   "execution_count": 254,
   "outputs": [],
   "source": [
    "from  sklearn.model_selection import train_test_split"
   ],
   "metadata": {
    "collapsed": false,
    "pycharm": {
     "name": "#%%\n"
    }
   }
  },
  {
   "cell_type": "code",
   "execution_count": 255,
   "outputs": [],
   "source": [
    "X_train, X_test, y_train, y_test = train_test_split(df, y, test_size=0.33, random_state=42)"
   ],
   "metadata": {
    "collapsed": false,
    "pycharm": {
     "name": "#%%\n"
    }
   }
  },
  {
   "cell_type": "code",
   "execution_count": 256,
   "outputs": [
    {
     "data": {
      "text/plain": "     Page total likes  Category  Post Month  Post Weekday  Post Hour  Paid  \\\n231            126141         1           6           4.0         12   0.0   \n325            109670         1           4           6.0         13   0.0   \n193            130791         2           7           3.0          5   1.0   \n109            135713         2          10           5.0         11   0.0   \n195            129600         1           7           7.0          6   1.0   \n\n     Lifetime Post Total Reach  Lifetime Post Total Impressions  \\\n231                    20896.0                          29062.0   \n325                     6172.0                          10417.0   \n193                   180480.0                         319133.0   \n109                     4010.0                           7444.0   \n195                     5848.0                           9068.0   \n\n     Lifetime Engaged Users  Lifetime Post Consumers  \\\n231                  1418.0                   1038.0   \n325                   718.0                    684.0   \n193                  8072.0                   4010.0   \n109                   477.0                    370.0   \n195                   622.0                    570.0   \n\n     Lifetime Post Consumptions  \\\n231                      2048.0   \n325                       906.0   \n193                      6242.0   \n109                       534.0   \n195                       795.0   \n\n     Lifetime Post Impressions by people who have liked your Page  \\\n231                                            19738.0              \n325                                             7692.0              \n193                                           108752.0              \n109                                             4406.0              \n195                                             6651.0              \n\n     Lifetime Post reach by people who like your Page  \\\n231                                           13656.0   \n325                                            4234.0   \n193                                           51456.0   \n109                                            2362.0   \n195                                            4212.0   \n\n     Lifetime People who have liked your Page and engaged with your post  \\\n231                                              998.0                     \n325                                              508.0                     \n193                                             3316.0                     \n109                                              354.0                     \n195                                              383.0                     \n\n     comment    like  share  Total Interactions  \n231    103.0   469.0   33.0                 605  \n325      1.0    64.0   22.0                  87  \n193    372.0  5172.0  790.0                6334  \n109      2.0   166.0   32.0                 200  \n195      4.0    71.0   10.0                  85  ",
      "text/html": "<div>\n<style scoped>\n    .dataframe tbody tr th:only-of-type {\n        vertical-align: middle;\n    }\n\n    .dataframe tbody tr th {\n        vertical-align: top;\n    }\n\n    .dataframe thead th {\n        text-align: right;\n    }\n</style>\n<table border=\"1\" class=\"dataframe\">\n  <thead>\n    <tr style=\"text-align: right;\">\n      <th></th>\n      <th>Page total likes</th>\n      <th>Category</th>\n      <th>Post Month</th>\n      <th>Post Weekday</th>\n      <th>Post Hour</th>\n      <th>Paid</th>\n      <th>Lifetime Post Total Reach</th>\n      <th>Lifetime Post Total Impressions</th>\n      <th>Lifetime Engaged Users</th>\n      <th>Lifetime Post Consumers</th>\n      <th>Lifetime Post Consumptions</th>\n      <th>Lifetime Post Impressions by people who have liked your Page</th>\n      <th>Lifetime Post reach by people who like your Page</th>\n      <th>Lifetime People who have liked your Page and engaged with your post</th>\n      <th>comment</th>\n      <th>like</th>\n      <th>share</th>\n      <th>Total Interactions</th>\n    </tr>\n  </thead>\n  <tbody>\n    <tr>\n      <th>231</th>\n      <td>126141</td>\n      <td>1</td>\n      <td>6</td>\n      <td>4.0</td>\n      <td>12</td>\n      <td>0.0</td>\n      <td>20896.0</td>\n      <td>29062.0</td>\n      <td>1418.0</td>\n      <td>1038.0</td>\n      <td>2048.0</td>\n      <td>19738.0</td>\n      <td>13656.0</td>\n      <td>998.0</td>\n      <td>103.0</td>\n      <td>469.0</td>\n      <td>33.0</td>\n      <td>605</td>\n    </tr>\n    <tr>\n      <th>325</th>\n      <td>109670</td>\n      <td>1</td>\n      <td>4</td>\n      <td>6.0</td>\n      <td>13</td>\n      <td>0.0</td>\n      <td>6172.0</td>\n      <td>10417.0</td>\n      <td>718.0</td>\n      <td>684.0</td>\n      <td>906.0</td>\n      <td>7692.0</td>\n      <td>4234.0</td>\n      <td>508.0</td>\n      <td>1.0</td>\n      <td>64.0</td>\n      <td>22.0</td>\n      <td>87</td>\n    </tr>\n    <tr>\n      <th>193</th>\n      <td>130791</td>\n      <td>2</td>\n      <td>7</td>\n      <td>3.0</td>\n      <td>5</td>\n      <td>1.0</td>\n      <td>180480.0</td>\n      <td>319133.0</td>\n      <td>8072.0</td>\n      <td>4010.0</td>\n      <td>6242.0</td>\n      <td>108752.0</td>\n      <td>51456.0</td>\n      <td>3316.0</td>\n      <td>372.0</td>\n      <td>5172.0</td>\n      <td>790.0</td>\n      <td>6334</td>\n    </tr>\n    <tr>\n      <th>109</th>\n      <td>135713</td>\n      <td>2</td>\n      <td>10</td>\n      <td>5.0</td>\n      <td>11</td>\n      <td>0.0</td>\n      <td>4010.0</td>\n      <td>7444.0</td>\n      <td>477.0</td>\n      <td>370.0</td>\n      <td>534.0</td>\n      <td>4406.0</td>\n      <td>2362.0</td>\n      <td>354.0</td>\n      <td>2.0</td>\n      <td>166.0</td>\n      <td>32.0</td>\n      <td>200</td>\n    </tr>\n    <tr>\n      <th>195</th>\n      <td>129600</td>\n      <td>1</td>\n      <td>7</td>\n      <td>7.0</td>\n      <td>6</td>\n      <td>1.0</td>\n      <td>5848.0</td>\n      <td>9068.0</td>\n      <td>622.0</td>\n      <td>570.0</td>\n      <td>795.0</td>\n      <td>6651.0</td>\n      <td>4212.0</td>\n      <td>383.0</td>\n      <td>4.0</td>\n      <td>71.0</td>\n      <td>10.0</td>\n      <td>85</td>\n    </tr>\n  </tbody>\n</table>\n</div>"
     },
     "execution_count": 256,
     "metadata": {},
     "output_type": "execute_result"
    }
   ],
   "source": [
    "X_train.head()"
   ],
   "metadata": {
    "collapsed": false,
    "pycharm": {
     "name": "#%%\n"
    }
   }
  },
  {
   "cell_type": "code",
   "execution_count": 257,
   "outputs": [
    {
     "data": {
      "text/plain": "(296, 18)"
     },
     "execution_count": 257,
     "metadata": {},
     "output_type": "execute_result"
    }
   ],
   "source": [
    "X_train.shape"
   ],
   "metadata": {
    "collapsed": false,
    "pycharm": {
     "name": "#%%\n"
    }
   }
  },
  {
   "cell_type": "code",
   "execution_count": 258,
   "outputs": [
    {
     "data": {
      "text/plain": "(146, 18)"
     },
     "execution_count": 258,
     "metadata": {},
     "output_type": "execute_result"
    }
   ],
   "source": [
    "X_test.shape"
   ],
   "metadata": {
    "collapsed": false,
    "pycharm": {
     "name": "#%%\n"
    }
   }
  },
  {
   "cell_type": "code",
   "execution_count": 259,
   "outputs": [
    {
     "data": {
      "text/plain": "(442, 18)"
     },
     "execution_count": 259,
     "metadata": {},
     "output_type": "execute_result"
    }
   ],
   "source": [
    "(X_test + X_train).shape"
   ],
   "metadata": {
    "collapsed": false,
    "pycharm": {
     "name": "#%%\n"
    }
   }
  },
  {
   "cell_type": "code",
   "execution_count": 260,
   "outputs": [],
   "source": [
    "model = LogisticRegression(max_iter=10000)\n",
    "model.fit(X_train, y_train)\n",
    "predict = model.predict(X_test)"
   ],
   "metadata": {
    "collapsed": false,
    "pycharm": {
     "name": "#%%\n"
    }
   }
  },
  {
   "cell_type": "code",
   "execution_count": 261,
   "outputs": [],
   "source": [
    "from sklearn.metrics import accuracy_score, f1_score"
   ],
   "metadata": {
    "collapsed": false,
    "pycharm": {
     "name": "#%%\n"
    }
   }
  },
  {
   "cell_type": "code",
   "execution_count": 262,
   "outputs": [
    {
     "name": "stdout",
     "output_type": "stream",
     "text": [
      "precision 0.375\n",
      "recall 0.08108108108108109\n",
      "accuracy 0.7328767123287672\n",
      "f1 0.13333333333333333\n"
     ]
    }
   ],
   "source": [
    "print('precision', precision_score(y_test, predict))\n",
    "print('recall', recall_score(y_test, predict))\n",
    "print('accuracy', accuracy_score(y_test, predict))\n",
    "print('f1', f1_score(y_test, predict))"
   ],
   "metadata": {
    "collapsed": false,
    "pycharm": {
     "name": "#%%\n"
    }
   }
  }
 ],
 "metadata": {
  "kernelspec": {
   "display_name": "Python 3",
   "language": "python",
   "name": "python3"
  },
  "language_info": {
   "codemirror_mode": {
    "name": "ipython",
    "version": 2
   },
   "file_extension": ".py",
   "mimetype": "text/x-python",
   "name": "python",
   "nbconvert_exporter": "python",
   "pygments_lexer": "ipython2",
   "version": "2.7.6"
  }
 },
 "nbformat": 4,
 "nbformat_minor": 0
}