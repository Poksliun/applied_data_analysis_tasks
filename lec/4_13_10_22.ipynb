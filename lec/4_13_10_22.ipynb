{
 "cells": [
  {
   "cell_type": "code",
   "execution_count": 30,
   "metadata": {
    "collapsed": true,
    "pycharm": {
     "name": "#%%\n"
    }
   },
   "outputs": [],
   "source": [
    "# Регрессия и классификация"
   ]
  },
  {
   "cell_type": "code",
   "execution_count": 31,
   "outputs": [],
   "source": [
    "# ОСНОВНЫЕ ОПРЕДЕЛЕНИЯ\n",
    "# Эти задачи будет рассматривать в рамках машинного обучения\n",
    "# Могут быть разные задачи\n",
    "## Поиск текстов\n",
    "## Распознавание изображений\n",
    "## Прогноз цен на акции\n",
    "## Написание стихов\n",
    "\n",
    "# В широком понимании данные представляют собой факты, текст, графики, картинки, звуки, аналоговые или цифровые видео сегменты\n",
    "# Данные - это необходимый материл"
   ],
   "metadata": {
    "collapsed": false,
    "pycharm": {
     "name": "#%%\n"
    }
   }
  },
  {
   "cell_type": "code",
   "execution_count": 32,
   "outputs": [],
   "source": [
    "# КЛАССИФИКАЦИЯ\n",
    "# Задача классификации\n",
    "# Прогнозирование (погода, урожайность, ...)\n",
    "# Кластеризация (Примерно, то же что классификация, но без заранее известных классов) (Кластер - группа объектов имеющих общие свойства; Характеристики кластера: внутренняя однородность, внешняя изолированность)\n",
    "# Ассоциация (отыскание закономерностей)\n",
    "# Последовательность\n",
    "\n",
    "# Задачи сводятся к трем группам\n",
    "## Обучение с учителем\n",
    "## Обучение без учителя\n",
    "## Другое"
   ],
   "metadata": {
    "collapsed": false,
    "pycharm": {
     "name": "#%%\n"
    }
   }
  },
  {
   "cell_type": "code",
   "execution_count": 33,
   "outputs": [],
   "source": [
    "# МАШИННОЕ ОБУЧЕНИЕ\n",
    "# Типы обучения: Дедуктивное или аналитическое обучение; Индуктивное обучение; Комбинированное обучение\n",
    "# Используя выборку мы должны построить решающее правило\n",
    "# Признаки и выходы бывают количественные и качественные\n",
    "# Если выход количественный, то задача регрессии\n",
    "# Если выход качественный, то задача классификации"
   ],
   "metadata": {
    "collapsed": false,
    "pycharm": {
     "name": "#%%\n"
    }
   }
  },
  {
   "cell_type": "code",
   "execution_count": 34,
   "outputs": [],
   "source": [
    "# ПРОЦЕСС КЛАССИФИКАЦИИ\n",
    "# Стадия обучения:\n",
    "# База данных => Обучающее множество => Классификационный алгоритм => Классификатор (Модель) => Условия определяющие классы\n",
    "# Стадия применения:\n",
    "# База данных => Обучающее множество => Классификационный алгоритм => Классификатор (Модель) => Условия определяющие классы => Определение класса"
   ],
   "metadata": {
    "collapsed": false,
    "pycharm": {
     "name": "#%%\n"
    }
   }
  },
  {
   "cell_type": "code",
   "execution_count": 35,
   "outputs": [],
   "source": [
    "# Регрессионные методы\n",
    "import pandas as pd\n",
    "df = pd.read_csv(\"dir_for_csv_file/Titanic.csv\", sep=',')"
   ],
   "metadata": {
    "collapsed": false,
    "pycharm": {
     "name": "#%%\n"
    }
   }
  },
  {
   "cell_type": "code",
   "execution_count": 36,
   "outputs": [
    {
     "name": "stdout",
     "output_type": "stream",
     "text": [
      "<class 'pandas.core.frame.DataFrame'>\n",
      "RangeIndex: 891 entries, 0 to 890\n",
      "Data columns (total 12 columns):\n",
      " #   Column       Non-Null Count  Dtype  \n",
      "---  ------       --------------  -----  \n",
      " 0   PassengerId  891 non-null    int64  \n",
      " 1   Survived     891 non-null    int64  \n",
      " 2   Pclass       891 non-null    int64  \n",
      " 3   Name         891 non-null    object \n",
      " 4   Sex          891 non-null    object \n",
      " 5   Age          714 non-null    float64\n",
      " 6   SibSp        891 non-null    int64  \n",
      " 7   Parch        891 non-null    int64  \n",
      " 8   Ticket       891 non-null    object \n",
      " 9   Fare         891 non-null    float64\n",
      " 10  Cabin        204 non-null    object \n",
      " 11  Embarked     889 non-null    object \n",
      "dtypes: float64(2), int64(5), object(5)\n",
      "memory usage: 83.7+ KB\n"
     ]
    }
   ],
   "source": [
    "df.info()"
   ],
   "metadata": {
    "collapsed": false,
    "pycharm": {
     "name": "#%%\n"
    }
   }
  },
  {
   "cell_type": "code",
   "execution_count": 37,
   "outputs": [],
   "source": [
    "df = df.drop(['Cabin', 'Name', 'Sex', 'Ticket', 'Embarked'], axis=1) #Нельзя выбросить объекты которых нет"
   ],
   "metadata": {
    "collapsed": false,
    "pycharm": {
     "name": "#%%\n"
    }
   }
  },
  {
   "cell_type": "code",
   "execution_count": 38,
   "outputs": [
    {
     "data": {
      "text/plain": "   PassengerId  Survived  Pclass   Age  SibSp  Parch     Fare\n0            1         0       3  22.0      1      0   7.2500\n1            2         1       1  38.0      1      0  71.2833\n2            3         1       3  26.0      0      0   7.9250\n3            4         1       1  35.0      1      0  53.1000\n4            5         0       3  35.0      0      0   8.0500",
      "text/html": "<div>\n<style scoped>\n    .dataframe tbody tr th:only-of-type {\n        vertical-align: middle;\n    }\n\n    .dataframe tbody tr th {\n        vertical-align: top;\n    }\n\n    .dataframe thead th {\n        text-align: right;\n    }\n</style>\n<table border=\"1\" class=\"dataframe\">\n  <thead>\n    <tr style=\"text-align: right;\">\n      <th></th>\n      <th>PassengerId</th>\n      <th>Survived</th>\n      <th>Pclass</th>\n      <th>Age</th>\n      <th>SibSp</th>\n      <th>Parch</th>\n      <th>Fare</th>\n    </tr>\n  </thead>\n  <tbody>\n    <tr>\n      <th>0</th>\n      <td>1</td>\n      <td>0</td>\n      <td>3</td>\n      <td>22.0</td>\n      <td>1</td>\n      <td>0</td>\n      <td>7.2500</td>\n    </tr>\n    <tr>\n      <th>1</th>\n      <td>2</td>\n      <td>1</td>\n      <td>1</td>\n      <td>38.0</td>\n      <td>1</td>\n      <td>0</td>\n      <td>71.2833</td>\n    </tr>\n    <tr>\n      <th>2</th>\n      <td>3</td>\n      <td>1</td>\n      <td>3</td>\n      <td>26.0</td>\n      <td>0</td>\n      <td>0</td>\n      <td>7.9250</td>\n    </tr>\n    <tr>\n      <th>3</th>\n      <td>4</td>\n      <td>1</td>\n      <td>1</td>\n      <td>35.0</td>\n      <td>1</td>\n      <td>0</td>\n      <td>53.1000</td>\n    </tr>\n    <tr>\n      <th>4</th>\n      <td>5</td>\n      <td>0</td>\n      <td>3</td>\n      <td>35.0</td>\n      <td>0</td>\n      <td>0</td>\n      <td>8.0500</td>\n    </tr>\n  </tbody>\n</table>\n</div>"
     },
     "execution_count": 38,
     "metadata": {},
     "output_type": "execute_result"
    }
   ],
   "source": [
    "df.head()"
   ],
   "metadata": {
    "collapsed": false,
    "pycharm": {
     "name": "#%%\n"
    }
   }
  },
  {
   "cell_type": "code",
   "execution_count": 39,
   "outputs": [
    {
     "name": "stdout",
     "output_type": "stream",
     "text": [
      "<class 'pandas.core.frame.DataFrame'>\n",
      "RangeIndex: 891 entries, 0 to 890\n",
      "Data columns (total 7 columns):\n",
      " #   Column       Non-Null Count  Dtype  \n",
      "---  ------       --------------  -----  \n",
      " 0   PassengerId  891 non-null    int64  \n",
      " 1   Survived     891 non-null    int64  \n",
      " 2   Pclass       891 non-null    int64  \n",
      " 3   Age          714 non-null    float64\n",
      " 4   SibSp        891 non-null    int64  \n",
      " 5   Parch        891 non-null    int64  \n",
      " 6   Fare         891 non-null    float64\n",
      "dtypes: float64(2), int64(5)\n",
      "memory usage: 48.9 KB\n"
     ]
    }
   ],
   "source": [
    "df.info()"
   ],
   "metadata": {
    "collapsed": false,
    "pycharm": {
     "name": "#%%\n"
    }
   }
  },
  {
   "cell_type": "code",
   "execution_count": 40,
   "outputs": [],
   "source": [
    "df = df[~df['Age'].isnull()]"
   ],
   "metadata": {
    "collapsed": false,
    "pycharm": {
     "name": "#%%\n"
    }
   }
  },
  {
   "cell_type": "code",
   "execution_count": 41,
   "outputs": [
    {
     "name": "stdout",
     "output_type": "stream",
     "text": [
      "<class 'pandas.core.frame.DataFrame'>\n",
      "Int64Index: 714 entries, 0 to 890\n",
      "Data columns (total 7 columns):\n",
      " #   Column       Non-Null Count  Dtype  \n",
      "---  ------       --------------  -----  \n",
      " 0   PassengerId  714 non-null    int64  \n",
      " 1   Survived     714 non-null    int64  \n",
      " 2   Pclass       714 non-null    int64  \n",
      " 3   Age          714 non-null    float64\n",
      " 4   SibSp        714 non-null    int64  \n",
      " 5   Parch        714 non-null    int64  \n",
      " 6   Fare         714 non-null    float64\n",
      "dtypes: float64(2), int64(5)\n",
      "memory usage: 44.6 KB\n"
     ]
    }
   ],
   "source": [
    "df.info()"
   ],
   "metadata": {
    "collapsed": false,
    "pycharm": {
     "name": "#%%\n"
    }
   }
  },
  {
   "cell_type": "code",
   "execution_count": 42,
   "outputs": [
    {
     "data": {
      "text/plain": "pandas.core.series.Series"
     },
     "execution_count": 42,
     "metadata": {},
     "output_type": "execute_result"
    }
   ],
   "source": [
    "y = df['Survived'] # Это наша целевая функция\n",
    "type(y)"
   ],
   "metadata": {
    "collapsed": false,
    "pycharm": {
     "name": "#%%\n"
    }
   }
  },
  {
   "cell_type": "code",
   "execution_count": 43,
   "outputs": [],
   "source": [
    "from sklearn.linear_model import LogisticRegression\n",
    "model = LogisticRegression(max_iter=100000)\n",
    "model.fit(df,y)\n",
    "predict = model.predict(df)# Переходим к машинному обучению"
   ],
   "metadata": {
    "collapsed": false,
    "pycharm": {
     "name": "#%%\n"
    }
   }
  },
  {
   "cell_type": "code",
   "execution_count": 44,
   "outputs": [
    {
     "data": {
      "text/plain": "array([0, 1, 1, 1, 0, 0, 0, 1, 1, 1, 1, 0, 0, 0, 1, 0, 0, 0, 1, 1, 1, 0,\n       1, 0, 0, 0, 0, 0, 0, 0, 1, 0, 0, 1, 1, 0, 0, 0, 1, 1, 0, 1, 0, 1,\n       0, 0, 1, 0, 0, 1, 0, 1, 0, 0, 0, 0, 0, 1, 0, 1, 1, 0, 1, 0, 1, 1,\n       0, 1, 0, 0, 0, 0, 0, 0, 0, 1, 1, 0, 0, 0, 0, 0, 0, 1, 0, 0, 0, 0,\n       0, 0, 0, 0, 0, 0, 0, 0, 0, 1, 0, 1, 1, 0, 0, 0, 0, 1, 0, 0, 1, 0,\n       0, 0, 1, 1, 0, 0, 0, 1, 0, 0, 0, 0, 1, 0, 0, 0, 1, 0, 0, 1, 0, 0,\n       0, 1, 0, 0, 0, 0, 1, 0, 0, 0, 0, 0, 0, 0, 1, 1, 1, 0, 0, 1, 0, 1,\n       1, 1, 1, 0, 0, 0, 0, 0, 1, 0, 0, 1, 1, 1, 0, 1, 0, 0, 1, 1, 0, 1,\n       0, 1, 0, 0, 1, 0, 1, 0, 0, 1, 0, 0, 1, 0, 0, 1, 0, 0, 0, 0, 0, 0,\n       0, 1, 1, 0, 0, 0, 0, 0, 1, 1, 1, 1, 1, 0, 0, 0, 0, 1, 1, 1, 1, 1,\n       0, 1, 0, 0, 1, 0, 0, 0, 1, 0, 1, 0, 1, 1, 1, 1, 0, 0, 0, 0, 0, 1,\n       0, 1, 1, 0, 1, 1, 1, 0, 0, 0, 1, 1, 0, 1, 1, 0, 0, 1, 1, 1, 0, 1,\n       1, 1, 0, 0, 0, 0, 1, 1, 0, 1, 1, 0, 0, 0, 1, 1, 1, 0, 0, 0, 0, 0,\n       1, 0, 0, 0, 0, 0, 0, 1, 1, 1, 0, 0, 0, 0, 1, 0, 0, 0, 1, 1, 0, 1,\n       0, 0, 1, 1, 1, 1, 0, 1, 1, 0, 0, 0, 0, 1, 1, 0, 0, 0, 0, 0, 0, 1,\n       0, 1, 1, 1, 1, 0, 0, 0, 0, 0, 0, 1, 1, 1, 1, 1, 0, 0, 1, 0, 1, 0,\n       0, 1, 0, 0, 1, 1, 1, 1, 1, 1, 0, 0, 1, 1, 0, 1, 1, 0, 0, 0, 0, 0,\n       1, 0, 1, 1, 0, 0, 0, 0, 1, 0, 0, 1, 1, 1, 0, 0, 1, 0, 0, 0, 0, 1,\n       0, 0, 0, 0, 0, 1, 0, 1, 0, 1, 1, 1, 1, 0, 0, 1, 1, 0, 1, 0, 1, 0,\n       1, 0, 0, 1, 0, 0, 1, 0, 1, 1, 1, 0, 0, 1, 0, 0, 1, 0, 1, 1, 0, 1,\n       1, 0, 1, 1, 1, 0, 0, 0, 0, 0, 1, 1, 1, 1, 0, 0, 1, 1, 1, 1, 1, 0,\n       0, 1, 0, 1, 0, 0, 1, 0, 0, 0, 0, 1, 1, 0, 1, 0, 0, 1, 1, 1, 0, 0,\n       1, 0, 0, 1, 0, 0, 1, 1, 0, 0, 0, 0, 1, 0, 1, 0, 1, 0, 1, 0, 0, 0,\n       0, 1, 0, 1, 1, 0, 1, 1, 1, 0, 0, 0, 0, 0, 0, 1, 0, 0, 0, 1, 0, 0,\n       0, 1, 0, 0, 1, 0, 0, 1, 0, 1, 1, 0, 0, 0, 0, 0, 0, 0, 1, 1, 1, 0,\n       0, 0, 0, 0, 0, 1, 1, 0, 0, 0, 0, 1, 1, 1, 1, 1, 0, 0, 0, 1, 1, 0,\n       1, 0, 0, 0, 1, 0, 1, 0, 0, 1, 0, 0, 0, 0, 0, 1, 0, 1, 0, 1, 0, 0,\n       1, 0, 0, 1, 1, 0, 0, 1, 1, 0, 0, 0, 1, 0, 1, 1, 0, 1, 0, 0, 0, 0,\n       0, 1, 0, 1, 1, 1, 1, 0, 0, 0, 1, 0, 1, 0, 0, 0, 0, 1, 1, 0, 0, 0,\n       1, 1, 1, 1, 0, 0, 0, 0, 1, 0, 0, 0, 0, 0, 0, 0, 0, 0, 1, 1, 0, 1,\n       0, 1, 1, 1, 1, 0, 0, 1, 0, 1, 0, 0, 1, 0, 0, 0, 0, 0, 0, 0, 0, 1,\n       0, 1, 1, 1, 1, 0, 0, 1, 0, 1, 1, 0, 1, 0, 1, 0, 0, 1, 1, 0, 0, 1,\n       1, 0, 0, 0, 0, 0, 0, 1, 1, 0])"
     },
     "execution_count": 44,
     "metadata": {},
     "output_type": "execute_result"
    }
   ],
   "source": [
    "predict"
   ],
   "metadata": {
    "collapsed": false,
    "pycharm": {
     "name": "#%%\n"
    }
   }
  },
  {
   "cell_type": "code",
   "execution_count": 45,
   "outputs": [
    {
     "data": {
      "text/plain": "[(0, 0),\n (1, 1),\n (1, 1),\n (1, 1),\n (0, 0),\n (0, 0),\n (0, 0),\n (1, 1),\n (1, 1),\n (1, 1),\n (1, 1),\n (0, 0),\n (0, 0),\n (0, 0),\n (1, 1),\n (0, 0),\n (0, 0),\n (0, 0),\n (1, 1),\n (1, 1),\n (1, 1),\n (0, 0),\n (1, 1),\n (0, 0),\n (0, 0),\n (0, 0),\n (0, 0),\n (0, 0),\n (0, 0),\n (0, 0),\n (1, 1),\n (0, 0),\n (0, 0),\n (1, 1),\n (1, 1),\n (0, 0),\n (0, 0),\n (0, 0),\n (1, 1),\n (1, 1),\n (0, 0),\n (1, 1),\n (0, 0),\n (1, 1),\n (0, 0),\n (0, 0),\n (1, 1),\n (0, 0),\n (0, 0),\n (1, 1),\n (0, 0),\n (1, 1),\n (0, 0),\n (0, 0),\n (0, 0),\n (0, 0),\n (0, 0),\n (1, 1),\n (0, 0),\n (1, 1),\n (1, 1),\n (0, 0),\n (1, 1),\n (0, 0),\n (1, 1),\n (1, 1),\n (0, 0),\n (1, 1),\n (0, 0),\n (0, 0),\n (0, 0),\n (0, 0),\n (0, 0),\n (0, 0),\n (0, 0),\n (1, 1),\n (1, 1),\n (0, 0),\n (0, 0),\n (0, 0),\n (0, 0),\n (0, 0),\n (0, 0),\n (1, 1),\n (0, 0),\n (0, 0),\n (0, 0),\n (0, 0),\n (0, 0),\n (0, 0),\n (0, 0),\n (0, 0),\n (0, 0),\n (0, 0),\n (0, 0),\n (0, 0),\n (0, 0),\n (1, 1),\n (0, 0),\n (1, 1),\n (1, 1),\n (0, 0),\n (0, 0),\n (0, 0),\n (0, 0),\n (1, 1),\n (0, 0),\n (0, 0),\n (1, 1),\n (0, 0),\n (0, 0),\n (0, 0),\n (1, 1),\n (1, 1),\n (0, 0),\n (0, 0),\n (0, 0),\n (1, 1),\n (0, 0),\n (0, 0),\n (0, 0),\n (0, 0),\n (1, 1),\n (0, 0),\n (0, 0),\n (0, 0),\n (1, 1),\n (0, 0),\n (0, 0),\n (1, 1),\n (0, 0),\n (0, 0),\n (0, 0),\n (1, 1),\n (0, 0),\n (0, 0),\n (0, 0),\n (0, 0),\n (1, 1),\n (0, 0),\n (0, 0),\n (0, 0),\n (0, 0),\n (0, 0),\n (0, 0),\n (0, 0),\n (1, 1),\n (1, 1),\n (1, 1),\n (0, 0),\n (0, 0),\n (1, 1),\n (0, 0),\n (1, 1),\n (1, 1),\n (1, 1),\n (1, 1),\n (0, 0),\n (0, 0),\n (0, 0),\n (0, 0),\n (0, 0),\n (1, 1),\n (0, 0),\n (0, 0),\n (1, 1),\n (1, 1),\n (1, 1),\n (0, 0),\n (1, 1),\n (0, 0),\n (0, 0),\n (1, 1),\n (1, 1),\n (0, 0),\n (1, 1),\n (0, 0),\n (1, 1),\n (0, 0),\n (0, 0),\n (1, 1),\n (0, 0),\n (1, 1),\n (0, 0),\n (0, 0),\n (1, 1),\n (0, 0),\n (0, 0),\n (1, 1),\n (0, 0),\n (0, 0),\n (1, 1),\n (0, 0),\n (0, 0),\n (0, 0),\n (0, 0),\n (0, 0),\n (0, 0),\n (0, 0),\n (1, 1),\n (1, 1),\n (0, 0),\n (0, 0),\n (0, 0),\n (0, 0),\n (0, 0),\n (1, 1),\n (1, 1),\n (1, 1),\n (1, 1),\n (1, 1),\n (0, 0),\n (0, 0),\n (0, 0),\n (0, 0),\n (1, 1),\n (1, 1),\n (1, 1),\n (1, 1),\n (1, 1),\n (0, 0),\n (1, 1),\n (0, 0),\n (0, 0),\n (1, 1),\n (0, 0),\n (0, 0),\n (0, 0),\n (1, 1),\n (0, 0),\n (1, 1),\n (0, 0),\n (1, 1),\n (1, 1),\n (1, 1),\n (1, 1),\n (0, 0),\n (0, 0),\n (0, 0),\n (0, 0),\n (0, 0),\n (1, 1),\n (0, 0),\n (1, 1),\n (1, 1),\n (0, 0),\n (1, 1),\n (1, 1),\n (1, 1),\n (0, 0),\n (0, 0),\n (0, 0),\n (1, 1),\n (1, 1),\n (0, 0),\n (1, 1),\n (1, 1),\n (0, 0),\n (0, 0),\n (1, 1),\n (1, 1),\n (1, 1),\n (0, 0),\n (1, 1),\n (1, 1),\n (1, 1),\n (0, 0),\n (0, 0),\n (0, 0),\n (0, 0),\n (1, 1),\n (1, 1),\n (0, 0),\n (1, 1),\n (1, 1),\n (0, 0),\n (0, 0),\n (0, 0),\n (1, 1),\n (1, 1),\n (1, 1),\n (0, 0),\n (0, 0),\n (0, 0),\n (0, 0),\n (0, 0),\n (1, 1),\n (0, 0),\n (0, 0),\n (0, 0),\n (0, 0),\n (0, 0),\n (0, 0),\n (1, 1),\n (1, 1),\n (1, 1),\n (0, 0),\n (0, 0),\n (0, 0),\n (0, 0),\n (1, 1),\n (0, 0),\n (0, 0),\n (0, 0),\n (1, 1),\n (1, 1),\n (0, 0),\n (1, 1),\n (0, 0),\n (0, 0),\n (1, 1),\n (1, 1),\n (1, 1),\n (1, 1),\n (0, 0),\n (1, 1),\n (1, 1),\n (0, 0),\n (0, 0),\n (0, 0),\n (0, 0),\n (1, 1),\n (1, 1),\n (0, 0),\n (0, 0),\n (0, 0),\n (0, 0),\n (0, 0),\n (0, 0),\n (1, 1),\n (0, 0),\n (1, 1),\n (1, 1),\n (1, 1),\n (1, 1),\n (0, 0),\n (0, 0),\n (0, 0),\n (0, 0),\n (0, 0),\n (0, 0),\n (1, 1),\n (1, 1),\n (1, 1),\n (1, 1),\n (1, 1),\n (0, 0),\n (0, 0),\n (1, 1),\n (0, 0),\n (1, 1),\n (0, 0),\n (0, 0),\n (1, 1),\n (0, 0),\n (0, 0),\n (1, 1),\n (1, 1),\n (1, 1),\n (1, 1),\n (1, 1),\n (1, 1),\n (0, 0),\n (0, 0),\n (1, 1),\n (1, 1),\n (0, 0),\n (1, 1),\n (1, 1),\n (0, 0),\n (0, 0),\n (0, 0),\n (0, 0),\n (0, 0),\n (1, 1),\n (0, 0),\n (1, 1),\n (1, 1),\n (0, 0),\n (0, 0),\n (0, 0),\n (0, 0),\n (1, 1),\n (0, 0),\n (0, 0),\n (1, 1),\n (1, 1),\n (1, 1),\n (0, 0),\n (0, 0),\n (1, 1),\n (0, 0),\n (0, 0),\n (0, 0),\n (0, 0),\n (1, 1),\n (0, 0),\n (0, 0),\n (0, 0),\n (0, 0),\n (0, 0),\n (1, 1),\n (0, 0),\n (1, 1),\n (0, 0),\n (1, 1),\n (1, 1),\n (1, 1),\n (1, 1),\n (0, 0),\n (0, 0),\n (1, 1),\n (1, 1),\n (0, 0),\n (1, 1),\n (0, 0),\n (1, 1),\n (0, 0),\n (1, 1),\n (0, 0),\n (0, 0),\n (1, 1),\n (0, 0),\n (0, 0),\n (1, 1),\n (0, 0),\n (1, 1),\n (1, 1),\n (1, 1),\n (0, 0),\n (0, 0),\n (1, 1),\n (0, 0),\n (0, 0),\n (1, 1),\n (0, 0),\n (1, 1),\n (1, 1),\n (0, 0),\n (1, 1),\n (1, 1),\n (0, 0),\n (1, 1),\n (1, 1),\n (1, 1),\n (0, 0),\n (0, 0),\n (0, 0),\n (0, 0),\n (0, 0),\n (1, 1),\n (1, 1),\n (1, 1),\n (1, 1),\n (0, 0),\n (0, 0),\n (1, 1),\n (1, 1),\n (1, 1),\n (1, 1),\n (1, 1),\n (0, 0),\n (0, 0),\n (1, 1),\n (0, 0),\n (1, 1),\n (0, 0),\n (0, 0),\n (1, 1),\n (0, 0),\n (0, 0),\n (0, 0),\n (0, 0),\n (1, 1),\n (1, 1),\n (0, 0),\n (1, 1),\n (0, 0),\n (0, 0),\n (1, 1),\n (1, 1),\n (1, 1),\n (0, 0),\n (0, 0),\n (1, 1),\n (0, 0),\n (0, 0),\n (1, 1),\n (0, 0),\n (0, 0),\n (1, 1),\n (1, 1),\n (0, 0),\n (0, 0),\n (0, 0),\n (0, 0),\n (1, 1),\n (0, 0),\n (1, 1),\n (0, 0),\n (1, 1),\n (0, 0),\n (1, 1),\n (0, 0),\n (0, 0),\n (0, 0),\n (0, 0),\n (1, 1),\n (0, 0),\n (1, 1),\n (1, 1),\n (0, 0),\n (1, 1),\n (1, 1),\n (1, 1),\n (0, 0),\n (0, 0),\n (0, 0),\n (0, 0),\n (0, 0),\n (0, 0),\n (1, 1),\n (0, 0),\n (0, 0),\n (0, 0),\n (1, 1),\n (0, 0),\n (0, 0),\n (0, 0),\n (1, 1),\n (0, 0),\n (0, 0),\n (1, 1),\n (0, 0),\n (0, 0),\n (1, 1),\n (0, 0),\n (1, 1),\n (1, 1),\n (0, 0),\n (0, 0),\n (0, 0),\n (0, 0),\n (0, 0),\n (0, 0),\n (0, 0),\n (1, 1),\n (1, 1),\n (1, 1),\n (0, 0),\n (0, 0),\n (0, 0),\n (0, 0),\n (0, 0),\n (0, 0),\n (1, 1),\n (1, 1),\n (0, 0),\n (0, 0),\n (0, 0),\n (0, 0),\n (1, 1),\n (1, 1),\n (1, 1),\n (1, 1),\n (1, 1),\n (0, 0),\n (0, 0),\n (0, 0),\n (1, 1),\n (1, 1),\n (0, 0),\n (1, 1),\n (0, 0),\n (0, 0),\n (0, 0),\n (1, 1),\n (0, 0),\n (1, 1),\n (0, 0),\n (0, 0),\n (1, 1),\n (0, 0),\n (0, 0),\n (0, 0),\n (0, 0),\n (0, 0),\n (1, 1),\n (0, 0),\n (1, 1),\n (0, 0),\n (1, 1),\n (0, 0),\n (0, 0),\n (1, 1),\n (0, 0),\n (0, 0),\n (1, 1),\n (1, 1),\n (0, 0),\n (0, 0),\n (1, 1),\n (1, 1),\n (0, 0),\n (0, 0),\n (0, 0),\n (1, 1),\n (0, 0),\n (1, 1),\n (1, 1),\n (0, 0),\n (1, 1),\n (0, 0),\n (0, 0),\n (0, 0),\n (0, 0),\n (0, 0),\n (1, 1),\n (0, 0),\n (1, 1),\n (1, 1),\n (1, 1),\n (1, 1),\n (0, 0),\n (0, 0),\n (0, 0),\n (1, 1),\n (0, 0),\n (1, 1),\n (0, 0),\n (0, 0),\n (0, 0),\n (0, 0),\n (1, 1),\n (1, 1),\n (0, 0),\n (0, 0),\n (0, 0),\n (1, 1),\n (1, 1),\n (1, 1),\n (1, 1),\n (0, 0),\n (0, 0),\n (0, 0),\n (0, 0),\n (1, 1),\n (0, 0),\n (0, 0),\n (0, 0),\n (0, 0),\n (0, 0),\n (0, 0),\n (0, 0),\n (0, 0),\n (0, 0),\n (1, 1),\n (1, 1),\n (0, 0),\n (1, 1),\n (0, 0),\n (1, 1),\n (1, 1),\n (1, 1),\n (1, 1),\n (0, 0),\n (0, 0),\n (1, 1),\n (0, 0),\n (1, 1),\n (0, 0),\n (0, 0),\n (1, 1),\n (0, 0),\n (0, 0),\n (0, 0),\n (0, 0),\n (0, 0),\n (0, 0),\n (0, 0),\n (0, 0),\n (1, 1),\n (0, 0),\n (1, 1),\n (1, 1),\n (1, 1),\n (1, 1),\n (0, 0),\n (0, 0),\n (1, 1),\n (0, 0),\n (1, 1),\n (1, 1),\n (0, 0),\n (1, 1),\n (0, 0),\n (1, 1),\n (0, 0),\n (0, 0),\n (1, 1),\n (1, 1),\n (0, 0),\n (0, 0),\n (1, 1),\n (1, 1),\n (0, 0),\n (0, 0),\n (0, 0),\n (0, 0),\n (0, 0),\n (0, 0),\n (1, 1),\n (1, 1),\n (0, 0)]"
     },
     "execution_count": 45,
     "metadata": {},
     "output_type": "execute_result"
    }
   ],
   "source": [
    "list(zip(y, predict))"
   ],
   "metadata": {
    "collapsed": false,
    "pycharm": {
     "name": "#%%\n"
    }
   }
  },
  {
   "cell_type": "code",
   "execution_count": 46,
   "outputs": [],
   "source": [
    "df = df.drop('Survived', axis=1) # Ошибка из за того, что удалял уже ранее"
   ],
   "metadata": {
    "collapsed": false,
    "pycharm": {
     "name": "#%%\n"
    }
   }
  },
  {
   "cell_type": "code",
   "execution_count": 47,
   "outputs": [],
   "source": [
    "model = LogisticRegression()\n",
    "model.fit(df, y)\n",
    "predict = model.predict(df)"
   ],
   "metadata": {
    "collapsed": false,
    "pycharm": {
     "name": "#%%\n"
    }
   }
  },
  {
   "cell_type": "code",
   "execution_count": 48,
   "outputs": [
    {
     "data": {
      "text/plain": "208"
     },
     "execution_count": 48,
     "metadata": {},
     "output_type": "execute_result"
    }
   ],
   "source": [
    "sum(abs(y - predict))"
   ],
   "metadata": {
    "collapsed": false,
    "pycharm": {
     "name": "#%%\n"
    }
   }
  },
  {
   "cell_type": "code",
   "execution_count": 49,
   "outputs": [],
   "source": [
    "from sklearn.metrics import precision_score, recall_score, accuracy_score, classification_report\n",
    "#импортируем описанные на паре метрики"
   ],
   "metadata": {
    "collapsed": false,
    "pycharm": {
     "name": "#%%\n"
    }
   }
  },
  {
   "cell_type": "code",
   "execution_count": 50,
   "outputs": [
    {
     "data": {
      "text/plain": "0.6863636363636364"
     },
     "execution_count": 50,
     "metadata": {},
     "output_type": "execute_result"
    }
   ],
   "source": [
    "precision_score(y, predict)"
   ],
   "metadata": {
    "collapsed": false,
    "pycharm": {
     "name": "#%%\n"
    }
   }
  },
  {
   "cell_type": "code",
   "execution_count": 51,
   "outputs": [
    {
     "data": {
      "text/plain": "0.5206896551724138"
     },
     "execution_count": 51,
     "metadata": {},
     "output_type": "execute_result"
    }
   ],
   "source": [
    "recall_score(y, predict)"
   ],
   "metadata": {
    "collapsed": false,
    "pycharm": {
     "name": "#%%\n"
    }
   }
  },
  {
   "cell_type": "code",
   "execution_count": 52,
   "outputs": [
    {
     "data": {
      "text/plain": "0.7086834733893558"
     },
     "execution_count": 52,
     "metadata": {},
     "output_type": "execute_result"
    }
   ],
   "source": [
    "accuracy_score(y, predict)"
   ],
   "metadata": {
    "collapsed": false,
    "pycharm": {
     "name": "#%%\n"
    }
   }
  },
  {
   "cell_type": "code",
   "execution_count": 53,
   "outputs": [
    {
     "name": "stdout",
     "output_type": "stream",
     "text": [
      "              precision    recall  f1-score   support\n",
      "\n",
      "           0       0.72      0.84      0.77       424\n",
      "           1       0.69      0.52      0.59       290\n",
      "\n",
      "    accuracy                           0.71       714\n",
      "   macro avg       0.70      0.68      0.68       714\n",
      "weighted avg       0.71      0.71      0.70       714\n",
      "\n"
     ]
    }
   ],
   "source": [
    "print(classification_report(y, predict))"
   ],
   "metadata": {
    "collapsed": false,
    "pycharm": {
     "name": "#%%\n"
    }
   }
  },
  {
   "cell_type": "code",
   "execution_count": 54,
   "outputs": [],
   "source": [
    "from sklearn.model_selection import train_test_split"
   ],
   "metadata": {
    "collapsed": false,
    "pycharm": {
     "name": "#%%\n"
    }
   }
  },
  {
   "cell_type": "code",
   "execution_count": 55,
   "outputs": [],
   "source": [
    "X_train, X_test, y_train, y_test = train_test_split(df, y, test_size=0.33, random_state=42)"
   ],
   "metadata": {
    "collapsed": false,
    "pycharm": {
     "name": "#%%\n"
    }
   }
  },
  {
   "cell_type": "code",
   "execution_count": 56,
   "outputs": [
    {
     "data": {
      "text/plain": "     PassengerId  Pclass   Age  SibSp  Parch      Fare\n271          272       3  25.0      0      0    0.0000\n853          854       1  16.0      0      1   39.4000\n696          697       3  44.0      0      0    8.0500\n518          519       2  36.0      1      0   26.0000\n609          610       1  40.0      0      0  153.4625",
      "text/html": "<div>\n<style scoped>\n    .dataframe tbody tr th:only-of-type {\n        vertical-align: middle;\n    }\n\n    .dataframe tbody tr th {\n        vertical-align: top;\n    }\n\n    .dataframe thead th {\n        text-align: right;\n    }\n</style>\n<table border=\"1\" class=\"dataframe\">\n  <thead>\n    <tr style=\"text-align: right;\">\n      <th></th>\n      <th>PassengerId</th>\n      <th>Pclass</th>\n      <th>Age</th>\n      <th>SibSp</th>\n      <th>Parch</th>\n      <th>Fare</th>\n    </tr>\n  </thead>\n  <tbody>\n    <tr>\n      <th>271</th>\n      <td>272</td>\n      <td>3</td>\n      <td>25.0</td>\n      <td>0</td>\n      <td>0</td>\n      <td>0.0000</td>\n    </tr>\n    <tr>\n      <th>853</th>\n      <td>854</td>\n      <td>1</td>\n      <td>16.0</td>\n      <td>0</td>\n      <td>1</td>\n      <td>39.4000</td>\n    </tr>\n    <tr>\n      <th>696</th>\n      <td>697</td>\n      <td>3</td>\n      <td>44.0</td>\n      <td>0</td>\n      <td>0</td>\n      <td>8.0500</td>\n    </tr>\n    <tr>\n      <th>518</th>\n      <td>519</td>\n      <td>2</td>\n      <td>36.0</td>\n      <td>1</td>\n      <td>0</td>\n      <td>26.0000</td>\n    </tr>\n    <tr>\n      <th>609</th>\n      <td>610</td>\n      <td>1</td>\n      <td>40.0</td>\n      <td>0</td>\n      <td>0</td>\n      <td>153.4625</td>\n    </tr>\n  </tbody>\n</table>\n</div>"
     },
     "execution_count": 56,
     "metadata": {},
     "output_type": "execute_result"
    }
   ],
   "source": [
    "X_train.head()"
   ],
   "metadata": {
    "collapsed": false,
    "pycharm": {
     "name": "#%%\n"
    }
   }
  },
  {
   "cell_type": "code",
   "execution_count": 57,
   "outputs": [],
   "source": [
    "model = LogisticRegression(max_iter=10000)       # инициализируем модель\n",
    "model.fit(X_train, y_train)                      # обучаем модель\n",
    "predict = model.predict(X_test)"
   ],
   "metadata": {
    "collapsed": false,
    "pycharm": {
     "name": "#%%\n"
    }
   }
  },
  {
   "cell_type": "code",
   "execution_count": 58,
   "outputs": [
    {
     "name": "stdout",
     "output_type": "stream",
     "text": [
      "precision 0.7424242424242424\n",
      "recall 0.494949494949495\n",
      "accuracy 0.7161016949152542\n",
      "f1 0.5939393939393939\n"
     ]
    }
   ],
   "source": [
    "from sklearn.metrics import accuracy_score, f1_score #рассчитаем метрики\n",
    "\n",
    "print('precision', precision_score(y_test, predict))\n",
    "print('recall', recall_score(y_test, predict))\n",
    "print('accuracy', accuracy_score(y_test, predict))\n",
    "print('f1', f1_score(y_test, predict))"
   ],
   "metadata": {
    "collapsed": false,
    "pycharm": {
     "name": "#%%\n"
    }
   }
  }
 ],
 "metadata": {
  "kernelspec": {
   "display_name": "Python 3",
   "language": "python",
   "name": "python3"
  },
  "language_info": {
   "codemirror_mode": {
    "name": "ipython",
    "version": 2
   },
   "file_extension": ".py",
   "mimetype": "text/x-python",
   "name": "python",
   "nbconvert_exporter": "python",
   "pygments_lexer": "ipython2",
   "version": "2.7.6"
  }
 },
 "nbformat": 4,
 "nbformat_minor": 0
}