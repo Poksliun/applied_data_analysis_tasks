{
 "cells": [
  {
   "cell_type": "markdown",
   "source": [
    "Метод к-ближайших соседей (пригодится в следующем семестре)\n",
    "\n",
    "Так же метод k-NN – метод решения задачи классификации\n",
    "В основе лежит правило: объект считается принадлежащим тому к классу к которому относится большинство соседних значений.\n",
    "Необходимо уметь определять, насколько объекты близки к друг другу. т.е. измерять \"расстояние\" между объектами.\n",
    "Т.е. для применения метода в пространстве признаков объекта должна быть введена некоторая метрика\n",
    "\n",
    "Алгоритм\n",
    "✓Вычислить расстояние до каждого из объектов обучающей выборки,\n",
    "✓Отобрать k объектов обучающей выборки, расстояние до которых минимально,\n",
    "✓Класс классифицируемого объекта — это класс, наиболее часто встречающийся среди k ближайших соседей.\n"
   ],
   "metadata": {
    "collapsed": false,
    "pycharm": {
     "name": "#%% md\n"
    }
   }
  },
  {
   "cell_type": "code",
   "execution_count": 1,
   "metadata": {
    "collapsed": true,
    "pycharm": {
     "name": "#%%\n"
    }
   },
   "outputs": [],
   "source": [
    "import pandas as pd\n",
    "from sklearn.preprocessing import StandardScaler"
   ]
  },
  {
   "cell_type": "code",
   "execution_count": 2,
   "outputs": [],
   "source": [
    "df = pd.read_csv('dir_for_csv_file/Онкология.csv')"
   ],
   "metadata": {
    "collapsed": false,
    "pycharm": {
     "name": "#%%\n"
    }
   }
  },
  {
   "cell_type": "code",
   "execution_count": 7,
   "outputs": [
    {
     "data": {
      "text/plain": "          id diagnosis  radius_mean  texture_mean  perimeter_mean  area_mean  \\\n0     842517         M        20.57         17.77          132.90     1326.0   \n1   84300903         M        19.69         21.25          130.00     1203.0   \n2   84348301         M        11.42         20.38           77.58      386.1   \n3   84358402         M        20.29         14.34          135.10     1297.0   \n4     843786         M        12.45         15.70           82.57      477.1   \n5     844359         M        18.25         19.98          119.60     1040.0   \n6   84458202         M        13.71         20.83           90.20      577.9   \n7     844981         M        13.00         21.82           87.50      519.8   \n8   84501001         M        12.46         24.04           83.97      475.9   \n9     845636         M        16.02         23.24          102.70      797.8   \n10  84610002         M        15.78         17.89          103.60      781.0   \n11    846226         M        19.17         24.80          132.40     1123.0   \n12    846381         M        15.85         23.95          103.70      782.7   \n13  84667401         M        13.73         22.61           93.60      578.3   \n14  84799002         M        14.54         27.54           96.73      658.8   \n15    848406         M        14.68         20.13           94.74      684.5   \n16  84862001         M        16.13         20.68          108.10      798.8   \n17    849014         M        19.81         22.15          130.00     1260.0   \n18   8510426         B        13.54         14.36           87.46      566.3   \n19   8510653         B        13.08         15.71           85.63      520.0   \n\n    smoothness_mean  compactness_mean  concavity_mean  concave points_mean  \\\n0           0.08474           0.07864         0.08690              0.07017   \n1           0.10960           0.15990         0.19740              0.12790   \n2           0.14250           0.28390         0.24140              0.10520   \n3           0.10030           0.13280         0.19800              0.10430   \n4           0.12780           0.17000         0.15780              0.08089   \n5           0.09463           0.10900         0.11270              0.07400   \n6           0.11890           0.16450         0.09366              0.05985   \n7           0.12730           0.19320         0.18590              0.09353   \n8           0.11860           0.23960         0.22730              0.08543   \n9           0.08206           0.06669         0.03299              0.03323   \n10          0.09710           0.12920         0.09954              0.06606   \n11          0.09740           0.24580         0.20650              0.11180   \n12          0.08401           0.10020         0.09938              0.05364   \n13          0.11310           0.22930         0.21280              0.08025   \n14          0.11390           0.15950         0.16390              0.07364   \n15          0.09867           0.07200         0.07395              0.05259   \n16          0.11700           0.20220         0.17220              0.10280   \n17          0.09831           0.10270         0.14790              0.09498   \n18          0.09779           0.08129         0.06664              0.04781   \n19          0.10750           0.12700         0.04568              0.03110   \n\n    ...  radius_worst  texture_worst  perimeter_worst  area_worst  \\\n0   ...         24.99          23.41           158.80      1956.0   \n1   ...         23.57          25.53           152.50      1709.0   \n2   ...         14.91          26.50            98.87       567.7   \n3   ...         22.54          16.67           152.20      1575.0   \n4   ...         15.47          23.75           103.40       741.6   \n5   ...         22.88          27.66           153.20      1606.0   \n6   ...         17.06          28.14           110.60       897.0   \n7   ...         15.49          30.73           106.20       739.3   \n8   ...         15.09          40.68            97.65       711.4   \n9   ...         19.19          33.88           123.80      1150.0   \n10  ...         20.42          27.28           136.50      1299.0   \n11  ...         20.96          29.94           151.70      1332.0   \n12  ...         16.84          27.66           112.00       876.5   \n13  ...         15.03          32.01           108.80       697.7   \n14  ...         17.46          37.13           124.10       943.2   \n15  ...         19.07          30.88           123.40      1138.0   \n16  ...         20.96          31.48           136.80      1315.0   \n17  ...         27.32          30.88           186.80      2398.0   \n18  ...         15.11          19.26            99.70       711.2   \n19  ...         14.50          20.49            96.09       630.5   \n\n    smoothness_worst  compactness_worst  concavity_worst  \\\n0             0.1238             0.1866           0.2416   \n1             0.1444             0.4245           0.4504   \n2             0.2098             0.8663           0.6869   \n3             0.1374             0.2050           0.4000   \n4             0.1791             0.5249           0.5355   \n5             0.1442             0.2576           0.3784   \n6             0.1654             0.3682           0.2678   \n7             0.1703             0.5401           0.5390   \n8             0.1853             1.0580           1.1050   \n9             0.1181             0.1551           0.1459   \n10            0.1396             0.5609           0.3965   \n11            0.1037             0.3903           0.3639   \n12            0.1131             0.1924           0.2322   \n13            0.1651             0.7725           0.6943   \n14            0.1678             0.6577           0.7026   \n15            0.1464             0.1871           0.2914   \n16            0.1789             0.4233           0.4784   \n17            0.1512             0.3150           0.5372   \n18            0.1440             0.1773           0.2390   \n19            0.1312             0.2776           0.1890   \n\n    concave points_worst  symmetry_worst  fractal_dimension_worst  \n0                0.18600          0.2750                  0.08902  \n1                0.24300          0.3613                  0.08758  \n2                0.25750          0.6638                  0.17300  \n3                0.16250          0.2364                  0.07678  \n4                0.17410          0.3985                  0.12440  \n5                0.19320          0.3063                  0.08368  \n6                0.15560          0.3196                  0.11510  \n7                0.20600          0.4378                  0.10720  \n8                0.22100          0.4366                  0.20750  \n9                0.09975          0.2948                  0.08452  \n10               0.18100          0.3792                  0.10480  \n11               0.17670          0.3176                  0.10230  \n12               0.11190          0.2809                  0.06287  \n13               0.22080          0.3596                  0.14310  \n14               0.17120          0.4218                  0.13410  \n15               0.16090          0.3029                  0.08216  \n16               0.20730          0.3706                  0.11420  \n17               0.23880          0.2768                  0.07615  \n18               0.12880          0.2977                  0.07259  \n19               0.07283          0.3184                  0.08183  \n\n[20 rows x 32 columns]",
      "text/html": "<div>\n<style scoped>\n    .dataframe tbody tr th:only-of-type {\n        vertical-align: middle;\n    }\n\n    .dataframe tbody tr th {\n        vertical-align: top;\n    }\n\n    .dataframe thead th {\n        text-align: right;\n    }\n</style>\n<table border=\"1\" class=\"dataframe\">\n  <thead>\n    <tr style=\"text-align: right;\">\n      <th></th>\n      <th>id</th>\n      <th>diagnosis</th>\n      <th>radius_mean</th>\n      <th>texture_mean</th>\n      <th>perimeter_mean</th>\n      <th>area_mean</th>\n      <th>smoothness_mean</th>\n      <th>compactness_mean</th>\n      <th>concavity_mean</th>\n      <th>concave points_mean</th>\n      <th>...</th>\n      <th>radius_worst</th>\n      <th>texture_worst</th>\n      <th>perimeter_worst</th>\n      <th>area_worst</th>\n      <th>smoothness_worst</th>\n      <th>compactness_worst</th>\n      <th>concavity_worst</th>\n      <th>concave points_worst</th>\n      <th>symmetry_worst</th>\n      <th>fractal_dimension_worst</th>\n    </tr>\n  </thead>\n  <tbody>\n    <tr>\n      <th>0</th>\n      <td>842517</td>\n      <td>M</td>\n      <td>20.57</td>\n      <td>17.77</td>\n      <td>132.90</td>\n      <td>1326.0</td>\n      <td>0.08474</td>\n      <td>0.07864</td>\n      <td>0.08690</td>\n      <td>0.07017</td>\n      <td>...</td>\n      <td>24.99</td>\n      <td>23.41</td>\n      <td>158.80</td>\n      <td>1956.0</td>\n      <td>0.1238</td>\n      <td>0.1866</td>\n      <td>0.2416</td>\n      <td>0.18600</td>\n      <td>0.2750</td>\n      <td>0.08902</td>\n    </tr>\n    <tr>\n      <th>1</th>\n      <td>84300903</td>\n      <td>M</td>\n      <td>19.69</td>\n      <td>21.25</td>\n      <td>130.00</td>\n      <td>1203.0</td>\n      <td>0.10960</td>\n      <td>0.15990</td>\n      <td>0.19740</td>\n      <td>0.12790</td>\n      <td>...</td>\n      <td>23.57</td>\n      <td>25.53</td>\n      <td>152.50</td>\n      <td>1709.0</td>\n      <td>0.1444</td>\n      <td>0.4245</td>\n      <td>0.4504</td>\n      <td>0.24300</td>\n      <td>0.3613</td>\n      <td>0.08758</td>\n    </tr>\n    <tr>\n      <th>2</th>\n      <td>84348301</td>\n      <td>M</td>\n      <td>11.42</td>\n      <td>20.38</td>\n      <td>77.58</td>\n      <td>386.1</td>\n      <td>0.14250</td>\n      <td>0.28390</td>\n      <td>0.24140</td>\n      <td>0.10520</td>\n      <td>...</td>\n      <td>14.91</td>\n      <td>26.50</td>\n      <td>98.87</td>\n      <td>567.7</td>\n      <td>0.2098</td>\n      <td>0.8663</td>\n      <td>0.6869</td>\n      <td>0.25750</td>\n      <td>0.6638</td>\n      <td>0.17300</td>\n    </tr>\n    <tr>\n      <th>3</th>\n      <td>84358402</td>\n      <td>M</td>\n      <td>20.29</td>\n      <td>14.34</td>\n      <td>135.10</td>\n      <td>1297.0</td>\n      <td>0.10030</td>\n      <td>0.13280</td>\n      <td>0.19800</td>\n      <td>0.10430</td>\n      <td>...</td>\n      <td>22.54</td>\n      <td>16.67</td>\n      <td>152.20</td>\n      <td>1575.0</td>\n      <td>0.1374</td>\n      <td>0.2050</td>\n      <td>0.4000</td>\n      <td>0.16250</td>\n      <td>0.2364</td>\n      <td>0.07678</td>\n    </tr>\n    <tr>\n      <th>4</th>\n      <td>843786</td>\n      <td>M</td>\n      <td>12.45</td>\n      <td>15.70</td>\n      <td>82.57</td>\n      <td>477.1</td>\n      <td>0.12780</td>\n      <td>0.17000</td>\n      <td>0.15780</td>\n      <td>0.08089</td>\n      <td>...</td>\n      <td>15.47</td>\n      <td>23.75</td>\n      <td>103.40</td>\n      <td>741.6</td>\n      <td>0.1791</td>\n      <td>0.5249</td>\n      <td>0.5355</td>\n      <td>0.17410</td>\n      <td>0.3985</td>\n      <td>0.12440</td>\n    </tr>\n    <tr>\n      <th>5</th>\n      <td>844359</td>\n      <td>M</td>\n      <td>18.25</td>\n      <td>19.98</td>\n      <td>119.60</td>\n      <td>1040.0</td>\n      <td>0.09463</td>\n      <td>0.10900</td>\n      <td>0.11270</td>\n      <td>0.07400</td>\n      <td>...</td>\n      <td>22.88</td>\n      <td>27.66</td>\n      <td>153.20</td>\n      <td>1606.0</td>\n      <td>0.1442</td>\n      <td>0.2576</td>\n      <td>0.3784</td>\n      <td>0.19320</td>\n      <td>0.3063</td>\n      <td>0.08368</td>\n    </tr>\n    <tr>\n      <th>6</th>\n      <td>84458202</td>\n      <td>M</td>\n      <td>13.71</td>\n      <td>20.83</td>\n      <td>90.20</td>\n      <td>577.9</td>\n      <td>0.11890</td>\n      <td>0.16450</td>\n      <td>0.09366</td>\n      <td>0.05985</td>\n      <td>...</td>\n      <td>17.06</td>\n      <td>28.14</td>\n      <td>110.60</td>\n      <td>897.0</td>\n      <td>0.1654</td>\n      <td>0.3682</td>\n      <td>0.2678</td>\n      <td>0.15560</td>\n      <td>0.3196</td>\n      <td>0.11510</td>\n    </tr>\n    <tr>\n      <th>7</th>\n      <td>844981</td>\n      <td>M</td>\n      <td>13.00</td>\n      <td>21.82</td>\n      <td>87.50</td>\n      <td>519.8</td>\n      <td>0.12730</td>\n      <td>0.19320</td>\n      <td>0.18590</td>\n      <td>0.09353</td>\n      <td>...</td>\n      <td>15.49</td>\n      <td>30.73</td>\n      <td>106.20</td>\n      <td>739.3</td>\n      <td>0.1703</td>\n      <td>0.5401</td>\n      <td>0.5390</td>\n      <td>0.20600</td>\n      <td>0.4378</td>\n      <td>0.10720</td>\n    </tr>\n    <tr>\n      <th>8</th>\n      <td>84501001</td>\n      <td>M</td>\n      <td>12.46</td>\n      <td>24.04</td>\n      <td>83.97</td>\n      <td>475.9</td>\n      <td>0.11860</td>\n      <td>0.23960</td>\n      <td>0.22730</td>\n      <td>0.08543</td>\n      <td>...</td>\n      <td>15.09</td>\n      <td>40.68</td>\n      <td>97.65</td>\n      <td>711.4</td>\n      <td>0.1853</td>\n      <td>1.0580</td>\n      <td>1.1050</td>\n      <td>0.22100</td>\n      <td>0.4366</td>\n      <td>0.20750</td>\n    </tr>\n    <tr>\n      <th>9</th>\n      <td>845636</td>\n      <td>M</td>\n      <td>16.02</td>\n      <td>23.24</td>\n      <td>102.70</td>\n      <td>797.8</td>\n      <td>0.08206</td>\n      <td>0.06669</td>\n      <td>0.03299</td>\n      <td>0.03323</td>\n      <td>...</td>\n      <td>19.19</td>\n      <td>33.88</td>\n      <td>123.80</td>\n      <td>1150.0</td>\n      <td>0.1181</td>\n      <td>0.1551</td>\n      <td>0.1459</td>\n      <td>0.09975</td>\n      <td>0.2948</td>\n      <td>0.08452</td>\n    </tr>\n    <tr>\n      <th>10</th>\n      <td>84610002</td>\n      <td>M</td>\n      <td>15.78</td>\n      <td>17.89</td>\n      <td>103.60</td>\n      <td>781.0</td>\n      <td>0.09710</td>\n      <td>0.12920</td>\n      <td>0.09954</td>\n      <td>0.06606</td>\n      <td>...</td>\n      <td>20.42</td>\n      <td>27.28</td>\n      <td>136.50</td>\n      <td>1299.0</td>\n      <td>0.1396</td>\n      <td>0.5609</td>\n      <td>0.3965</td>\n      <td>0.18100</td>\n      <td>0.3792</td>\n      <td>0.10480</td>\n    </tr>\n    <tr>\n      <th>11</th>\n      <td>846226</td>\n      <td>M</td>\n      <td>19.17</td>\n      <td>24.80</td>\n      <td>132.40</td>\n      <td>1123.0</td>\n      <td>0.09740</td>\n      <td>0.24580</td>\n      <td>0.20650</td>\n      <td>0.11180</td>\n      <td>...</td>\n      <td>20.96</td>\n      <td>29.94</td>\n      <td>151.70</td>\n      <td>1332.0</td>\n      <td>0.1037</td>\n      <td>0.3903</td>\n      <td>0.3639</td>\n      <td>0.17670</td>\n      <td>0.3176</td>\n      <td>0.10230</td>\n    </tr>\n    <tr>\n      <th>12</th>\n      <td>846381</td>\n      <td>M</td>\n      <td>15.85</td>\n      <td>23.95</td>\n      <td>103.70</td>\n      <td>782.7</td>\n      <td>0.08401</td>\n      <td>0.10020</td>\n      <td>0.09938</td>\n      <td>0.05364</td>\n      <td>...</td>\n      <td>16.84</td>\n      <td>27.66</td>\n      <td>112.00</td>\n      <td>876.5</td>\n      <td>0.1131</td>\n      <td>0.1924</td>\n      <td>0.2322</td>\n      <td>0.11190</td>\n      <td>0.2809</td>\n      <td>0.06287</td>\n    </tr>\n    <tr>\n      <th>13</th>\n      <td>84667401</td>\n      <td>M</td>\n      <td>13.73</td>\n      <td>22.61</td>\n      <td>93.60</td>\n      <td>578.3</td>\n      <td>0.11310</td>\n      <td>0.22930</td>\n      <td>0.21280</td>\n      <td>0.08025</td>\n      <td>...</td>\n      <td>15.03</td>\n      <td>32.01</td>\n      <td>108.80</td>\n      <td>697.7</td>\n      <td>0.1651</td>\n      <td>0.7725</td>\n      <td>0.6943</td>\n      <td>0.22080</td>\n      <td>0.3596</td>\n      <td>0.14310</td>\n    </tr>\n    <tr>\n      <th>14</th>\n      <td>84799002</td>\n      <td>M</td>\n      <td>14.54</td>\n      <td>27.54</td>\n      <td>96.73</td>\n      <td>658.8</td>\n      <td>0.11390</td>\n      <td>0.15950</td>\n      <td>0.16390</td>\n      <td>0.07364</td>\n      <td>...</td>\n      <td>17.46</td>\n      <td>37.13</td>\n      <td>124.10</td>\n      <td>943.2</td>\n      <td>0.1678</td>\n      <td>0.6577</td>\n      <td>0.7026</td>\n      <td>0.17120</td>\n      <td>0.4218</td>\n      <td>0.13410</td>\n    </tr>\n    <tr>\n      <th>15</th>\n      <td>848406</td>\n      <td>M</td>\n      <td>14.68</td>\n      <td>20.13</td>\n      <td>94.74</td>\n      <td>684.5</td>\n      <td>0.09867</td>\n      <td>0.07200</td>\n      <td>0.07395</td>\n      <td>0.05259</td>\n      <td>...</td>\n      <td>19.07</td>\n      <td>30.88</td>\n      <td>123.40</td>\n      <td>1138.0</td>\n      <td>0.1464</td>\n      <td>0.1871</td>\n      <td>0.2914</td>\n      <td>0.16090</td>\n      <td>0.3029</td>\n      <td>0.08216</td>\n    </tr>\n    <tr>\n      <th>16</th>\n      <td>84862001</td>\n      <td>M</td>\n      <td>16.13</td>\n      <td>20.68</td>\n      <td>108.10</td>\n      <td>798.8</td>\n      <td>0.11700</td>\n      <td>0.20220</td>\n      <td>0.17220</td>\n      <td>0.10280</td>\n      <td>...</td>\n      <td>20.96</td>\n      <td>31.48</td>\n      <td>136.80</td>\n      <td>1315.0</td>\n      <td>0.1789</td>\n      <td>0.4233</td>\n      <td>0.4784</td>\n      <td>0.20730</td>\n      <td>0.3706</td>\n      <td>0.11420</td>\n    </tr>\n    <tr>\n      <th>17</th>\n      <td>849014</td>\n      <td>M</td>\n      <td>19.81</td>\n      <td>22.15</td>\n      <td>130.00</td>\n      <td>1260.0</td>\n      <td>0.09831</td>\n      <td>0.10270</td>\n      <td>0.14790</td>\n      <td>0.09498</td>\n      <td>...</td>\n      <td>27.32</td>\n      <td>30.88</td>\n      <td>186.80</td>\n      <td>2398.0</td>\n      <td>0.1512</td>\n      <td>0.3150</td>\n      <td>0.5372</td>\n      <td>0.23880</td>\n      <td>0.2768</td>\n      <td>0.07615</td>\n    </tr>\n    <tr>\n      <th>18</th>\n      <td>8510426</td>\n      <td>B</td>\n      <td>13.54</td>\n      <td>14.36</td>\n      <td>87.46</td>\n      <td>566.3</td>\n      <td>0.09779</td>\n      <td>0.08129</td>\n      <td>0.06664</td>\n      <td>0.04781</td>\n      <td>...</td>\n      <td>15.11</td>\n      <td>19.26</td>\n      <td>99.70</td>\n      <td>711.2</td>\n      <td>0.1440</td>\n      <td>0.1773</td>\n      <td>0.2390</td>\n      <td>0.12880</td>\n      <td>0.2977</td>\n      <td>0.07259</td>\n    </tr>\n    <tr>\n      <th>19</th>\n      <td>8510653</td>\n      <td>B</td>\n      <td>13.08</td>\n      <td>15.71</td>\n      <td>85.63</td>\n      <td>520.0</td>\n      <td>0.10750</td>\n      <td>0.12700</td>\n      <td>0.04568</td>\n      <td>0.03110</td>\n      <td>...</td>\n      <td>14.50</td>\n      <td>20.49</td>\n      <td>96.09</td>\n      <td>630.5</td>\n      <td>0.1312</td>\n      <td>0.2776</td>\n      <td>0.1890</td>\n      <td>0.07283</td>\n      <td>0.3184</td>\n      <td>0.08183</td>\n    </tr>\n  </tbody>\n</table>\n<p>20 rows × 32 columns</p>\n</div>"
     },
     "execution_count": 7,
     "metadata": {},
     "output_type": "execute_result"
    }
   ],
   "source": [
    "df.head(20)"
   ],
   "metadata": {
    "collapsed": false,
    "pycharm": {
     "name": "#%%\n"
    }
   }
  },
  {
   "cell_type": "code",
   "execution_count": 6,
   "outputs": [],
   "source": [
    "df.columns = [\"id\", \"diagnosis\", \"radius_mean\", \"texture_mean\", \"perimeter_mean\", \"area_mean\",\n",
    "                                      \"smoothness_mean\", \"compactness_mean\", \"concavity_mean\", \"concave points_mean\",\n",
    "                                      \"symmetry_mean\", \"fractal_dimension_mean\", \"radius_se\", \"texture_se\",\n",
    "                                      \"perimeter_se\", \"area_se\", \"smoothness_se\", \"compactness_se\", \"concavity_se\",\n",
    "                                      \"concave points_se\", \"symmetry_se\", \"fractal_dimension_se\", \"radius_worst\",\n",
    "                                      \"texture_worst\", \"perimeter_worst\", \"area_worst\", \"smoothness_worst\",\n",
    "                                      \"compactness_worst\", \"concavity_worst\", \"concave points_worst\", \"symmetry_worst\",\n",
    "                                      \"fractal_dimension_worst\"]"
   ],
   "metadata": {
    "collapsed": false,
    "pycharm": {
     "name": "#%%\n"
    }
   }
  },
  {
   "cell_type": "code",
   "execution_count": 8,
   "outputs": [
    {
     "name": "stdout",
     "output_type": "stream",
     "text": [
      "<class 'pandas.core.frame.DataFrame'>\n",
      "RangeIndex: 568 entries, 0 to 567\n",
      "Data columns (total 32 columns):\n",
      " #   Column                   Non-Null Count  Dtype  \n",
      "---  ------                   --------------  -----  \n",
      " 0   id                       568 non-null    int64  \n",
      " 1   diagnosis                568 non-null    object \n",
      " 2   radius_mean              568 non-null    float64\n",
      " 3   texture_mean             568 non-null    float64\n",
      " 4   perimeter_mean           568 non-null    float64\n",
      " 5   area_mean                568 non-null    float64\n",
      " 6   smoothness_mean          568 non-null    float64\n",
      " 7   compactness_mean         568 non-null    float64\n",
      " 8   concavity_mean           568 non-null    float64\n",
      " 9   concave points_mean      568 non-null    float64\n",
      " 10  symmetry_mean            568 non-null    float64\n",
      " 11  fractal_dimension_mean   568 non-null    float64\n",
      " 12  radius_se                568 non-null    float64\n",
      " 13  texture_se               568 non-null    float64\n",
      " 14  perimeter_se             568 non-null    float64\n",
      " 15  area_se                  568 non-null    float64\n",
      " 16  smoothness_se            568 non-null    float64\n",
      " 17  compactness_se           568 non-null    float64\n",
      " 18  concavity_se             568 non-null    float64\n",
      " 19  concave points_se        568 non-null    float64\n",
      " 20  symmetry_se              568 non-null    float64\n",
      " 21  fractal_dimension_se     568 non-null    float64\n",
      " 22  radius_worst             568 non-null    float64\n",
      " 23  texture_worst            568 non-null    float64\n",
      " 24  perimeter_worst          568 non-null    float64\n",
      " 25  area_worst               568 non-null    float64\n",
      " 26  smoothness_worst         568 non-null    float64\n",
      " 27  compactness_worst        568 non-null    float64\n",
      " 28  concavity_worst          568 non-null    float64\n",
      " 29  concave points_worst     568 non-null    float64\n",
      " 30  symmetry_worst           568 non-null    float64\n",
      " 31  fractal_dimension_worst  568 non-null    float64\n",
      "dtypes: float64(30), int64(1), object(1)\n",
      "memory usage: 142.1+ KB\n"
     ]
    }
   ],
   "source": [
    "df.info()"
   ],
   "metadata": {
    "collapsed": false,
    "pycharm": {
     "name": "#%%\n"
    }
   }
  },
  {
   "cell_type": "code",
   "execution_count": 10,
   "outputs": [],
   "source": [
    "def load_data(data_path): #задаем функцию\n",
    "    ds = pd.read_csv(data_path, names=[\"id\", \"diagnosis\", \"radius_mean\", \"texture_mean\", \"perimeter_mean\", \"area_mean\",\n",
    "                                      \"smoothness_mean\", \"compactness_mean\", \"concavity_mean\", \"concave points_mean\",\n",
    "                                      \"symmetry_mean\", \"fractal_dimension_mean\", \"radius_se\", \"texture_se\",\n",
    "                                      \"perimeter_se\", \"area_se\", \"smoothness_se\", \"compactness_se\", \"concavity_se\",\n",
    "                                      \"concave points_se\", \"symmetry_se\", \"fractal_dimension_se\", \"radius_worst\",\n",
    "                                      \"texture_worst\", \"perimeter_worst\", \"area_worst\", \"smoothness_worst\",\n",
    "                                      \"compactness_worst\", \"concavity_worst\", \"concave points_worst\", \"symmetry_worst\",\n",
    "                                      \"fractal_dimension_worst\"]) #прописываем названия столбцов\n",
    "    y = ds['diagnosis'] #выделяем целевую переменную из общего объема данных\n",
    "    X = ds.drop('diagnosis', axis=1) #удаляем целевую переменную из обучающего множества\n",
    "    X = X.drop('id', axis=1) #удаляем не информативный столбец 'id'\n",
    "    i = len(X.columns)\n",
    "    X = X.drop(X.columns[i - 1], axis=1) #удаляем не информативный столбец 'fractal_dimension_worst'\n",
    "    y.replace(('M', 'B'), (1, 0), inplace=True) #делаем замену значений в целевой переменной на 0 и 1\n",
    "    sc = StandardScaler() #выполняем нормализацию данных, после чего наши данные преобразуются\n",
    "                           #из структуры датафрейм в обычный массив\n",
    "    sc.fit(X)\n",
    "    X_ans = sc.transform(X)\n",
    "    return X_ans, y"
   ],
   "metadata": {
    "collapsed": false,
    "pycharm": {
     "name": "#%%\n"
    }
   }
  }
 ],
 "metadata": {
  "kernelspec": {
   "display_name": "Python 3",
   "language": "python",
   "name": "python3"
  },
  "language_info": {
   "codemirror_mode": {
    "name": "ipython",
    "version": 2
   },
   "file_extension": ".py",
   "mimetype": "text/x-python",
   "name": "python",
   "nbconvert_exporter": "python",
   "pygments_lexer": "ipython2",
   "version": "2.7.6"
  }
 },
 "nbformat": 4,
 "nbformat_minor": 0
}