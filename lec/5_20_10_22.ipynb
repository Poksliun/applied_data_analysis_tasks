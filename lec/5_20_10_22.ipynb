{
 "cells": [
  {
   "cell_type": "code",
   "execution_count": 2,
   "metadata": {
    "collapsed": true
   },
   "outputs": [],
   "source": [
    "# Иерархические методы"
   ]
  },
  {
   "cell_type": "code",
   "execution_count": 3,
   "outputs": [],
   "source": [
    "# Самая простая иерархичесая структура - это древо решений.\n",
    "# Древа решений применяются для решения задач классификации и прогнозирования.\n",
    "# В наиболее простом виде древо решений это ответы на вопросы да и нет.\n",
    "# (Посмотри Задачу классификации цетов ириса (Fisher, 1936) ((Есть такой датасет)))\n",
    "# Деревья решений рисуют линии строго препендикулярно осям\n",
    "# Преимущества деревьев решений:\n",
    "#   Интуитивность и интерпретированность деревьев решений\n",
    "#   Деревья решений дают возможность извлекать правила из базы данных на естественном языке\n",
    "#   Алгоритм конструирования дерева решений не требует от пользователя выбора входных атрибутов (Независимых переменных)\n",
    "#   Точность моделей\n",
    "#   Разработаны ряд масштабируемых алгоритмов\n",
    "#   Быстрый процесс обучения\n",
    "#   Имеют возможность специальной обработки пропущенных значений\n",
    "#   Могут работать и с числовыми и с категориальными типами данных\n",
    "# Недостатки деревьев решений:\n",
    "#   Некоторые алгоритмы например: Исключающая или\n",
    "#   Плохая предсказательная (обобщающая) способность"
   ],
   "metadata": {
    "collapsed": false
   }
  },
  {
   "cell_type": "code",
   "execution_count": 4,
   "outputs": [
    {
     "name": "stderr",
     "output_type": "stream",
     "text": [
      "UsageError: unrecognized arguments: # Вообще нам сказали, что это для настройки графика по факту хз\n"
     ]
    }
   ],
   "source": [
    "import pandas as pd #импорт библиотек, которые потребуются.\n",
    "import numpy as np\n",
    "import matplotlib.pyplot as plt\n",
    "from io import StringIO\n",
    "from IPython.display import Image\n",
    "\n",
    "%matplotlib inline # Вообще нам сказали, что это для настройки графика по факту хз\n",
    "\n",
    "plt.style.use('ggplot')\n",
    "plt.rcParams['figure.figsize'] = (18,12)\n",
    "\n",
    "from warnings import simplefilter\n",
    "simplefilter(action='ignore', category=FutureWarning)"
   ],
   "metadata": {
    "collapsed": false
   }
  },
  {
   "cell_type": "code",
   "execution_count": null,
   "outputs": [],
   "source": [
    "df_churn = pd.read_csv('dir_for_csv_file/Модуль_2_Тема_2_Отток.csv') # загрузим данные из файла (данные по оттоку клиентов)"
   ],
   "metadata": {
    "collapsed": false
   }
  },
  {
   "cell_type": "code",
   "execution_count": null,
   "outputs": [],
   "source": [
    "df_churn.head().transpose() #Посмотрим на наши данные, видно, что они нуждаются в обработке."
   ],
   "metadata": {
    "collapsed": false
   }
  },
  {
   "cell_type": "code",
   "execution_count": null,
   "outputs": [],
   "source": [
    "df_churn.info()"
   ],
   "metadata": {
    "collapsed": false
   }
  },
  {
   "cell_type": "code",
   "execution_count": null,
   "outputs": [],
   "source": [
    "def preproc(df_init: pd.DataFrame): # Объявляем функцию\n",
    "    df_preproc = df_init.copy()\n",
    "    df_preproc = df_preproc.drop(['State', 'Area Code', 'Phone', 'Account Length', 'Intl Charge',\n",
    "                                  'Day Calls', 'Eve Calls', 'VMail Message'], axis=1) # удаляем малоинформативные столбцы\n",
    "\n",
    "    df_preproc.loc[:,  [\"Int'l Plan\", 'VMail Plan']] = \\\n",
    "    df_preproc.loc[:,  [\"Int'l Plan\", 'VMail Plan']].replace({'no': 0, 'yes': 1}) # делаем замену значений в указанных столбцах\n",
    "\n",
    "    df_preproc.loc[:,  'Churn?'] = df_preproc.loc[:,  'Churn?'].replace({'False.': 0, # аналогично делаем замену и в столбце 'Churn?'\n",
    "                                                                         'True.': 1})\n",
    "    return df_preproc"
   ],
   "metadata": {
    "collapsed": false
   }
  },
  {
   "cell_type": "code",
   "execution_count": null,
   "outputs": [],
   "source": [
    "df_preproc = df_churn.pipe(preproc) # обрабоатываем датафрейм при помощи функции, описанной выше.\n",
    "df_preproc.info() # смотрим на наши данные - пропусков нет, и среди данных только числовые значения."
   ],
   "metadata": {
    "collapsed": false
   }
  },
  {
   "cell_type": "code",
   "execution_count": null,
   "outputs": [],
   "source": [
    "X, y = df_preproc.iloc[:, :-1].values, df_preproc.iloc[:, -1].values # разделяем датафрейм на два множества:\n",
    "# данные для обучения и ответы."
   ],
   "metadata": {
    "collapsed": false
   }
  },
  {
   "cell_type": "code",
   "execution_count": null,
   "outputs": [],
   "source": [
    "X.shape\n",
    "X"
   ],
   "metadata": {
    "collapsed": false
   }
  },
  {
   "cell_type": "code",
   "execution_count": null,
   "outputs": [],
   "source": [
    "y.shape"
   ],
   "metadata": {
    "collapsed": false
   }
  },
  {
   "cell_type": "code",
   "execution_count": null,
   "outputs": [],
   "source": [
    "type(X)"
   ],
   "metadata": {
    "collapsed": false
   }
  },
  {
   "cell_type": "markdown",
   "source": [
    "# Кросс-валидация по одному гиперпараметру"
   ],
   "metadata": {
    "collapsed": false
   }
  },
  {
   "cell_type": "markdown",
   "source": [],
   "metadata": {
    "collapsed": false
   }
  },
  {
   "cell_type": "code",
   "execution_count": null,
   "outputs": [],
   "source": [
    "from sklearn.model_selection import validation_curve\n",
    "from sklearn.model_selection import StratifiedKFold"
   ],
   "metadata": {
    "collapsed": false
   }
  },
  {
   "cell_type": "code",
   "execution_count": null,
   "outputs": [],
   "source": [
    "from sklearn.tree import DecisionTreeClassifier #импортируем модель деревьев решений\n",
    "model = DecisionTreeClassifier(random_state=123) # инициализируем модель\n",
    "\n",
    "cv = StratifiedKFold(n_splits=5, shuffle=True, random_state=132) #разбиваем наше множество на 5 частей и перемешиваем \"shuffle=True\"\n",
    "\n",
    "train_scores, valid_scores = validation_curve(model, X, y,       #задаем параметры для валидационной кривой.\n",
    "                                              param_name='max_depth', param_range=range(1, 20),\n",
    "                                              cv=cv, scoring='accuracy')"
   ],
   "metadata": {
    "collapsed": false
   }
  },
  {
   "cell_type": "code",
   "execution_count": null,
   "outputs": [],
   "source": [
    "train_scores.shape"
   ],
   "metadata": {
    "collapsed": false
   }
  },
  {
   "cell_type": "code",
   "execution_count": null,
   "outputs": [],
   "source": [
    "valid_scores.shape\n"
   ],
   "metadata": {
    "collapsed": false
   }
  },
  {
   "cell_type": "code",
   "execution_count": null,
   "outputs": [],
   "source": [
    "train_score_mean = train_scores.mean(axis=1)\n",
    "train_score_std = train_scores.std(axis=1)\n",
    "valid_scores_mean = valid_scores.mean(axis=1)\n",
    "valid_scores_std = valid_scores.std(axis=1)\n",
    "\n",
    "plt.fill_between(range(1,20), train_score_mean-train_score_std, train_score_mean+train_score_std, color='b',\n",
    "                 interpolate=True, alpha=0.5,)\n",
    "plt.fill_between(range(1,20), valid_scores_mean-valid_scores_std, valid_scores_mean+valid_scores_std, color='r',\n",
    "                 interpolate=True, alpha=0.5)\n",
    "\n",
    "plt.plot(range(1,20), train_score_mean, c='b', lw=2)\n",
    "plt.plot(range(1,20), valid_scores_mean, c='r', lw=2)\n",
    "print(max(valid_scores_mean))\n",
    "\n",
    "plt.xlabel('max depth')\n",
    "plt.ylabel('ROC AUC')"
   ],
   "metadata": {
    "collapsed": false
   }
  },
  {
   "cell_type": "code",
   "execution_count": null,
   "outputs": [],
   "source": [
    "\n",
    "from sklearn.model_selection import RandomizedSearchCV #импортирует случайный поиск\n",
    "\n",
    "RND_SEED = 123"
   ],
   "metadata": {
    "collapsed": false
   }
  },
  {
   "cell_type": "code",
   "execution_count": null,
   "outputs": [],
   "source": [
    "param_grid = {                                 #зададим параметры по которым и будем осуществлять поиск\n",
    "    'criterion': ['gini', 'entropy'],\n",
    "    'max_depth': range(2, 8),\n",
    "    'min_samples_leaf': range(5, 10),\n",
    "    'class_weight': [None, 'balanced']}\n",
    "\n",
    "cv = StratifiedKFold(n_splits=5, random_state=123, shuffle=True)\n",
    "\n",
    "model = DecisionTreeClassifier(random_state=123)\n",
    "random_search = RandomizedSearchCV(model, param_distributions=param_grid, n_iter=100, n_jobs=-1,\n",
    "                                   cv=cv, scoring='roc_auc', random_state=123)\n",
    "\n",
    "random_search.fit(X, y)"
   ],
   "metadata": {
    "collapsed": false
   }
  },
  {
   "cell_type": "code",
   "execution_count": null,
   "outputs": [],
   "source": [
    "random_search.best_params_ #выведем наилучшие параметры"
   ],
   "metadata": {
    "collapsed": false
   }
  },
  {
   "cell_type": "code",
   "execution_count": null,
   "outputs": [],
   "source": [
    "random_search.best_score_ #лучшее значение метрики"
   ],
   "metadata": {
    "collapsed": false
   }
  },
  {
   "cell_type": "code",
   "execution_count": null,
   "outputs": [],
   "source": [
    "best_model = random_search.best_estimator_;\n",
    "best_model #параметры наилучшей модели"
   ],
   "metadata": {
    "collapsed": false
   }
  },
  {
   "cell_type": "code",
   "execution_count": null,
   "outputs": [],
   "source": [
    "model = random_search.best_estimator_\n",
    "imp = model.feature_importances_"
   ],
   "metadata": {
    "collapsed": false
   }
  },
  {
   "cell_type": "code",
   "execution_count": null,
   "outputs": [],
   "source": [
    "pd.Series(index=df_preproc.columns[:-1], data = imp).sort_values()"
   ],
   "metadata": {
    "collapsed": false
   }
  },
  {
   "cell_type": "code",
   "execution_count": null,
   "outputs": [],
   "source": [],
   "metadata": {
    "collapsed": false
   }
  }
 ],
 "metadata": {
  "kernelspec": {
   "display_name": "Python 3",
   "language": "python",
   "name": "python3"
  },
  "language_info": {
   "codemirror_mode": {
    "name": "ipython",
    "version": 2
   },
   "file_extension": ".py",
   "mimetype": "text/x-python",
   "name": "python",
   "nbconvert_exporter": "python",
   "pygments_lexer": "ipython2",
   "version": "2.7.6"
  }
 },
 "nbformat": 4,
 "nbformat_minor": 0
}
