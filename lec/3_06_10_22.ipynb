{
 "cells": [
  {
   "cell_type": "code",
   "execution_count": 11,
   "outputs": [],
   "source": [
    "import pandas as pd\n",
    "import numpy\n",
    "\n",
    "\n",
    "\"\"\"Работа с таблицами из .csv\"\"\"\n",
    "# Загрузка и запись данных\n",
    "train = pd.read_csv('dir_for_csv_file/Titanic.csv', sep=',')\n",
    "# Т.к. путь не указан, то => что файл находится в текущей директории\n",
    "# read_csv чтение файла методами библиотеки padndas\n",
    "# файлы .csv можно открыть в экселе, но они будут не отформатированы\n",
    "# sep='n' считывание по разделителю n"
   ],
   "metadata": {
    "collapsed": false,
    "pycharm": {
     "name": "#%%\n"
    }
   }
  },
  {
   "cell_type": "code",
   "execution_count": 12,
   "outputs": [
    {
     "data": {
      "text/plain": "(891, 12)"
     },
     "execution_count": 12,
     "metadata": {},
     "output_type": "execute_result"
    }
   ],
   "source": [
    "train.shape # Выводит размер таблицы"
   ],
   "metadata": {
    "collapsed": false,
    "pycharm": {
     "name": "#%%\n"
    }
   }
  },
  {
   "cell_type": "code",
   "execution_count": 13,
   "outputs": [
    {
     "data": {
      "text/plain": "Index(['PassengerId', 'Survived', 'Pclass', 'Name', 'Sex', 'Age', 'SibSp',\n       'Parch', 'Ticket', 'Fare', 'Cabin', 'Embarked'],\n      dtype='object')"
     },
     "execution_count": 13,
     "metadata": {},
     "output_type": "execute_result"
    }
   ],
   "source": [
    "train.columns # Выводит столбцы"
   ],
   "metadata": {
    "collapsed": false,
    "pycharm": {
     "name": "#%%\n"
    }
   }
  },
  {
   "cell_type": "code",
   "execution_count": 14,
   "outputs": [
    {
     "data": {
      "text/plain": "RangeIndex(start=0, stop=891, step=1)"
     },
     "execution_count": 14,
     "metadata": {},
     "output_type": "execute_result"
    }
   ],
   "source": [
    "train.index # Выводит индексы"
   ],
   "metadata": {
    "collapsed": false,
    "pycharm": {
     "name": "#%%\n"
    }
   }
  },
  {
   "cell_type": "code",
   "execution_count": 15,
   "outputs": [
    {
     "data": {
      "text/plain": "   PassengerId  Survived  Pclass  \\\n0            1         0       3   \n1            2         1       1   \n2            3         1       3   \n3            4         1       1   \n4            5         0       3   \n\n                                                Name     Sex   Age  SibSp  \\\n0                            Braund, Mr. Owen Harris    male  22.0      1   \n1  Cumings, Mrs. John Bradley (Florence Briggs Th...  female  38.0      1   \n2                             Heikkinen, Miss. Laina  female  26.0      0   \n3       Futrelle, Mrs. Jacques Heath (Lily May Peel)  female  35.0      1   \n4                           Allen, Mr. William Henry    male  35.0      0   \n\n   Parch            Ticket     Fare Cabin Embarked  \n0      0         A/5 21171   7.2500   NaN        S  \n1      0          PC 17599  71.2833   C85        C  \n2      0  STON/O2. 3101282   7.9250   NaN        S  \n3      0            113803  53.1000  C123        S  \n4      0            373450   8.0500   NaN        S  ",
      "text/html": "<div>\n<style scoped>\n    .dataframe tbody tr th:only-of-type {\n        vertical-align: middle;\n    }\n\n    .dataframe tbody tr th {\n        vertical-align: top;\n    }\n\n    .dataframe thead th {\n        text-align: right;\n    }\n</style>\n<table border=\"1\" class=\"dataframe\">\n  <thead>\n    <tr style=\"text-align: right;\">\n      <th></th>\n      <th>PassengerId</th>\n      <th>Survived</th>\n      <th>Pclass</th>\n      <th>Name</th>\n      <th>Sex</th>\n      <th>Age</th>\n      <th>SibSp</th>\n      <th>Parch</th>\n      <th>Ticket</th>\n      <th>Fare</th>\n      <th>Cabin</th>\n      <th>Embarked</th>\n    </tr>\n  </thead>\n  <tbody>\n    <tr>\n      <th>0</th>\n      <td>1</td>\n      <td>0</td>\n      <td>3</td>\n      <td>Braund, Mr. Owen Harris</td>\n      <td>male</td>\n      <td>22.0</td>\n      <td>1</td>\n      <td>0</td>\n      <td>A/5 21171</td>\n      <td>7.2500</td>\n      <td>NaN</td>\n      <td>S</td>\n    </tr>\n    <tr>\n      <th>1</th>\n      <td>2</td>\n      <td>1</td>\n      <td>1</td>\n      <td>Cumings, Mrs. John Bradley (Florence Briggs Th...</td>\n      <td>female</td>\n      <td>38.0</td>\n      <td>1</td>\n      <td>0</td>\n      <td>PC 17599</td>\n      <td>71.2833</td>\n      <td>C85</td>\n      <td>C</td>\n    </tr>\n    <tr>\n      <th>2</th>\n      <td>3</td>\n      <td>1</td>\n      <td>3</td>\n      <td>Heikkinen, Miss. Laina</td>\n      <td>female</td>\n      <td>26.0</td>\n      <td>0</td>\n      <td>0</td>\n      <td>STON/O2. 3101282</td>\n      <td>7.9250</td>\n      <td>NaN</td>\n      <td>S</td>\n    </tr>\n    <tr>\n      <th>3</th>\n      <td>4</td>\n      <td>1</td>\n      <td>1</td>\n      <td>Futrelle, Mrs. Jacques Heath (Lily May Peel)</td>\n      <td>female</td>\n      <td>35.0</td>\n      <td>1</td>\n      <td>0</td>\n      <td>113803</td>\n      <td>53.1000</td>\n      <td>C123</td>\n      <td>S</td>\n    </tr>\n    <tr>\n      <th>4</th>\n      <td>5</td>\n      <td>0</td>\n      <td>3</td>\n      <td>Allen, Mr. William Henry</td>\n      <td>male</td>\n      <td>35.0</td>\n      <td>0</td>\n      <td>0</td>\n      <td>373450</td>\n      <td>8.0500</td>\n      <td>NaN</td>\n      <td>S</td>\n    </tr>\n  </tbody>\n</table>\n</div>"
     },
     "execution_count": 15,
     "metadata": {},
     "output_type": "execute_result"
    }
   ],
   "source": [
    "train.head() # выводит несколько первых строк"
   ],
   "metadata": {
    "collapsed": false,
    "pycharm": {
     "name": "#%%\n"
    }
   }
  },
  {
   "cell_type": "code",
   "execution_count": 16,
   "outputs": [
    {
     "data": {
      "text/plain": "                                   0  \\\nPassengerId                        1   \nSurvived                           0   \nPclass                             3   \nName         Braund, Mr. Owen Harris   \nSex                             male   \nAge                             22.0   \nSibSp                              1   \nParch                              0   \nTicket                     A/5 21171   \nFare                            7.25   \nCabin                            NaN   \nEmbarked                           S   \n\n                                                             1  \\\nPassengerId                                                  2   \nSurvived                                                     1   \nPclass                                                       1   \nName         Cumings, Mrs. John Bradley (Florence Briggs Th...   \nSex                                                     female   \nAge                                                       38.0   \nSibSp                                                        1   \nParch                                                        0   \nTicket                                                PC 17599   \nFare                                                   71.2833   \nCabin                                                      C85   \nEmbarked                                                     C   \n\n                                  2  \\\nPassengerId                       3   \nSurvived                          1   \nPclass                            3   \nName         Heikkinen, Miss. Laina   \nSex                          female   \nAge                            26.0   \nSibSp                             0   \nParch                             0   \nTicket             STON/O2. 3101282   \nFare                          7.925   \nCabin                           NaN   \nEmbarked                          S   \n\n                                                        3  \\\nPassengerId                                             4   \nSurvived                                                1   \nPclass                                                  1   \nName         Futrelle, Mrs. Jacques Heath (Lily May Peel)   \nSex                                                female   \nAge                                                  35.0   \nSibSp                                                   1   \nParch                                                   0   \nTicket                                             113803   \nFare                                                 53.1   \nCabin                                                C123   \nEmbarked                                                S   \n\n                                    4  \nPassengerId                         5  \nSurvived                            0  \nPclass                              3  \nName         Allen, Mr. William Henry  \nSex                              male  \nAge                              35.0  \nSibSp                               0  \nParch                               0  \nTicket                         373450  \nFare                             8.05  \nCabin                             NaN  \nEmbarked                            S  ",
      "text/html": "<div>\n<style scoped>\n    .dataframe tbody tr th:only-of-type {\n        vertical-align: middle;\n    }\n\n    .dataframe tbody tr th {\n        vertical-align: top;\n    }\n\n    .dataframe thead th {\n        text-align: right;\n    }\n</style>\n<table border=\"1\" class=\"dataframe\">\n  <thead>\n    <tr style=\"text-align: right;\">\n      <th></th>\n      <th>0</th>\n      <th>1</th>\n      <th>2</th>\n      <th>3</th>\n      <th>4</th>\n    </tr>\n  </thead>\n  <tbody>\n    <tr>\n      <th>PassengerId</th>\n      <td>1</td>\n      <td>2</td>\n      <td>3</td>\n      <td>4</td>\n      <td>5</td>\n    </tr>\n    <tr>\n      <th>Survived</th>\n      <td>0</td>\n      <td>1</td>\n      <td>1</td>\n      <td>1</td>\n      <td>0</td>\n    </tr>\n    <tr>\n      <th>Pclass</th>\n      <td>3</td>\n      <td>1</td>\n      <td>3</td>\n      <td>1</td>\n      <td>3</td>\n    </tr>\n    <tr>\n      <th>Name</th>\n      <td>Braund, Mr. Owen Harris</td>\n      <td>Cumings, Mrs. John Bradley (Florence Briggs Th...</td>\n      <td>Heikkinen, Miss. Laina</td>\n      <td>Futrelle, Mrs. Jacques Heath (Lily May Peel)</td>\n      <td>Allen, Mr. William Henry</td>\n    </tr>\n    <tr>\n      <th>Sex</th>\n      <td>male</td>\n      <td>female</td>\n      <td>female</td>\n      <td>female</td>\n      <td>male</td>\n    </tr>\n    <tr>\n      <th>Age</th>\n      <td>22.0</td>\n      <td>38.0</td>\n      <td>26.0</td>\n      <td>35.0</td>\n      <td>35.0</td>\n    </tr>\n    <tr>\n      <th>SibSp</th>\n      <td>1</td>\n      <td>1</td>\n      <td>0</td>\n      <td>1</td>\n      <td>0</td>\n    </tr>\n    <tr>\n      <th>Parch</th>\n      <td>0</td>\n      <td>0</td>\n      <td>0</td>\n      <td>0</td>\n      <td>0</td>\n    </tr>\n    <tr>\n      <th>Ticket</th>\n      <td>A/5 21171</td>\n      <td>PC 17599</td>\n      <td>STON/O2. 3101282</td>\n      <td>113803</td>\n      <td>373450</td>\n    </tr>\n    <tr>\n      <th>Fare</th>\n      <td>7.25</td>\n      <td>71.2833</td>\n      <td>7.925</td>\n      <td>53.1</td>\n      <td>8.05</td>\n    </tr>\n    <tr>\n      <th>Cabin</th>\n      <td>NaN</td>\n      <td>C85</td>\n      <td>NaN</td>\n      <td>C123</td>\n      <td>NaN</td>\n    </tr>\n    <tr>\n      <th>Embarked</th>\n      <td>S</td>\n      <td>C</td>\n      <td>S</td>\n      <td>S</td>\n      <td>S</td>\n    </tr>\n  </tbody>\n</table>\n</div>"
     },
     "execution_count": 16,
     "metadata": {},
     "output_type": "execute_result"
    }
   ],
   "source": [
    "train.head().T # Транспонирует таблицу"
   ],
   "metadata": {
    "collapsed": false,
    "pycharm": {
     "name": "#%%\n"
    }
   }
  },
  {
   "cell_type": "code",
   "execution_count": 17,
   "outputs": [
    {
     "data": {
      "text/plain": "                                 0    \\\nPassengerId                        1   \nSurvived                           0   \nPclass                             3   \nName         Braund, Mr. Owen Harris   \nSex                             male   \nAge                             22.0   \nSibSp                              1   \nParch                              0   \nTicket                     A/5 21171   \nFare                            7.25   \nCabin                            NaN   \nEmbarked                           S   \n\n                                                           1    \\\nPassengerId                                                  2   \nSurvived                                                     1   \nPclass                                                       1   \nName         Cumings, Mrs. John Bradley (Florence Briggs Th...   \nSex                                                     female   \nAge                                                       38.0   \nSibSp                                                        1   \nParch                                                        0   \nTicket                                                PC 17599   \nFare                                                   71.2833   \nCabin                                                      C85   \nEmbarked                                                     C   \n\n                                2    \\\nPassengerId                       3   \nSurvived                          1   \nPclass                            3   \nName         Heikkinen, Miss. Laina   \nSex                          female   \nAge                            26.0   \nSibSp                             0   \nParch                             0   \nTicket             STON/O2. 3101282   \nFare                          7.925   \nCabin                           NaN   \nEmbarked                          S   \n\n                                                      3    \\\nPassengerId                                             4   \nSurvived                                                1   \nPclass                                                  1   \nName         Futrelle, Mrs. Jacques Heath (Lily May Peel)   \nSex                                                female   \nAge                                                  35.0   \nSibSp                                                   1   \nParch                                                   0   \nTicket                                             113803   \nFare                                                 53.1   \nCabin                                                C123   \nEmbarked                                                S   \n\n                                  4                 5    \\\nPassengerId                         5                 6   \nSurvived                            0                 0   \nPclass                              3                 3   \nName         Allen, Mr. William Henry  Moran, Mr. James   \nSex                              male              male   \nAge                              35.0               NaN   \nSibSp                               0                 0   \nParch                               0                 0   \nTicket                         373450            330877   \nFare                             8.05            8.4583   \nCabin                             NaN               NaN   \nEmbarked                            S                 Q   \n\n                                 6                               7    \\\nPassengerId                        7                               8   \nSurvived                           0                               0   \nPclass                             1                               3   \nName         McCarthy, Mr. Timothy J  Palsson, Master. Gosta Leonard   \nSex                             male                            male   \nAge                             54.0                             2.0   \nSibSp                              0                               3   \nParch                              0                               1   \nTicket                         17463                          349909   \nFare                         51.8625                          21.075   \nCabin                            E46                             NaN   \nEmbarked                           S                               S   \n\n                                                           8    \\\nPassengerId                                                  9   \nSurvived                                                     1   \nPclass                                                       3   \nName         Johnson, Mrs. Oscar W (Elisabeth Vilhelmina Berg)   \nSex                                                     female   \nAge                                                       27.0   \nSibSp                                                        0   \nParch                                                        2   \nTicket                                                  347742   \nFare                                                   11.1333   \nCabin                                                      NaN   \nEmbarked                                                     S   \n\n                                             9    ...                 881  \\\nPassengerId                                   10  ...                 882   \nSurvived                                       1  ...                   0   \nPclass                                         2  ...                   3   \nName         Nasser, Mrs. Nicholas (Adele Achem)  ...  Markun, Mr. Johann   \nSex                                       female  ...                male   \nAge                                         14.0  ...                33.0   \nSibSp                                          1  ...                   0   \nParch                                          0  ...                   0   \nTicket                                    237736  ...              349257   \nFare                                     30.0708  ...              7.8958   \nCabin                                        NaN  ...                 NaN   \nEmbarked                                       C  ...                   S   \n\n                                      882                            883  \\\nPassengerId                           883                            884   \nSurvived                                0                              0   \nPclass                                  3                              2   \nName         Dahlberg, Miss. Gerda Ulrika  Banfield, Mr. Frederick James   \nSex                                female                           male   \nAge                                  22.0                           28.0   \nSibSp                                   0                              0   \nParch                                   0                              0   \nTicket                               7552               C.A./SOTON 34068   \nFare                              10.5167                           10.5   \nCabin                                 NaN                            NaN   \nEmbarked                                S                              S   \n\n                                884                                   885  \\\nPassengerId                     885                                   886   \nSurvived                          0                                     0   \nPclass                            3                                     3   \nName         Sutehall, Mr. Henry Jr  Rice, Mrs. William (Margaret Norton)   \nSex                            male                                female   \nAge                            25.0                                  39.0   \nSibSp                             0                                     0   \nParch                             0                                     5   \nTicket              SOTON/OQ 392076                                382652   \nFare                           7.05                                29.125   \nCabin                           NaN                                   NaN   \nEmbarked                          S                                     Q   \n\n                               886                           887  \\\nPassengerId                    887                           888   \nSurvived                         0                             1   \nPclass                           2                             1   \nName         Montvila, Rev. Juozas  Graham, Miss. Margaret Edith   \nSex                           male                        female   \nAge                           27.0                          19.0   \nSibSp                            0                             0   \nParch                            0                             0   \nTicket                      211536                        112053   \nFare                          13.0                          30.0   \nCabin                          NaN                           B42   \nEmbarked                         S                             S   \n\n                                                  888                    889  \\\nPassengerId                                       889                    890   \nSurvived                                            0                      1   \nPclass                                              3                      1   \nName         Johnston, Miss. Catherine Helen \"Carrie\"  Behr, Mr. Karl Howell   \nSex                                            female                   male   \nAge                                               NaN                   26.0   \nSibSp                                               1                      0   \nParch                                               2                      0   \nTicket                                     W./C. 6607                 111369   \nFare                                            23.45                   30.0   \nCabin                                             NaN                   C148   \nEmbarked                                            S                      C   \n\n                             890  \nPassengerId                  891  \nSurvived                       0  \nPclass                         3  \nName         Dooley, Mr. Patrick  \nSex                         male  \nAge                         32.0  \nSibSp                          0  \nParch                          0  \nTicket                    370376  \nFare                        7.75  \nCabin                        NaN  \nEmbarked                       Q  \n\n[12 rows x 891 columns]",
      "text/html": "<div>\n<style scoped>\n    .dataframe tbody tr th:only-of-type {\n        vertical-align: middle;\n    }\n\n    .dataframe tbody tr th {\n        vertical-align: top;\n    }\n\n    .dataframe thead th {\n        text-align: right;\n    }\n</style>\n<table border=\"1\" class=\"dataframe\">\n  <thead>\n    <tr style=\"text-align: right;\">\n      <th></th>\n      <th>0</th>\n      <th>1</th>\n      <th>2</th>\n      <th>3</th>\n      <th>4</th>\n      <th>5</th>\n      <th>6</th>\n      <th>7</th>\n      <th>8</th>\n      <th>9</th>\n      <th>...</th>\n      <th>881</th>\n      <th>882</th>\n      <th>883</th>\n      <th>884</th>\n      <th>885</th>\n      <th>886</th>\n      <th>887</th>\n      <th>888</th>\n      <th>889</th>\n      <th>890</th>\n    </tr>\n  </thead>\n  <tbody>\n    <tr>\n      <th>PassengerId</th>\n      <td>1</td>\n      <td>2</td>\n      <td>3</td>\n      <td>4</td>\n      <td>5</td>\n      <td>6</td>\n      <td>7</td>\n      <td>8</td>\n      <td>9</td>\n      <td>10</td>\n      <td>...</td>\n      <td>882</td>\n      <td>883</td>\n      <td>884</td>\n      <td>885</td>\n      <td>886</td>\n      <td>887</td>\n      <td>888</td>\n      <td>889</td>\n      <td>890</td>\n      <td>891</td>\n    </tr>\n    <tr>\n      <th>Survived</th>\n      <td>0</td>\n      <td>1</td>\n      <td>1</td>\n      <td>1</td>\n      <td>0</td>\n      <td>0</td>\n      <td>0</td>\n      <td>0</td>\n      <td>1</td>\n      <td>1</td>\n      <td>...</td>\n      <td>0</td>\n      <td>0</td>\n      <td>0</td>\n      <td>0</td>\n      <td>0</td>\n      <td>0</td>\n      <td>1</td>\n      <td>0</td>\n      <td>1</td>\n      <td>0</td>\n    </tr>\n    <tr>\n      <th>Pclass</th>\n      <td>3</td>\n      <td>1</td>\n      <td>3</td>\n      <td>1</td>\n      <td>3</td>\n      <td>3</td>\n      <td>1</td>\n      <td>3</td>\n      <td>3</td>\n      <td>2</td>\n      <td>...</td>\n      <td>3</td>\n      <td>3</td>\n      <td>2</td>\n      <td>3</td>\n      <td>3</td>\n      <td>2</td>\n      <td>1</td>\n      <td>3</td>\n      <td>1</td>\n      <td>3</td>\n    </tr>\n    <tr>\n      <th>Name</th>\n      <td>Braund, Mr. Owen Harris</td>\n      <td>Cumings, Mrs. John Bradley (Florence Briggs Th...</td>\n      <td>Heikkinen, Miss. Laina</td>\n      <td>Futrelle, Mrs. Jacques Heath (Lily May Peel)</td>\n      <td>Allen, Mr. William Henry</td>\n      <td>Moran, Mr. James</td>\n      <td>McCarthy, Mr. Timothy J</td>\n      <td>Palsson, Master. Gosta Leonard</td>\n      <td>Johnson, Mrs. Oscar W (Elisabeth Vilhelmina Berg)</td>\n      <td>Nasser, Mrs. Nicholas (Adele Achem)</td>\n      <td>...</td>\n      <td>Markun, Mr. Johann</td>\n      <td>Dahlberg, Miss. Gerda Ulrika</td>\n      <td>Banfield, Mr. Frederick James</td>\n      <td>Sutehall, Mr. Henry Jr</td>\n      <td>Rice, Mrs. William (Margaret Norton)</td>\n      <td>Montvila, Rev. Juozas</td>\n      <td>Graham, Miss. Margaret Edith</td>\n      <td>Johnston, Miss. Catherine Helen \"Carrie\"</td>\n      <td>Behr, Mr. Karl Howell</td>\n      <td>Dooley, Mr. Patrick</td>\n    </tr>\n    <tr>\n      <th>Sex</th>\n      <td>male</td>\n      <td>female</td>\n      <td>female</td>\n      <td>female</td>\n      <td>male</td>\n      <td>male</td>\n      <td>male</td>\n      <td>male</td>\n      <td>female</td>\n      <td>female</td>\n      <td>...</td>\n      <td>male</td>\n      <td>female</td>\n      <td>male</td>\n      <td>male</td>\n      <td>female</td>\n      <td>male</td>\n      <td>female</td>\n      <td>female</td>\n      <td>male</td>\n      <td>male</td>\n    </tr>\n    <tr>\n      <th>Age</th>\n      <td>22.0</td>\n      <td>38.0</td>\n      <td>26.0</td>\n      <td>35.0</td>\n      <td>35.0</td>\n      <td>NaN</td>\n      <td>54.0</td>\n      <td>2.0</td>\n      <td>27.0</td>\n      <td>14.0</td>\n      <td>...</td>\n      <td>33.0</td>\n      <td>22.0</td>\n      <td>28.0</td>\n      <td>25.0</td>\n      <td>39.0</td>\n      <td>27.0</td>\n      <td>19.0</td>\n      <td>NaN</td>\n      <td>26.0</td>\n      <td>32.0</td>\n    </tr>\n    <tr>\n      <th>SibSp</th>\n      <td>1</td>\n      <td>1</td>\n      <td>0</td>\n      <td>1</td>\n      <td>0</td>\n      <td>0</td>\n      <td>0</td>\n      <td>3</td>\n      <td>0</td>\n      <td>1</td>\n      <td>...</td>\n      <td>0</td>\n      <td>0</td>\n      <td>0</td>\n      <td>0</td>\n      <td>0</td>\n      <td>0</td>\n      <td>0</td>\n      <td>1</td>\n      <td>0</td>\n      <td>0</td>\n    </tr>\n    <tr>\n      <th>Parch</th>\n      <td>0</td>\n      <td>0</td>\n      <td>0</td>\n      <td>0</td>\n      <td>0</td>\n      <td>0</td>\n      <td>0</td>\n      <td>1</td>\n      <td>2</td>\n      <td>0</td>\n      <td>...</td>\n      <td>0</td>\n      <td>0</td>\n      <td>0</td>\n      <td>0</td>\n      <td>5</td>\n      <td>0</td>\n      <td>0</td>\n      <td>2</td>\n      <td>0</td>\n      <td>0</td>\n    </tr>\n    <tr>\n      <th>Ticket</th>\n      <td>A/5 21171</td>\n      <td>PC 17599</td>\n      <td>STON/O2. 3101282</td>\n      <td>113803</td>\n      <td>373450</td>\n      <td>330877</td>\n      <td>17463</td>\n      <td>349909</td>\n      <td>347742</td>\n      <td>237736</td>\n      <td>...</td>\n      <td>349257</td>\n      <td>7552</td>\n      <td>C.A./SOTON 34068</td>\n      <td>SOTON/OQ 392076</td>\n      <td>382652</td>\n      <td>211536</td>\n      <td>112053</td>\n      <td>W./C. 6607</td>\n      <td>111369</td>\n      <td>370376</td>\n    </tr>\n    <tr>\n      <th>Fare</th>\n      <td>7.25</td>\n      <td>71.2833</td>\n      <td>7.925</td>\n      <td>53.1</td>\n      <td>8.05</td>\n      <td>8.4583</td>\n      <td>51.8625</td>\n      <td>21.075</td>\n      <td>11.1333</td>\n      <td>30.0708</td>\n      <td>...</td>\n      <td>7.8958</td>\n      <td>10.5167</td>\n      <td>10.5</td>\n      <td>7.05</td>\n      <td>29.125</td>\n      <td>13.0</td>\n      <td>30.0</td>\n      <td>23.45</td>\n      <td>30.0</td>\n      <td>7.75</td>\n    </tr>\n    <tr>\n      <th>Cabin</th>\n      <td>NaN</td>\n      <td>C85</td>\n      <td>NaN</td>\n      <td>C123</td>\n      <td>NaN</td>\n      <td>NaN</td>\n      <td>E46</td>\n      <td>NaN</td>\n      <td>NaN</td>\n      <td>NaN</td>\n      <td>...</td>\n      <td>NaN</td>\n      <td>NaN</td>\n      <td>NaN</td>\n      <td>NaN</td>\n      <td>NaN</td>\n      <td>NaN</td>\n      <td>B42</td>\n      <td>NaN</td>\n      <td>C148</td>\n      <td>NaN</td>\n    </tr>\n    <tr>\n      <th>Embarked</th>\n      <td>S</td>\n      <td>C</td>\n      <td>S</td>\n      <td>S</td>\n      <td>S</td>\n      <td>Q</td>\n      <td>S</td>\n      <td>S</td>\n      <td>S</td>\n      <td>C</td>\n      <td>...</td>\n      <td>S</td>\n      <td>S</td>\n      <td>S</td>\n      <td>S</td>\n      <td>Q</td>\n      <td>S</td>\n      <td>S</td>\n      <td>S</td>\n      <td>C</td>\n      <td>Q</td>\n    </tr>\n  </tbody>\n</table>\n<p>12 rows × 891 columns</p>\n</div>"
     },
     "execution_count": 17,
     "metadata": {},
     "output_type": "execute_result"
    }
   ],
   "source": [
    "train.transpose() # Примерно то же самое"
   ],
   "metadata": {
    "collapsed": false,
    "pycharm": {
     "name": "#%%\n"
    }
   }
  },
  {
   "cell_type": "code",
   "execution_count": 18,
   "outputs": [],
   "source": [
    "train_change = train.transpose()"
   ],
   "metadata": {
    "collapsed": false,
    "pycharm": {
     "name": "#%%\n"
    }
   }
  },
  {
   "cell_type": "code",
   "execution_count": 19,
   "outputs": [
    {
     "name": "stdout",
     "output_type": "stream",
     "text": [
      "<class 'pandas.core.frame.DataFrame'>\n",
      "Index: 12 entries, PassengerId to Embarked\n",
      "Columns: 891 entries, 0 to 890\n",
      "dtypes: object(891)\n",
      "memory usage: 83.9+ KB\n"
     ]
    }
   ],
   "source": [
    "train_change.info() # выводит информацию о таблице"
   ],
   "metadata": {
    "collapsed": false,
    "pycharm": {
     "name": "#%%\n"
    }
   }
  },
  {
   "cell_type": "code",
   "execution_count": 20,
   "outputs": [
    {
     "name": "stdout",
     "output_type": "stream",
     "text": [
      "<class 'pandas.core.frame.DataFrame'>\n",
      "RangeIndex: 891 entries, 0 to 890\n",
      "Data columns (total 12 columns):\n",
      " #   Column       Non-Null Count  Dtype  \n",
      "---  ------       --------------  -----  \n",
      " 0   PassengerId  891 non-null    int64  \n",
      " 1   Survived     891 non-null    int64  \n",
      " 2   Pclass       891 non-null    int64  \n",
      " 3   Name         891 non-null    object \n",
      " 4   Sex          891 non-null    object \n",
      " 5   Age          714 non-null    float64\n",
      " 6   SibSp        891 non-null    int64  \n",
      " 7   Parch        891 non-null    int64  \n",
      " 8   Ticket       891 non-null    object \n",
      " 9   Fare         891 non-null    float64\n",
      " 10  Cabin        204 non-null    object \n",
      " 11  Embarked     889 non-null    object \n",
      "dtypes: float64(2), int64(5), object(5)\n",
      "memory usage: 83.7+ KB\n"
     ]
    }
   ],
   "source": [
    "train.info()"
   ],
   "metadata": {
    "collapsed": false,
    "pycharm": {
     "name": "#%%\n"
    }
   }
  },
  {
   "cell_type": "code",
   "execution_count": 21,
   "outputs": [
    {
     "data": {
      "text/plain": "       PassengerId    Survived      Pclass         Age       SibSp  \\\ncount   891.000000  891.000000  891.000000  714.000000  891.000000   \nmean    446.000000    0.383838    2.308642   29.699118    0.523008   \nstd     257.353842    0.486592    0.836071   14.526497    1.102743   \nmin       1.000000    0.000000    1.000000    0.420000    0.000000   \n25%     223.500000    0.000000    2.000000   20.125000    0.000000   \n50%     446.000000    0.000000    3.000000   28.000000    0.000000   \n75%     668.500000    1.000000    3.000000   38.000000    1.000000   \nmax     891.000000    1.000000    3.000000   80.000000    8.000000   \n\n            Parch        Fare  \ncount  891.000000  891.000000  \nmean     0.381594   32.204208  \nstd      0.806057   49.693429  \nmin      0.000000    0.000000  \n25%      0.000000    7.910400  \n50%      0.000000   14.454200  \n75%      0.000000   31.000000  \nmax      6.000000  512.329200  ",
      "text/html": "<div>\n<style scoped>\n    .dataframe tbody tr th:only-of-type {\n        vertical-align: middle;\n    }\n\n    .dataframe tbody tr th {\n        vertical-align: top;\n    }\n\n    .dataframe thead th {\n        text-align: right;\n    }\n</style>\n<table border=\"1\" class=\"dataframe\">\n  <thead>\n    <tr style=\"text-align: right;\">\n      <th></th>\n      <th>PassengerId</th>\n      <th>Survived</th>\n      <th>Pclass</th>\n      <th>Age</th>\n      <th>SibSp</th>\n      <th>Parch</th>\n      <th>Fare</th>\n    </tr>\n  </thead>\n  <tbody>\n    <tr>\n      <th>count</th>\n      <td>891.000000</td>\n      <td>891.000000</td>\n      <td>891.000000</td>\n      <td>714.000000</td>\n      <td>891.000000</td>\n      <td>891.000000</td>\n      <td>891.000000</td>\n    </tr>\n    <tr>\n      <th>mean</th>\n      <td>446.000000</td>\n      <td>0.383838</td>\n      <td>2.308642</td>\n      <td>29.699118</td>\n      <td>0.523008</td>\n      <td>0.381594</td>\n      <td>32.204208</td>\n    </tr>\n    <tr>\n      <th>std</th>\n      <td>257.353842</td>\n      <td>0.486592</td>\n      <td>0.836071</td>\n      <td>14.526497</td>\n      <td>1.102743</td>\n      <td>0.806057</td>\n      <td>49.693429</td>\n    </tr>\n    <tr>\n      <th>min</th>\n      <td>1.000000</td>\n      <td>0.000000</td>\n      <td>1.000000</td>\n      <td>0.420000</td>\n      <td>0.000000</td>\n      <td>0.000000</td>\n      <td>0.000000</td>\n    </tr>\n    <tr>\n      <th>25%</th>\n      <td>223.500000</td>\n      <td>0.000000</td>\n      <td>2.000000</td>\n      <td>20.125000</td>\n      <td>0.000000</td>\n      <td>0.000000</td>\n      <td>7.910400</td>\n    </tr>\n    <tr>\n      <th>50%</th>\n      <td>446.000000</td>\n      <td>0.000000</td>\n      <td>3.000000</td>\n      <td>28.000000</td>\n      <td>0.000000</td>\n      <td>0.000000</td>\n      <td>14.454200</td>\n    </tr>\n    <tr>\n      <th>75%</th>\n      <td>668.500000</td>\n      <td>1.000000</td>\n      <td>3.000000</td>\n      <td>38.000000</td>\n      <td>1.000000</td>\n      <td>0.000000</td>\n      <td>31.000000</td>\n    </tr>\n    <tr>\n      <th>max</th>\n      <td>891.000000</td>\n      <td>1.000000</td>\n      <td>3.000000</td>\n      <td>80.000000</td>\n      <td>8.000000</td>\n      <td>6.000000</td>\n      <td>512.329200</td>\n    </tr>\n  </tbody>\n</table>\n</div>"
     },
     "execution_count": 21,
     "metadata": {},
     "output_type": "execute_result"
    }
   ],
   "source": [
    "train.describe() # Выводит краткую статистику"
   ],
   "metadata": {
    "collapsed": false,
    "pycharm": {
     "name": "#%%\n"
    }
   }
  },
  {
   "cell_type": "code",
   "execution_count": 22,
   "outputs": [
    {
     "data": {
      "text/plain": "0                                Braund, Mr. Owen Harris\n1      Cumings, Mrs. John Bradley (Florence Briggs Th...\n2                                 Heikkinen, Miss. Laina\n3           Futrelle, Mrs. Jacques Heath (Lily May Peel)\n4                               Allen, Mr. William Henry\n                             ...                        \n886                                Montvila, Rev. Juozas\n887                         Graham, Miss. Margaret Edith\n888             Johnston, Miss. Catherine Helen \"Carrie\"\n889                                Behr, Mr. Karl Howell\n890                                  Dooley, Mr. Patrick\nName: Name, Length: 891, dtype: object"
     },
     "execution_count": 22,
     "metadata": {},
     "output_type": "execute_result"
    }
   ],
   "source": [
    "train['Name'] # Обращение по названию столбца"
   ],
   "metadata": {
    "collapsed": false,
    "pycharm": {
     "name": "#%%\n"
    }
   }
  },
  {
   "cell_type": "code",
   "execution_count": 23,
   "outputs": [
    {
     "data": {
      "text/plain": "pandas.core.series.Series"
     },
     "execution_count": 23,
     "metadata": {},
     "output_type": "execute_result"
    }
   ],
   "source": [
    "type(train['Name'])"
   ],
   "metadata": {
    "collapsed": false,
    "pycharm": {
     "name": "#%%\n"
    }
   }
  },
  {
   "cell_type": "code",
   "execution_count": 24,
   "outputs": [
    {
     "name": "stdout",
     "output_type": "stream",
     "text": [
      "Pears, Mrs. Thomas (Edith Wearne)\n",
      "Chibnall, Mrs. (Edith Martha Bowerman)\n",
      "Graham, Mrs. William Thompson (Edith Junkins)\n",
      "Bowerman, Miss. Elsie Edith\n",
      "Sage, Miss. Dorothy Edith \"Dolly\"\n",
      "Graham, Miss. Margaret Edith\n"
     ]
    }
   ],
   "source": [
    "# Пройдем циклом for по всем именам\n",
    "for i in train['Name']:\n",
    "    if ('Edith ' in i) or (i.endswith('Edith')):\n",
    "        print(i)"
   ],
   "metadata": {
    "collapsed": false,
    "pycharm": {
     "name": "#%%\n"
    }
   }
  },
  {
   "cell_type": "code",
   "execution_count": 25,
   "outputs": [
    {
     "data": {
      "text/plain": "                                                  Name     Sex\n0                              Braund, Mr. Owen Harris    male\n1    Cumings, Mrs. John Bradley (Florence Briggs Th...  female\n2                               Heikkinen, Miss. Laina  female\n3         Futrelle, Mrs. Jacques Heath (Lily May Peel)  female\n4                             Allen, Mr. William Henry    male\n..                                                 ...     ...\n886                              Montvila, Rev. Juozas    male\n887                       Graham, Miss. Margaret Edith  female\n888           Johnston, Miss. Catherine Helen \"Carrie\"  female\n889                              Behr, Mr. Karl Howell    male\n890                                Dooley, Mr. Patrick    male\n\n[891 rows x 2 columns]",
      "text/html": "<div>\n<style scoped>\n    .dataframe tbody tr th:only-of-type {\n        vertical-align: middle;\n    }\n\n    .dataframe tbody tr th {\n        vertical-align: top;\n    }\n\n    .dataframe thead th {\n        text-align: right;\n    }\n</style>\n<table border=\"1\" class=\"dataframe\">\n  <thead>\n    <tr style=\"text-align: right;\">\n      <th></th>\n      <th>Name</th>\n      <th>Sex</th>\n    </tr>\n  </thead>\n  <tbody>\n    <tr>\n      <th>0</th>\n      <td>Braund, Mr. Owen Harris</td>\n      <td>male</td>\n    </tr>\n    <tr>\n      <th>1</th>\n      <td>Cumings, Mrs. John Bradley (Florence Briggs Th...</td>\n      <td>female</td>\n    </tr>\n    <tr>\n      <th>2</th>\n      <td>Heikkinen, Miss. Laina</td>\n      <td>female</td>\n    </tr>\n    <tr>\n      <th>3</th>\n      <td>Futrelle, Mrs. Jacques Heath (Lily May Peel)</td>\n      <td>female</td>\n    </tr>\n    <tr>\n      <th>4</th>\n      <td>Allen, Mr. William Henry</td>\n      <td>male</td>\n    </tr>\n    <tr>\n      <th>...</th>\n      <td>...</td>\n      <td>...</td>\n    </tr>\n    <tr>\n      <th>886</th>\n      <td>Montvila, Rev. Juozas</td>\n      <td>male</td>\n    </tr>\n    <tr>\n      <th>887</th>\n      <td>Graham, Miss. Margaret Edith</td>\n      <td>female</td>\n    </tr>\n    <tr>\n      <th>888</th>\n      <td>Johnston, Miss. Catherine Helen \"Carrie\"</td>\n      <td>female</td>\n    </tr>\n    <tr>\n      <th>889</th>\n      <td>Behr, Mr. Karl Howell</td>\n      <td>male</td>\n    </tr>\n    <tr>\n      <th>890</th>\n      <td>Dooley, Mr. Patrick</td>\n      <td>male</td>\n    </tr>\n  </tbody>\n</table>\n<p>891 rows × 2 columns</p>\n</div>"
     },
     "execution_count": 25,
     "metadata": {},
     "output_type": "execute_result"
    }
   ],
   "source": [
    "train[['Name','Sex']]"
   ],
   "metadata": {
    "collapsed": false,
    "pycharm": {
     "name": "#%%\n"
    }
   }
  },
  {
   "cell_type": "code",
   "execution_count": 26,
   "outputs": [
    {
     "data": {
      "text/plain": "0      23\n1      51\n2      22\n3      44\n4      24\n       ..\n886    21\n887    28\n888    40\n889    21\n890    19\nName: Name, Length: 891, dtype: int64"
     },
     "execution_count": 26,
     "metadata": {},
     "output_type": "execute_result"
    }
   ],
   "source": [
    "train['Name'].map(len) # Для каждого элемента столбца Name применяет функцию len и выводит ее длину"
   ],
   "metadata": {
    "collapsed": false,
    "pycharm": {
     "name": "#%%\n"
    }
   }
  },
  {
   "cell_type": "code",
   "execution_count": 27,
   "outputs": [
    {
     "data": {
      "text/plain": "'Функции'"
     },
     "execution_count": 27,
     "metadata": {},
     "output_type": "execute_result"
    }
   ],
   "source": [
    "\"\"\"Функции\"\"\""
   ],
   "metadata": {
    "collapsed": false,
    "pycharm": {
     "name": "#%%\n"
    }
   }
  },
  {
   "cell_type": "code",
   "execution_count": 28,
   "outputs": [],
   "source": [
    "def is_Mr(string) -> bool: # Создаем функцию определяющую есть ли вхождения по строке \"Mr.\"\n",
    "    return  'Mr.' in string"
   ],
   "metadata": {
    "collapsed": false,
    "pycharm": {
     "name": "#%%\n"
    }
   }
  },
  {
   "cell_type": "code",
   "execution_count": 29,
   "outputs": [
    {
     "data": {
      "text/plain": "True"
     },
     "execution_count": 29,
     "metadata": {},
     "output_type": "execute_result"
    }
   ],
   "source": [
    "is_Mr('Mr. Machine learning')"
   ],
   "metadata": {
    "collapsed": false,
    "pycharm": {
     "name": "#%%\n"
    }
   }
  },
  {
   "cell_type": "code",
   "execution_count": 30,
   "outputs": [
    {
     "data": {
      "text/plain": "   PassengerId  Survived  Pclass  \\\n0            1         0       3   \n1            2         1       1   \n2            3         1       3   \n3            4         1       1   \n4            5         0       3   \n\n                                                Name     Sex   Age  SibSp  \\\n0                            Braund, Mr. Owen Harris    male  22.0      1   \n1  Cumings, Mrs. John Bradley (Florence Briggs Th...  female  38.0      1   \n2                             Heikkinen, Miss. Laina  female  26.0      0   \n3       Futrelle, Mrs. Jacques Heath (Lily May Peel)  female  35.0      1   \n4                           Allen, Mr. William Henry    male  35.0      0   \n\n   Parch            Ticket     Fare Cabin Embarked  is_Mr  \n0      0         A/5 21171   7.2500   NaN        S   True  \n1      0          PC 17599  71.2833   C85        C  False  \n2      0  STON/O2. 3101282   7.9250   NaN        S  False  \n3      0            113803  53.1000  C123        S  False  \n4      0            373450   8.0500   NaN        S   True  ",
      "text/html": "<div>\n<style scoped>\n    .dataframe tbody tr th:only-of-type {\n        vertical-align: middle;\n    }\n\n    .dataframe tbody tr th {\n        vertical-align: top;\n    }\n\n    .dataframe thead th {\n        text-align: right;\n    }\n</style>\n<table border=\"1\" class=\"dataframe\">\n  <thead>\n    <tr style=\"text-align: right;\">\n      <th></th>\n      <th>PassengerId</th>\n      <th>Survived</th>\n      <th>Pclass</th>\n      <th>Name</th>\n      <th>Sex</th>\n      <th>Age</th>\n      <th>SibSp</th>\n      <th>Parch</th>\n      <th>Ticket</th>\n      <th>Fare</th>\n      <th>Cabin</th>\n      <th>Embarked</th>\n      <th>is_Mr</th>\n    </tr>\n  </thead>\n  <tbody>\n    <tr>\n      <th>0</th>\n      <td>1</td>\n      <td>0</td>\n      <td>3</td>\n      <td>Braund, Mr. Owen Harris</td>\n      <td>male</td>\n      <td>22.0</td>\n      <td>1</td>\n      <td>0</td>\n      <td>A/5 21171</td>\n      <td>7.2500</td>\n      <td>NaN</td>\n      <td>S</td>\n      <td>True</td>\n    </tr>\n    <tr>\n      <th>1</th>\n      <td>2</td>\n      <td>1</td>\n      <td>1</td>\n      <td>Cumings, Mrs. John Bradley (Florence Briggs Th...</td>\n      <td>female</td>\n      <td>38.0</td>\n      <td>1</td>\n      <td>0</td>\n      <td>PC 17599</td>\n      <td>71.2833</td>\n      <td>C85</td>\n      <td>C</td>\n      <td>False</td>\n    </tr>\n    <tr>\n      <th>2</th>\n      <td>3</td>\n      <td>1</td>\n      <td>3</td>\n      <td>Heikkinen, Miss. Laina</td>\n      <td>female</td>\n      <td>26.0</td>\n      <td>0</td>\n      <td>0</td>\n      <td>STON/O2. 3101282</td>\n      <td>7.9250</td>\n      <td>NaN</td>\n      <td>S</td>\n      <td>False</td>\n    </tr>\n    <tr>\n      <th>3</th>\n      <td>4</td>\n      <td>1</td>\n      <td>1</td>\n      <td>Futrelle, Mrs. Jacques Heath (Lily May Peel)</td>\n      <td>female</td>\n      <td>35.0</td>\n      <td>1</td>\n      <td>0</td>\n      <td>113803</td>\n      <td>53.1000</td>\n      <td>C123</td>\n      <td>S</td>\n      <td>False</td>\n    </tr>\n    <tr>\n      <th>4</th>\n      <td>5</td>\n      <td>0</td>\n      <td>3</td>\n      <td>Allen, Mr. William Henry</td>\n      <td>male</td>\n      <td>35.0</td>\n      <td>0</td>\n      <td>0</td>\n      <td>373450</td>\n      <td>8.0500</td>\n      <td>NaN</td>\n      <td>S</td>\n      <td>True</td>\n    </tr>\n  </tbody>\n</table>\n</div>"
     },
     "execution_count": 30,
     "metadata": {},
     "output_type": "execute_result"
    }
   ],
   "source": [
    "train['is_Mr'] = train['Name'].map(lambda s: 'Mr.' in s)\n",
    "# Добавили новый столбец с определением мистера через лямбда функцию\n",
    "train.head()"
   ],
   "metadata": {
    "collapsed": false,
    "pycharm": {
     "name": "#%%\n"
    }
   }
  },
  {
   "cell_type": "code",
   "execution_count": 31,
   "outputs": [
    {
     "data": {
      "text/plain": "0       True\n1      False\n2      False\n3      False\n4       True\n       ...  \n886    False\n887    False\n888    False\n889     True\n890     True\nName: Name, Length: 891, dtype: bool"
     },
     "execution_count": 31,
     "metadata": {},
     "output_type": "execute_result"
    }
   ],
   "source": [
    "train['Name'].str.contains('Mr. ') # Сделали прмерно тоже самое, что и выше"
   ],
   "metadata": {
    "collapsed": false,
    "pycharm": {
     "name": "#%%\n"
    }
   }
  },
  {
   "cell_type": "code",
   "execution_count": 32,
   "outputs": [
    {
     "data": {
      "text/plain": "                               Name  PassengerId\n0           Braund, Mr. Owen Harris            1\n4          Allen, Mr. William Henry            5\n5                  Moran, Mr. James            6\n6           McCarthy, Mr. Timothy J            7\n7    Palsson, Master. Gosta Leonard            8\n..                              ...          ...\n883   Banfield, Mr. Frederick James          884\n884          Sutehall, Mr. Henry Jr          885\n886           Montvila, Rev. Juozas          887\n889           Behr, Mr. Karl Howell          890\n890             Dooley, Mr. Patrick          891\n\n[577 rows x 2 columns]",
      "text/html": "<div>\n<style scoped>\n    .dataframe tbody tr th:only-of-type {\n        vertical-align: middle;\n    }\n\n    .dataframe tbody tr th {\n        vertical-align: top;\n    }\n\n    .dataframe thead th {\n        text-align: right;\n    }\n</style>\n<table border=\"1\" class=\"dataframe\">\n  <thead>\n    <tr style=\"text-align: right;\">\n      <th></th>\n      <th>Name</th>\n      <th>PassengerId</th>\n    </tr>\n  </thead>\n  <tbody>\n    <tr>\n      <th>0</th>\n      <td>Braund, Mr. Owen Harris</td>\n      <td>1</td>\n    </tr>\n    <tr>\n      <th>4</th>\n      <td>Allen, Mr. William Henry</td>\n      <td>5</td>\n    </tr>\n    <tr>\n      <th>5</th>\n      <td>Moran, Mr. James</td>\n      <td>6</td>\n    </tr>\n    <tr>\n      <th>6</th>\n      <td>McCarthy, Mr. Timothy J</td>\n      <td>7</td>\n    </tr>\n    <tr>\n      <th>7</th>\n      <td>Palsson, Master. Gosta Leonard</td>\n      <td>8</td>\n    </tr>\n    <tr>\n      <th>...</th>\n      <td>...</td>\n      <td>...</td>\n    </tr>\n    <tr>\n      <th>883</th>\n      <td>Banfield, Mr. Frederick James</td>\n      <td>884</td>\n    </tr>\n    <tr>\n      <th>884</th>\n      <td>Sutehall, Mr. Henry Jr</td>\n      <td>885</td>\n    </tr>\n    <tr>\n      <th>886</th>\n      <td>Montvila, Rev. Juozas</td>\n      <td>887</td>\n    </tr>\n    <tr>\n      <th>889</th>\n      <td>Behr, Mr. Karl Howell</td>\n      <td>890</td>\n    </tr>\n    <tr>\n      <th>890</th>\n      <td>Dooley, Mr. Patrick</td>\n      <td>891</td>\n    </tr>\n  </tbody>\n</table>\n<p>577 rows × 2 columns</p>\n</div>"
     },
     "execution_count": 32,
     "metadata": {},
     "output_type": "execute_result"
    }
   ],
   "source": [
    "train[train['Sex'] == 'male'][['Name', 'PassengerId']] # Выводит только строки в которых Sex == male"
   ],
   "metadata": {
    "collapsed": false,
    "pycharm": {
     "name": "#%%\n"
    }
   }
  },
  {
   "cell_type": "code",
   "execution_count": 33,
   "outputs": [],
   "source": [
    "tmp = train[54:116] # Так же можно использовать срезы по столбцам"
   ],
   "metadata": {
    "collapsed": false,
    "pycharm": {
     "name": "#%%\n"
    }
   }
  },
  {
   "cell_type": "code",
   "execution_count": 34,
   "outputs": [
    {
     "data": {
      "text/plain": "     PassengerId  Survived  Pclass                            Name     Sex  \\\n54            55         0       1  Ostby, Mr. Engelhart Cornelius    male   \n55            56         1       1               Woolner, Mr. Hugh    male   \n56            57         1       2               Rugg, Miss. Emily  female   \n57            58         0       3             Novel, Mr. Mansouer    male   \n58            59         1       2    West, Miss. Constance Mirium  female   \n..           ...       ...     ...                             ...     ...   \n111          112         0       3            Zabour, Miss. Hileni  female   \n112          113         0       3          Barton, Mr. David John    male   \n113          114         0       3         Jussila, Miss. Katriina  female   \n114          115         0       3           Attalah, Miss. Malake  female   \n115          116         0       3           Pekoniemi, Mr. Edvard    male   \n\n      Age  SibSp  Parch             Ticket     Fare Cabin Embarked  is_Mr  \n54   65.0      0      1             113509  61.9792   B30        C   True  \n55    NaN      0      0              19947  35.5000   C52        S   True  \n56   21.0      0      0         C.A. 31026  10.5000   NaN        S  False  \n57   28.5      0      0               2697   7.2292   NaN        C   True  \n58    5.0      1      2         C.A. 34651  27.7500   NaN        S  False  \n..    ...    ...    ...                ...      ...   ...      ...    ...  \n111  14.5      1      0               2665  14.4542   NaN        C  False  \n112  22.0      0      0             324669   8.0500   NaN        S   True  \n113  20.0      1      0               4136   9.8250   NaN        S  False  \n114  17.0      0      0               2627  14.4583   NaN        C  False  \n115  21.0      0      0  STON/O 2. 3101294   7.9250   NaN        S   True  \n\n[62 rows x 13 columns]",
      "text/html": "<div>\n<style scoped>\n    .dataframe tbody tr th:only-of-type {\n        vertical-align: middle;\n    }\n\n    .dataframe tbody tr th {\n        vertical-align: top;\n    }\n\n    .dataframe thead th {\n        text-align: right;\n    }\n</style>\n<table border=\"1\" class=\"dataframe\">\n  <thead>\n    <tr style=\"text-align: right;\">\n      <th></th>\n      <th>PassengerId</th>\n      <th>Survived</th>\n      <th>Pclass</th>\n      <th>Name</th>\n      <th>Sex</th>\n      <th>Age</th>\n      <th>SibSp</th>\n      <th>Parch</th>\n      <th>Ticket</th>\n      <th>Fare</th>\n      <th>Cabin</th>\n      <th>Embarked</th>\n      <th>is_Mr</th>\n    </tr>\n  </thead>\n  <tbody>\n    <tr>\n      <th>54</th>\n      <td>55</td>\n      <td>0</td>\n      <td>1</td>\n      <td>Ostby, Mr. Engelhart Cornelius</td>\n      <td>male</td>\n      <td>65.0</td>\n      <td>0</td>\n      <td>1</td>\n      <td>113509</td>\n      <td>61.9792</td>\n      <td>B30</td>\n      <td>C</td>\n      <td>True</td>\n    </tr>\n    <tr>\n      <th>55</th>\n      <td>56</td>\n      <td>1</td>\n      <td>1</td>\n      <td>Woolner, Mr. Hugh</td>\n      <td>male</td>\n      <td>NaN</td>\n      <td>0</td>\n      <td>0</td>\n      <td>19947</td>\n      <td>35.5000</td>\n      <td>C52</td>\n      <td>S</td>\n      <td>True</td>\n    </tr>\n    <tr>\n      <th>56</th>\n      <td>57</td>\n      <td>1</td>\n      <td>2</td>\n      <td>Rugg, Miss. Emily</td>\n      <td>female</td>\n      <td>21.0</td>\n      <td>0</td>\n      <td>0</td>\n      <td>C.A. 31026</td>\n      <td>10.5000</td>\n      <td>NaN</td>\n      <td>S</td>\n      <td>False</td>\n    </tr>\n    <tr>\n      <th>57</th>\n      <td>58</td>\n      <td>0</td>\n      <td>3</td>\n      <td>Novel, Mr. Mansouer</td>\n      <td>male</td>\n      <td>28.5</td>\n      <td>0</td>\n      <td>0</td>\n      <td>2697</td>\n      <td>7.2292</td>\n      <td>NaN</td>\n      <td>C</td>\n      <td>True</td>\n    </tr>\n    <tr>\n      <th>58</th>\n      <td>59</td>\n      <td>1</td>\n      <td>2</td>\n      <td>West, Miss. Constance Mirium</td>\n      <td>female</td>\n      <td>5.0</td>\n      <td>1</td>\n      <td>2</td>\n      <td>C.A. 34651</td>\n      <td>27.7500</td>\n      <td>NaN</td>\n      <td>S</td>\n      <td>False</td>\n    </tr>\n    <tr>\n      <th>...</th>\n      <td>...</td>\n      <td>...</td>\n      <td>...</td>\n      <td>...</td>\n      <td>...</td>\n      <td>...</td>\n      <td>...</td>\n      <td>...</td>\n      <td>...</td>\n      <td>...</td>\n      <td>...</td>\n      <td>...</td>\n      <td>...</td>\n    </tr>\n    <tr>\n      <th>111</th>\n      <td>112</td>\n      <td>0</td>\n      <td>3</td>\n      <td>Zabour, Miss. Hileni</td>\n      <td>female</td>\n      <td>14.5</td>\n      <td>1</td>\n      <td>0</td>\n      <td>2665</td>\n      <td>14.4542</td>\n      <td>NaN</td>\n      <td>C</td>\n      <td>False</td>\n    </tr>\n    <tr>\n      <th>112</th>\n      <td>113</td>\n      <td>0</td>\n      <td>3</td>\n      <td>Barton, Mr. David John</td>\n      <td>male</td>\n      <td>22.0</td>\n      <td>0</td>\n      <td>0</td>\n      <td>324669</td>\n      <td>8.0500</td>\n      <td>NaN</td>\n      <td>S</td>\n      <td>True</td>\n    </tr>\n    <tr>\n      <th>113</th>\n      <td>114</td>\n      <td>0</td>\n      <td>3</td>\n      <td>Jussila, Miss. Katriina</td>\n      <td>female</td>\n      <td>20.0</td>\n      <td>1</td>\n      <td>0</td>\n      <td>4136</td>\n      <td>9.8250</td>\n      <td>NaN</td>\n      <td>S</td>\n      <td>False</td>\n    </tr>\n    <tr>\n      <th>114</th>\n      <td>115</td>\n      <td>0</td>\n      <td>3</td>\n      <td>Attalah, Miss. Malake</td>\n      <td>female</td>\n      <td>17.0</td>\n      <td>0</td>\n      <td>0</td>\n      <td>2627</td>\n      <td>14.4583</td>\n      <td>NaN</td>\n      <td>C</td>\n      <td>False</td>\n    </tr>\n    <tr>\n      <th>115</th>\n      <td>116</td>\n      <td>0</td>\n      <td>3</td>\n      <td>Pekoniemi, Mr. Edvard</td>\n      <td>male</td>\n      <td>21.0</td>\n      <td>0</td>\n      <td>0</td>\n      <td>STON/O 2. 3101294</td>\n      <td>7.9250</td>\n      <td>NaN</td>\n      <td>S</td>\n      <td>True</td>\n    </tr>\n  </tbody>\n</table>\n<p>62 rows × 13 columns</p>\n</div>"
     },
     "execution_count": 34,
     "metadata": {},
     "output_type": "execute_result"
    }
   ],
   "source": [
    "tmp"
   ],
   "metadata": {
    "collapsed": false,
    "pycharm": {
     "name": "#%%\n"
    }
   }
  },
  {
   "cell_type": "code",
   "execution_count": 35,
   "outputs": [
    {
     "data": {
      "text/plain": "    Pclass                 Name     Sex   Age  SibSp  Parch\n55       1    Woolner, Mr. Hugh    male   NaN      0      0\n56       2    Rugg, Miss. Emily  female  21.0      0      0\n57       3  Novel, Mr. Mansouer    male  28.5      0      0",
      "text/html": "<div>\n<style scoped>\n    .dataframe tbody tr th:only-of-type {\n        vertical-align: middle;\n    }\n\n    .dataframe tbody tr th {\n        vertical-align: top;\n    }\n\n    .dataframe thead th {\n        text-align: right;\n    }\n</style>\n<table border=\"1\" class=\"dataframe\">\n  <thead>\n    <tr style=\"text-align: right;\">\n      <th></th>\n      <th>Pclass</th>\n      <th>Name</th>\n      <th>Sex</th>\n      <th>Age</th>\n      <th>SibSp</th>\n      <th>Parch</th>\n    </tr>\n  </thead>\n  <tbody>\n    <tr>\n      <th>55</th>\n      <td>1</td>\n      <td>Woolner, Mr. Hugh</td>\n      <td>male</td>\n      <td>NaN</td>\n      <td>0</td>\n      <td>0</td>\n    </tr>\n    <tr>\n      <th>56</th>\n      <td>2</td>\n      <td>Rugg, Miss. Emily</td>\n      <td>female</td>\n      <td>21.0</td>\n      <td>0</td>\n      <td>0</td>\n    </tr>\n    <tr>\n      <th>57</th>\n      <td>3</td>\n      <td>Novel, Mr. Mansouer</td>\n      <td>male</td>\n      <td>28.5</td>\n      <td>0</td>\n      <td>0</td>\n    </tr>\n  </tbody>\n</table>\n</div>"
     },
     "execution_count": 35,
     "metadata": {},
     "output_type": "execute_result"
    }
   ],
   "source": [
    "tmp.iloc[1:4, 2:8] # Вот сделали срез по столбцам (можно и по названиям столбоц)"
   ],
   "metadata": {
    "collapsed": false,
    "pycharm": {
     "name": "#%%\n"
    }
   }
  },
  {
   "cell_type": "code",
   "execution_count": 36,
   "outputs": [
    {
     "data": {
      "text/plain": "     PassengerId  Survived  Pclass                                   Name  \\\n845          846         0       3                    Abbing, Mr. Anthony   \n746          747         0       3            Abbott, Mr. Rossmore Edward   \n279          280         1       3       Abbott, Mrs. Stanton (Rosa Hunt)   \n308          309         0       2                    Abelson, Mr. Samuel   \n874          875         1       2  Abelson, Mrs. Samuel (Hannah Wizosky)   \n..           ...       ...     ...                                    ...   \n286          287         1       3                de Mulder, Mr. Theodore   \n282          283         0       3              de Pelsmaeker, Mr. Alfons   \n361          362         0       2              del Carlo, Mr. Sebastiano   \n153          154         0       3        van Billiard, Mr. Austin Blyler   \n868          869         0       3            van Melkebeke, Mr. Philemon   \n\n        Sex   Age  SibSp  Parch         Ticket     Fare Cabin Embarked  is_Mr  \n845    male  42.0      0      0      C.A. 5547   7.5500   NaN        S   True  \n746    male  16.0      1      1      C.A. 2673  20.2500   NaN        S   True  \n279  female  35.0      1      1      C.A. 2673  20.2500   NaN        S  False  \n308    male  30.0      1      0      P/PP 3381  24.0000   NaN        C   True  \n874  female  28.0      1      0      P/PP 3381  24.0000   NaN        C  False  \n..      ...   ...    ...    ...            ...      ...   ...      ...    ...  \n286    male  30.0      0      0         345774   9.5000   NaN        S   True  \n282    male  16.0      0      0         345778   9.5000   NaN        S   True  \n361    male  29.0      1      0  SC/PARIS 2167  27.7208   NaN        C   True  \n153    male  40.5      0      2       A/5. 851  14.5000   NaN        S   True  \n868    male   NaN      0      0         345777   9.5000   NaN        S   True  \n\n[891 rows x 13 columns]",
      "text/html": "<div>\n<style scoped>\n    .dataframe tbody tr th:only-of-type {\n        vertical-align: middle;\n    }\n\n    .dataframe tbody tr th {\n        vertical-align: top;\n    }\n\n    .dataframe thead th {\n        text-align: right;\n    }\n</style>\n<table border=\"1\" class=\"dataframe\">\n  <thead>\n    <tr style=\"text-align: right;\">\n      <th></th>\n      <th>PassengerId</th>\n      <th>Survived</th>\n      <th>Pclass</th>\n      <th>Name</th>\n      <th>Sex</th>\n      <th>Age</th>\n      <th>SibSp</th>\n      <th>Parch</th>\n      <th>Ticket</th>\n      <th>Fare</th>\n      <th>Cabin</th>\n      <th>Embarked</th>\n      <th>is_Mr</th>\n    </tr>\n  </thead>\n  <tbody>\n    <tr>\n      <th>845</th>\n      <td>846</td>\n      <td>0</td>\n      <td>3</td>\n      <td>Abbing, Mr. Anthony</td>\n      <td>male</td>\n      <td>42.0</td>\n      <td>0</td>\n      <td>0</td>\n      <td>C.A. 5547</td>\n      <td>7.5500</td>\n      <td>NaN</td>\n      <td>S</td>\n      <td>True</td>\n    </tr>\n    <tr>\n      <th>746</th>\n      <td>747</td>\n      <td>0</td>\n      <td>3</td>\n      <td>Abbott, Mr. Rossmore Edward</td>\n      <td>male</td>\n      <td>16.0</td>\n      <td>1</td>\n      <td>1</td>\n      <td>C.A. 2673</td>\n      <td>20.2500</td>\n      <td>NaN</td>\n      <td>S</td>\n      <td>True</td>\n    </tr>\n    <tr>\n      <th>279</th>\n      <td>280</td>\n      <td>1</td>\n      <td>3</td>\n      <td>Abbott, Mrs. Stanton (Rosa Hunt)</td>\n      <td>female</td>\n      <td>35.0</td>\n      <td>1</td>\n      <td>1</td>\n      <td>C.A. 2673</td>\n      <td>20.2500</td>\n      <td>NaN</td>\n      <td>S</td>\n      <td>False</td>\n    </tr>\n    <tr>\n      <th>308</th>\n      <td>309</td>\n      <td>0</td>\n      <td>2</td>\n      <td>Abelson, Mr. Samuel</td>\n      <td>male</td>\n      <td>30.0</td>\n      <td>1</td>\n      <td>0</td>\n      <td>P/PP 3381</td>\n      <td>24.0000</td>\n      <td>NaN</td>\n      <td>C</td>\n      <td>True</td>\n    </tr>\n    <tr>\n      <th>874</th>\n      <td>875</td>\n      <td>1</td>\n      <td>2</td>\n      <td>Abelson, Mrs. Samuel (Hannah Wizosky)</td>\n      <td>female</td>\n      <td>28.0</td>\n      <td>1</td>\n      <td>0</td>\n      <td>P/PP 3381</td>\n      <td>24.0000</td>\n      <td>NaN</td>\n      <td>C</td>\n      <td>False</td>\n    </tr>\n    <tr>\n      <th>...</th>\n      <td>...</td>\n      <td>...</td>\n      <td>...</td>\n      <td>...</td>\n      <td>...</td>\n      <td>...</td>\n      <td>...</td>\n      <td>...</td>\n      <td>...</td>\n      <td>...</td>\n      <td>...</td>\n      <td>...</td>\n      <td>...</td>\n    </tr>\n    <tr>\n      <th>286</th>\n      <td>287</td>\n      <td>1</td>\n      <td>3</td>\n      <td>de Mulder, Mr. Theodore</td>\n      <td>male</td>\n      <td>30.0</td>\n      <td>0</td>\n      <td>0</td>\n      <td>345774</td>\n      <td>9.5000</td>\n      <td>NaN</td>\n      <td>S</td>\n      <td>True</td>\n    </tr>\n    <tr>\n      <th>282</th>\n      <td>283</td>\n      <td>0</td>\n      <td>3</td>\n      <td>de Pelsmaeker, Mr. Alfons</td>\n      <td>male</td>\n      <td>16.0</td>\n      <td>0</td>\n      <td>0</td>\n      <td>345778</td>\n      <td>9.5000</td>\n      <td>NaN</td>\n      <td>S</td>\n      <td>True</td>\n    </tr>\n    <tr>\n      <th>361</th>\n      <td>362</td>\n      <td>0</td>\n      <td>2</td>\n      <td>del Carlo, Mr. Sebastiano</td>\n      <td>male</td>\n      <td>29.0</td>\n      <td>1</td>\n      <td>0</td>\n      <td>SC/PARIS 2167</td>\n      <td>27.7208</td>\n      <td>NaN</td>\n      <td>C</td>\n      <td>True</td>\n    </tr>\n    <tr>\n      <th>153</th>\n      <td>154</td>\n      <td>0</td>\n      <td>3</td>\n      <td>van Billiard, Mr. Austin Blyler</td>\n      <td>male</td>\n      <td>40.5</td>\n      <td>0</td>\n      <td>2</td>\n      <td>A/5. 851</td>\n      <td>14.5000</td>\n      <td>NaN</td>\n      <td>S</td>\n      <td>True</td>\n    </tr>\n    <tr>\n      <th>868</th>\n      <td>869</td>\n      <td>0</td>\n      <td>3</td>\n      <td>van Melkebeke, Mr. Philemon</td>\n      <td>male</td>\n      <td>NaN</td>\n      <td>0</td>\n      <td>0</td>\n      <td>345777</td>\n      <td>9.5000</td>\n      <td>NaN</td>\n      <td>S</td>\n      <td>True</td>\n    </tr>\n  </tbody>\n</table>\n<p>891 rows × 13 columns</p>\n</div>"
     },
     "execution_count": 36,
     "metadata": {},
     "output_type": "execute_result"
    }
   ],
   "source": [
    "train.sort_values('Name') # Сортировка по имени"
   ],
   "metadata": {
    "collapsed": false,
    "pycharm": {
     "name": "#%%\n"
    }
   }
  },
  {
   "cell_type": "code",
   "execution_count": 37,
   "outputs": [
    {
     "data": {
      "text/plain": "     PassengerId  Survived  Pclass                                Name  \\\n258          259         1       1                    Ward, Miss. Anna   \n737          738         1       1              Lesurer, Mr. Gustave J   \n679          680         1       1  Cardeza, Mr. Thomas Drake Martinez   \n88            89         1       1          Fortune, Miss. Mabel Helen   \n27            28         0       1      Fortune, Mr. Charles Alexander   \n..           ...       ...     ...                                 ...   \n633          634         0       1       Parr, Mr. William Henry Marsh   \n413          414         0       2      Cunningham, Mr. Alfred Fleming   \n822          823         0       1     Reuchlin, Jonkheer. John George   \n732          733         0       2                Knight, Mr. Robert J   \n674          675         0       2          Watson, Mr. Ennis Hastings   \n\n        Sex   Age  SibSp  Parch    Ticket      Fare        Cabin Embarked  \\\n258  female  35.0      0      0  PC 17755  512.3292          NaN        C   \n737    male  35.0      0      0  PC 17755  512.3292         B101        C   \n679    male  36.0      0      1  PC 17755  512.3292  B51 B53 B55        C   \n88   female  23.0      3      2     19950  263.0000  C23 C25 C27        S   \n27     male  19.0      3      2     19950  263.0000  C23 C25 C27        S   \n..      ...   ...    ...    ...       ...       ...          ...      ...   \n633    male   NaN      0      0    112052    0.0000          NaN        S   \n413    male   NaN      0      0    239853    0.0000          NaN        S   \n822    male  38.0      0      0     19972    0.0000          NaN        S   \n732    male   NaN      0      0    239855    0.0000          NaN        S   \n674    male   NaN      0      0    239856    0.0000          NaN        S   \n\n     is_Mr  \n258  False  \n737   True  \n679   True  \n88   False  \n27    True  \n..     ...  \n633   True  \n413   True  \n822  False  \n732   True  \n674   True  \n\n[891 rows x 13 columns]",
      "text/html": "<div>\n<style scoped>\n    .dataframe tbody tr th:only-of-type {\n        vertical-align: middle;\n    }\n\n    .dataframe tbody tr th {\n        vertical-align: top;\n    }\n\n    .dataframe thead th {\n        text-align: right;\n    }\n</style>\n<table border=\"1\" class=\"dataframe\">\n  <thead>\n    <tr style=\"text-align: right;\">\n      <th></th>\n      <th>PassengerId</th>\n      <th>Survived</th>\n      <th>Pclass</th>\n      <th>Name</th>\n      <th>Sex</th>\n      <th>Age</th>\n      <th>SibSp</th>\n      <th>Parch</th>\n      <th>Ticket</th>\n      <th>Fare</th>\n      <th>Cabin</th>\n      <th>Embarked</th>\n      <th>is_Mr</th>\n    </tr>\n  </thead>\n  <tbody>\n    <tr>\n      <th>258</th>\n      <td>259</td>\n      <td>1</td>\n      <td>1</td>\n      <td>Ward, Miss. Anna</td>\n      <td>female</td>\n      <td>35.0</td>\n      <td>0</td>\n      <td>0</td>\n      <td>PC 17755</td>\n      <td>512.3292</td>\n      <td>NaN</td>\n      <td>C</td>\n      <td>False</td>\n    </tr>\n    <tr>\n      <th>737</th>\n      <td>738</td>\n      <td>1</td>\n      <td>1</td>\n      <td>Lesurer, Mr. Gustave J</td>\n      <td>male</td>\n      <td>35.0</td>\n      <td>0</td>\n      <td>0</td>\n      <td>PC 17755</td>\n      <td>512.3292</td>\n      <td>B101</td>\n      <td>C</td>\n      <td>True</td>\n    </tr>\n    <tr>\n      <th>679</th>\n      <td>680</td>\n      <td>1</td>\n      <td>1</td>\n      <td>Cardeza, Mr. Thomas Drake Martinez</td>\n      <td>male</td>\n      <td>36.0</td>\n      <td>0</td>\n      <td>1</td>\n      <td>PC 17755</td>\n      <td>512.3292</td>\n      <td>B51 B53 B55</td>\n      <td>C</td>\n      <td>True</td>\n    </tr>\n    <tr>\n      <th>88</th>\n      <td>89</td>\n      <td>1</td>\n      <td>1</td>\n      <td>Fortune, Miss. Mabel Helen</td>\n      <td>female</td>\n      <td>23.0</td>\n      <td>3</td>\n      <td>2</td>\n      <td>19950</td>\n      <td>263.0000</td>\n      <td>C23 C25 C27</td>\n      <td>S</td>\n      <td>False</td>\n    </tr>\n    <tr>\n      <th>27</th>\n      <td>28</td>\n      <td>0</td>\n      <td>1</td>\n      <td>Fortune, Mr. Charles Alexander</td>\n      <td>male</td>\n      <td>19.0</td>\n      <td>3</td>\n      <td>2</td>\n      <td>19950</td>\n      <td>263.0000</td>\n      <td>C23 C25 C27</td>\n      <td>S</td>\n      <td>True</td>\n    </tr>\n    <tr>\n      <th>...</th>\n      <td>...</td>\n      <td>...</td>\n      <td>...</td>\n      <td>...</td>\n      <td>...</td>\n      <td>...</td>\n      <td>...</td>\n      <td>...</td>\n      <td>...</td>\n      <td>...</td>\n      <td>...</td>\n      <td>...</td>\n      <td>...</td>\n    </tr>\n    <tr>\n      <th>633</th>\n      <td>634</td>\n      <td>0</td>\n      <td>1</td>\n      <td>Parr, Mr. William Henry Marsh</td>\n      <td>male</td>\n      <td>NaN</td>\n      <td>0</td>\n      <td>0</td>\n      <td>112052</td>\n      <td>0.0000</td>\n      <td>NaN</td>\n      <td>S</td>\n      <td>True</td>\n    </tr>\n    <tr>\n      <th>413</th>\n      <td>414</td>\n      <td>0</td>\n      <td>2</td>\n      <td>Cunningham, Mr. Alfred Fleming</td>\n      <td>male</td>\n      <td>NaN</td>\n      <td>0</td>\n      <td>0</td>\n      <td>239853</td>\n      <td>0.0000</td>\n      <td>NaN</td>\n      <td>S</td>\n      <td>True</td>\n    </tr>\n    <tr>\n      <th>822</th>\n      <td>823</td>\n      <td>0</td>\n      <td>1</td>\n      <td>Reuchlin, Jonkheer. John George</td>\n      <td>male</td>\n      <td>38.0</td>\n      <td>0</td>\n      <td>0</td>\n      <td>19972</td>\n      <td>0.0000</td>\n      <td>NaN</td>\n      <td>S</td>\n      <td>False</td>\n    </tr>\n    <tr>\n      <th>732</th>\n      <td>733</td>\n      <td>0</td>\n      <td>2</td>\n      <td>Knight, Mr. Robert J</td>\n      <td>male</td>\n      <td>NaN</td>\n      <td>0</td>\n      <td>0</td>\n      <td>239855</td>\n      <td>0.0000</td>\n      <td>NaN</td>\n      <td>S</td>\n      <td>True</td>\n    </tr>\n    <tr>\n      <th>674</th>\n      <td>675</td>\n      <td>0</td>\n      <td>2</td>\n      <td>Watson, Mr. Ennis Hastings</td>\n      <td>male</td>\n      <td>NaN</td>\n      <td>0</td>\n      <td>0</td>\n      <td>239856</td>\n      <td>0.0000</td>\n      <td>NaN</td>\n      <td>S</td>\n      <td>True</td>\n    </tr>\n  </tbody>\n</table>\n<p>891 rows × 13 columns</p>\n</div>"
     },
     "execution_count": 37,
     "metadata": {},
     "output_type": "execute_result"
    }
   ],
   "source": [
    "train.sort_values('Fare', ascending=False) # Сортируем в обратном порядке"
   ],
   "metadata": {
    "collapsed": false,
    "pycharm": {
     "name": "#%%\n"
    }
   }
  },
  {
   "cell_type": "code",
   "execution_count": 38,
   "outputs": [],
   "source": [
    "df_embarked = pd.DataFrame(\n",
    "    [\n",
    "        ['C', \"Chebourg\"],\n",
    "        ['Q', 'Queenstown'],\n",
    "        ['S', 'Southampton']\n",
    "    ]\n",
    "    , columns=['id', 'City']\n",
    ")"
   ],
   "metadata": {
    "collapsed": false,
    "pycharm": {
     "name": "#%%\n"
    }
   }
  },
  {
   "cell_type": "code",
   "execution_count": 39,
   "outputs": [
    {
     "data": {
      "text/plain": "  id         City\n0  C     Chebourg\n1  Q   Queenstown\n2  S  Southampton",
      "text/html": "<div>\n<style scoped>\n    .dataframe tbody tr th:only-of-type {\n        vertical-align: middle;\n    }\n\n    .dataframe tbody tr th {\n        vertical-align: top;\n    }\n\n    .dataframe thead th {\n        text-align: right;\n    }\n</style>\n<table border=\"1\" class=\"dataframe\">\n  <thead>\n    <tr style=\"text-align: right;\">\n      <th></th>\n      <th>id</th>\n      <th>City</th>\n    </tr>\n  </thead>\n  <tbody>\n    <tr>\n      <th>0</th>\n      <td>C</td>\n      <td>Chebourg</td>\n    </tr>\n    <tr>\n      <th>1</th>\n      <td>Q</td>\n      <td>Queenstown</td>\n    </tr>\n    <tr>\n      <th>2</th>\n      <td>S</td>\n      <td>Southampton</td>\n    </tr>\n  </tbody>\n</table>\n</div>"
     },
     "execution_count": 39,
     "metadata": {},
     "output_type": "execute_result"
    }
   ],
   "source": [
    "df_embarked"
   ],
   "metadata": {
    "collapsed": false,
    "pycharm": {
     "name": "#%%\n"
    }
   }
  },
  {
   "cell_type": "code",
   "execution_count": 40,
   "outputs": [
    {
     "data": {
      "text/plain": "     PassengerId  Survived  Pclass  \\\n0              1         0       3   \n1              3         1       3   \n2              4         1       1   \n3              5         0       3   \n4              7         0       1   \n..           ...       ...     ...   \n884          791         0       3   \n885          826         0       3   \n886          829         1       3   \n887          886         0       3   \n888          891         0       3   \n\n                                             Name     Sex   Age  SibSp  Parch  \\\n0                         Braund, Mr. Owen Harris    male  22.0      1      0   \n1                          Heikkinen, Miss. Laina  female  26.0      0      0   \n2    Futrelle, Mrs. Jacques Heath (Lily May Peel)  female  35.0      1      0   \n3                        Allen, Mr. William Henry    male  35.0      0      0   \n4                         McCarthy, Mr. Timothy J    male  54.0      0      0   \n..                                            ...     ...   ...    ...    ...   \n884                      Keane, Mr. Andrew \"Andy\"    male   NaN      0      0   \n885                               Flynn, Mr. John    male   NaN      0      0   \n886                  McCormack, Mr. Thomas Joseph    male   NaN      0      0   \n887          Rice, Mrs. William (Margaret Norton)  female  39.0      0      5   \n888                           Dooley, Mr. Patrick    male  32.0      0      0   \n\n               Ticket     Fare Cabin Embarked  is_Mr id         City  \n0           A/5 21171   7.2500   NaN        S   True  S  Southampton  \n1    STON/O2. 3101282   7.9250   NaN        S  False  S  Southampton  \n2              113803  53.1000  C123        S  False  S  Southampton  \n3              373450   8.0500   NaN        S   True  S  Southampton  \n4               17463  51.8625   E46        S   True  S  Southampton  \n..                ...      ...   ...      ...    ... ..          ...  \n884             12460   7.7500   NaN        Q   True  Q   Queenstown  \n885            368323   6.9500   NaN        Q   True  Q   Queenstown  \n886            367228   7.7500   NaN        Q   True  Q   Queenstown  \n887            382652  29.1250   NaN        Q  False  Q   Queenstown  \n888            370376   7.7500   NaN        Q   True  Q   Queenstown  \n\n[889 rows x 15 columns]",
      "text/html": "<div>\n<style scoped>\n    .dataframe tbody tr th:only-of-type {\n        vertical-align: middle;\n    }\n\n    .dataframe tbody tr th {\n        vertical-align: top;\n    }\n\n    .dataframe thead th {\n        text-align: right;\n    }\n</style>\n<table border=\"1\" class=\"dataframe\">\n  <thead>\n    <tr style=\"text-align: right;\">\n      <th></th>\n      <th>PassengerId</th>\n      <th>Survived</th>\n      <th>Pclass</th>\n      <th>Name</th>\n      <th>Sex</th>\n      <th>Age</th>\n      <th>SibSp</th>\n      <th>Parch</th>\n      <th>Ticket</th>\n      <th>Fare</th>\n      <th>Cabin</th>\n      <th>Embarked</th>\n      <th>is_Mr</th>\n      <th>id</th>\n      <th>City</th>\n    </tr>\n  </thead>\n  <tbody>\n    <tr>\n      <th>0</th>\n      <td>1</td>\n      <td>0</td>\n      <td>3</td>\n      <td>Braund, Mr. Owen Harris</td>\n      <td>male</td>\n      <td>22.0</td>\n      <td>1</td>\n      <td>0</td>\n      <td>A/5 21171</td>\n      <td>7.2500</td>\n      <td>NaN</td>\n      <td>S</td>\n      <td>True</td>\n      <td>S</td>\n      <td>Southampton</td>\n    </tr>\n    <tr>\n      <th>1</th>\n      <td>3</td>\n      <td>1</td>\n      <td>3</td>\n      <td>Heikkinen, Miss. Laina</td>\n      <td>female</td>\n      <td>26.0</td>\n      <td>0</td>\n      <td>0</td>\n      <td>STON/O2. 3101282</td>\n      <td>7.9250</td>\n      <td>NaN</td>\n      <td>S</td>\n      <td>False</td>\n      <td>S</td>\n      <td>Southampton</td>\n    </tr>\n    <tr>\n      <th>2</th>\n      <td>4</td>\n      <td>1</td>\n      <td>1</td>\n      <td>Futrelle, Mrs. Jacques Heath (Lily May Peel)</td>\n      <td>female</td>\n      <td>35.0</td>\n      <td>1</td>\n      <td>0</td>\n      <td>113803</td>\n      <td>53.1000</td>\n      <td>C123</td>\n      <td>S</td>\n      <td>False</td>\n      <td>S</td>\n      <td>Southampton</td>\n    </tr>\n    <tr>\n      <th>3</th>\n      <td>5</td>\n      <td>0</td>\n      <td>3</td>\n      <td>Allen, Mr. William Henry</td>\n      <td>male</td>\n      <td>35.0</td>\n      <td>0</td>\n      <td>0</td>\n      <td>373450</td>\n      <td>8.0500</td>\n      <td>NaN</td>\n      <td>S</td>\n      <td>True</td>\n      <td>S</td>\n      <td>Southampton</td>\n    </tr>\n    <tr>\n      <th>4</th>\n      <td>7</td>\n      <td>0</td>\n      <td>1</td>\n      <td>McCarthy, Mr. Timothy J</td>\n      <td>male</td>\n      <td>54.0</td>\n      <td>0</td>\n      <td>0</td>\n      <td>17463</td>\n      <td>51.8625</td>\n      <td>E46</td>\n      <td>S</td>\n      <td>True</td>\n      <td>S</td>\n      <td>Southampton</td>\n    </tr>\n    <tr>\n      <th>...</th>\n      <td>...</td>\n      <td>...</td>\n      <td>...</td>\n      <td>...</td>\n      <td>...</td>\n      <td>...</td>\n      <td>...</td>\n      <td>...</td>\n      <td>...</td>\n      <td>...</td>\n      <td>...</td>\n      <td>...</td>\n      <td>...</td>\n      <td>...</td>\n      <td>...</td>\n    </tr>\n    <tr>\n      <th>884</th>\n      <td>791</td>\n      <td>0</td>\n      <td>3</td>\n      <td>Keane, Mr. Andrew \"Andy\"</td>\n      <td>male</td>\n      <td>NaN</td>\n      <td>0</td>\n      <td>0</td>\n      <td>12460</td>\n      <td>7.7500</td>\n      <td>NaN</td>\n      <td>Q</td>\n      <td>True</td>\n      <td>Q</td>\n      <td>Queenstown</td>\n    </tr>\n    <tr>\n      <th>885</th>\n      <td>826</td>\n      <td>0</td>\n      <td>3</td>\n      <td>Flynn, Mr. John</td>\n      <td>male</td>\n      <td>NaN</td>\n      <td>0</td>\n      <td>0</td>\n      <td>368323</td>\n      <td>6.9500</td>\n      <td>NaN</td>\n      <td>Q</td>\n      <td>True</td>\n      <td>Q</td>\n      <td>Queenstown</td>\n    </tr>\n    <tr>\n      <th>886</th>\n      <td>829</td>\n      <td>1</td>\n      <td>3</td>\n      <td>McCormack, Mr. Thomas Joseph</td>\n      <td>male</td>\n      <td>NaN</td>\n      <td>0</td>\n      <td>0</td>\n      <td>367228</td>\n      <td>7.7500</td>\n      <td>NaN</td>\n      <td>Q</td>\n      <td>True</td>\n      <td>Q</td>\n      <td>Queenstown</td>\n    </tr>\n    <tr>\n      <th>887</th>\n      <td>886</td>\n      <td>0</td>\n      <td>3</td>\n      <td>Rice, Mrs. William (Margaret Norton)</td>\n      <td>female</td>\n      <td>39.0</td>\n      <td>0</td>\n      <td>5</td>\n      <td>382652</td>\n      <td>29.1250</td>\n      <td>NaN</td>\n      <td>Q</td>\n      <td>False</td>\n      <td>Q</td>\n      <td>Queenstown</td>\n    </tr>\n    <tr>\n      <th>888</th>\n      <td>891</td>\n      <td>0</td>\n      <td>3</td>\n      <td>Dooley, Mr. Patrick</td>\n      <td>male</td>\n      <td>32.0</td>\n      <td>0</td>\n      <td>0</td>\n      <td>370376</td>\n      <td>7.7500</td>\n      <td>NaN</td>\n      <td>Q</td>\n      <td>True</td>\n      <td>Q</td>\n      <td>Queenstown</td>\n    </tr>\n  </tbody>\n</table>\n<p>889 rows × 15 columns</p>\n</div>"
     },
     "execution_count": 40,
     "metadata": {},
     "output_type": "execute_result"
    }
   ],
   "source": [
    "pd.merge( #Можно провести слияние\n",
    "    train,\n",
    "    df_embarked,\n",
    "    left_on='Embarked',\n",
    "    right_on='id'\n",
    ")"
   ],
   "metadata": {
    "collapsed": false,
    "pycharm": {
     "name": "#%%\n"
    }
   }
  },
  {
   "cell_type": "code",
   "execution_count": 41,
   "outputs": [
    {
     "data": {
      "text/plain": "'GroupBy'"
     },
     "execution_count": 41,
     "metadata": {},
     "output_type": "execute_result"
    }
   ],
   "source": [
    "\"\"\"GroupBy\"\"\""
   ],
   "metadata": {
    "collapsed": false,
    "pycharm": {
     "name": "#%%\n"
    }
   }
  },
  {
   "cell_type": "code",
   "execution_count": 42,
   "outputs": [
    {
     "data": {
      "text/plain": "        PassengerId\nSex                \nfemale          314\nmale            577",
      "text/html": "<div>\n<style scoped>\n    .dataframe tbody tr th:only-of-type {\n        vertical-align: middle;\n    }\n\n    .dataframe tbody tr th {\n        vertical-align: top;\n    }\n\n    .dataframe thead th {\n        text-align: right;\n    }\n</style>\n<table border=\"1\" class=\"dataframe\">\n  <thead>\n    <tr style=\"text-align: right;\">\n      <th></th>\n      <th>PassengerId</th>\n    </tr>\n    <tr>\n      <th>Sex</th>\n      <th></th>\n    </tr>\n  </thead>\n  <tbody>\n    <tr>\n      <th>female</th>\n      <td>314</td>\n    </tr>\n    <tr>\n      <th>male</th>\n      <td>577</td>\n    </tr>\n  </tbody>\n</table>\n</div>"
     },
     "execution_count": 42,
     "metadata": {},
     "output_type": "execute_result"
    }
   ],
   "source": [
    "train[['PassengerId', 'Sex']].groupby('Sex').count()"
   ],
   "metadata": {
    "collapsed": false,
    "pycharm": {
     "name": "#%%\n"
    }
   }
  },
  {
   "cell_type": "code",
   "execution_count": 43,
   "outputs": [
    {
     "data": {
      "text/plain": "         Age\nSex         \nfemale  27.0\nmale    29.0",
      "text/html": "<div>\n<style scoped>\n    .dataframe tbody tr th:only-of-type {\n        vertical-align: middle;\n    }\n\n    .dataframe tbody tr th {\n        vertical-align: top;\n    }\n\n    .dataframe thead th {\n        text-align: right;\n    }\n</style>\n<table border=\"1\" class=\"dataframe\">\n  <thead>\n    <tr style=\"text-align: right;\">\n      <th></th>\n      <th>Age</th>\n    </tr>\n    <tr>\n      <th>Sex</th>\n      <th></th>\n    </tr>\n  </thead>\n  <tbody>\n    <tr>\n      <th>female</th>\n      <td>27.0</td>\n    </tr>\n    <tr>\n      <th>male</th>\n      <td>29.0</td>\n    </tr>\n  </tbody>\n</table>\n</div>"
     },
     "execution_count": 43,
     "metadata": {},
     "output_type": "execute_result"
    }
   ],
   "source": [
    "train[['Age', 'Sex']].groupby('Sex').median()"
   ],
   "metadata": {
    "collapsed": false,
    "pycharm": {
     "name": "#%%\n"
    }
   }
  },
  {
   "cell_type": "code",
   "execution_count": 44,
   "outputs": [
    {
     "data": {
      "text/plain": "'pivot_table (Сводные таблицы)'"
     },
     "execution_count": 44,
     "metadata": {},
     "output_type": "execute_result"
    }
   ],
   "source": [
    "\"\"\"pivot_table \"\"\" \"\"\"(Сводные таблицы)\"\"\""
   ],
   "metadata": {
    "collapsed": false,
    "pycharm": {
     "name": "#%%\n"
    }
   }
  },
  {
   "cell_type": "code",
   "execution_count": 45,
   "outputs": [],
   "source": [
    "d = train.pivot_table('PassengerId', 'Pclass', 'Survived', 'count') # Создаем сводную таблицу количества выживших людей по классу"
   ],
   "metadata": {
    "collapsed": false,
    "pycharm": {
     "name": "#%%\n"
    }
   }
  },
  {
   "cell_type": "code",
   "execution_count": 46,
   "outputs": [
    {
     "data": {
      "text/plain": "Survived    0    1\nPclass            \n1          80  136\n2          97   87\n3         372  119",
      "text/html": "<div>\n<style scoped>\n    .dataframe tbody tr th:only-of-type {\n        vertical-align: middle;\n    }\n\n    .dataframe tbody tr th {\n        vertical-align: top;\n    }\n\n    .dataframe thead th {\n        text-align: right;\n    }\n</style>\n<table border=\"1\" class=\"dataframe\">\n  <thead>\n    <tr style=\"text-align: right;\">\n      <th>Survived</th>\n      <th>0</th>\n      <th>1</th>\n    </tr>\n    <tr>\n      <th>Pclass</th>\n      <th></th>\n      <th></th>\n    </tr>\n  </thead>\n  <tbody>\n    <tr>\n      <th>1</th>\n      <td>80</td>\n      <td>136</td>\n    </tr>\n    <tr>\n      <th>2</th>\n      <td>97</td>\n      <td>87</td>\n    </tr>\n    <tr>\n      <th>3</th>\n      <td>372</td>\n      <td>119</td>\n    </tr>\n  </tbody>\n</table>\n</div>"
     },
     "execution_count": 46,
     "metadata": {},
     "output_type": "execute_result"
    }
   ],
   "source": [
    "d"
   ],
   "metadata": {
    "collapsed": false,
    "pycharm": {
     "name": "#%%\n"
    }
   }
  },
  {
   "cell_type": "code",
   "execution_count": 47,
   "outputs": [
    {
     "data": {
      "text/plain": "Survived         0         1\nPclass                      \n1         0.370370  0.629630\n2         0.527174  0.472826\n3         0.757637  0.242363",
      "text/html": "<div>\n<style scoped>\n    .dataframe tbody tr th:only-of-type {\n        vertical-align: middle;\n    }\n\n    .dataframe tbody tr th {\n        vertical-align: top;\n    }\n\n    .dataframe thead th {\n        text-align: right;\n    }\n</style>\n<table border=\"1\" class=\"dataframe\">\n  <thead>\n    <tr style=\"text-align: right;\">\n      <th>Survived</th>\n      <th>0</th>\n      <th>1</th>\n    </tr>\n    <tr>\n      <th>Pclass</th>\n      <th></th>\n      <th></th>\n    </tr>\n  </thead>\n  <tbody>\n    <tr>\n      <th>1</th>\n      <td>0.370370</td>\n      <td>0.629630</td>\n    </tr>\n    <tr>\n      <th>2</th>\n      <td>0.527174</td>\n      <td>0.472826</td>\n    </tr>\n    <tr>\n      <th>3</th>\n      <td>0.757637</td>\n      <td>0.242363</td>\n    </tr>\n  </tbody>\n</table>\n</div>"
     },
     "execution_count": 47,
     "metadata": {},
     "output_type": "execute_result"
    }
   ],
   "source": [
    "d.div(d.sum(1), axis='rows')"
   ],
   "metadata": {
    "collapsed": false,
    "pycharm": {
     "name": "#%%\n"
    }
   }
  },
  {
   "cell_type": "code",
   "execution_count": 48,
   "outputs": [
    {
     "data": {
      "text/plain": "pandas.core.frame.DataFrame"
     },
     "execution_count": 48,
     "metadata": {},
     "output_type": "execute_result"
    }
   ],
   "source": [
    "type(d)"
   ],
   "metadata": {
    "collapsed": false,
    "pycharm": {
     "name": "#%%\n"
    }
   }
  },
  {
   "cell_type": "code",
   "execution_count": 49,
   "outputs": [],
   "source": [
    "d = train.pivot_table('Age', 'Pclass', 'Survived', 'min') # Создаем сводную таблицу количества выживших людей по классу"
   ],
   "metadata": {
    "collapsed": false,
    "pycharm": {
     "name": "#%%\n"
    }
   }
  },
  {
   "cell_type": "code",
   "execution_count": 50,
   "outputs": [
    {
     "data": {
      "text/plain": "Survived     0     1\nPclass              \n1          2.0  0.92\n2         16.0  0.67\n3          1.0  0.42",
      "text/html": "<div>\n<style scoped>\n    .dataframe tbody tr th:only-of-type {\n        vertical-align: middle;\n    }\n\n    .dataframe tbody tr th {\n        vertical-align: top;\n    }\n\n    .dataframe thead th {\n        text-align: right;\n    }\n</style>\n<table border=\"1\" class=\"dataframe\">\n  <thead>\n    <tr style=\"text-align: right;\">\n      <th>Survived</th>\n      <th>0</th>\n      <th>1</th>\n    </tr>\n    <tr>\n      <th>Pclass</th>\n      <th></th>\n      <th></th>\n    </tr>\n  </thead>\n  <tbody>\n    <tr>\n      <th>1</th>\n      <td>2.0</td>\n      <td>0.92</td>\n    </tr>\n    <tr>\n      <th>2</th>\n      <td>16.0</td>\n      <td>0.67</td>\n    </tr>\n    <tr>\n      <th>3</th>\n      <td>1.0</td>\n      <td>0.42</td>\n    </tr>\n  </tbody>\n</table>\n</div>"
     },
     "execution_count": 50,
     "metadata": {},
     "output_type": "execute_result"
    }
   ],
   "source": [
    "d"
   ],
   "metadata": {
    "collapsed": false,
    "pycharm": {
     "name": "#%%\n"
    }
   }
  },
  {
   "cell_type": "code",
   "execution_count": 51,
   "outputs": [
    {
     "data": {
      "text/plain": "5.04"
     },
     "execution_count": 51,
     "metadata": {},
     "output_type": "execute_result"
    }
   ],
   "source": [
    "0.42*12"
   ],
   "metadata": {
    "collapsed": false,
    "pycharm": {
     "name": "#%%\n"
    }
   }
  },
  {
   "cell_type": "code",
   "execution_count": 52,
   "outputs": [
    {
     "data": {
      "text/plain": "1.24"
     },
     "execution_count": 52,
     "metadata": {},
     "output_type": "execute_result"
    }
   ],
   "source": [
    "0.04*31"
   ],
   "metadata": {
    "collapsed": false,
    "pycharm": {
     "name": "#%%\n"
    }
   }
  },
  {
   "cell_type": "code",
   "execution_count": 53,
   "outputs": [
    {
     "data": {
      "text/plain": "5.76"
     },
     "execution_count": 53,
     "metadata": {},
     "output_type": "execute_result"
    }
   ],
   "source": [
    "0.24*24"
   ],
   "metadata": {
    "collapsed": false,
    "pycharm": {
     "name": "#%%\n"
    }
   }
  },
  {
   "cell_type": "code",
   "execution_count": 54,
   "outputs": [
    {
     "data": {
      "text/plain": "45.6"
     },
     "execution_count": 54,
     "metadata": {},
     "output_type": "execute_result"
    }
   ],
   "source": [
    "0.76*60"
   ],
   "metadata": {
    "collapsed": false,
    "pycharm": {
     "name": "#%%\n"
    }
   }
  }
 ],
 "metadata": {
  "kernelspec": {
   "display_name": "Python 3",
   "language": "python",
   "name": "python3"
  },
  "language_info": {
   "codemirror_mode": {
    "name": "ipython",
    "version": 2
   },
   "file_extension": ".py",
   "mimetype": "text/x-python",
   "name": "python",
   "nbconvert_exporter": "python",
   "pygments_lexer": "ipython2",
   "version": "2.7.6"
  }
 },
 "nbformat": 4,
 "nbformat_minor": 0
}